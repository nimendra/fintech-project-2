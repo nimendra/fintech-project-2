{
 "metadata": {
  "language_info": {
   "codemirror_mode": {
    "name": "ipython",
    "version": 3
   },
   "file_extension": ".py",
   "mimetype": "text/x-python",
   "name": "python",
   "nbconvert_exporter": "python",
   "pygments_lexer": "ipython3",
   "version": "3.7.9-final"
  },
  "orig_nbformat": 2,
  "kernelspec": {
   "name": "python3",
   "display_name": "Python 3.7.9 64-bit ('p37env': conda)",
   "metadata": {
    "interpreter": {
     "hash": "88d86be733a9a448ab4216705ec79d5515b5f923491cd63b6a11efb829921b60"
    }
   }
  }
 },
 "nbformat": 4,
 "nbformat_minor": 2,
 "cells": [
  {
   "cell_type": "code",
   "execution_count": 53,
   "metadata": {},
   "outputs": [],
   "source": [
    "import tweepy\n",
    "import csv\n",
    "import pandas as pd\n",
    "import json\n",
    "\n",
    "from nltk.corpus import stopwords, reuters\n",
    "from nltk.tokenize import word_tokenize\n",
    "from nltk.stem import WordNetLemmatizer\n",
    "from wordcloud import WordCloud\n",
    "import re\n",
    "import matplotlib.pyplot as plt\n",
    "import datetime\n",
    "from ibm_watson import ToneAnalyzerV3\n",
    "from pandas import json_normalize\n",
    "from ibm_cloud_sdk_core.authenticators import IAMAuthenticator\n",
    "from dotenv import load_dotenv\n",
    "\n",
    "import nltk\n",
    "from nltk.sentiment.vader import SentimentIntensityAnalyzer\n",
    "\n",
    "all_tweets = []"
   ]
  },
  {
   "cell_type": "code",
   "execution_count": 54,
   "metadata": {},
   "outputs": [],
   "source": [
    "def load_vaccine_csv():\n",
    "    df = pd.read_csv('./covidvaccine.csv')\n",
    "    df = df[['user_name','user_location','user_followers',\t'user_friends',\t'user_favourites',\t'user_verified',\t'date',\t'text',\t'source']]\n",
    "    \n",
    "    # '18-08-2020 12:55'\n",
    "    # df.index = pd.to_datetime(df['date'])\n",
    "    # for managebility we remove the hashtag, but it might have a future use-case\n",
    "    # is_retweet is all False in this dataset\n",
    "    # df = df[df['is_retweet'] == False]\n",
    "    # df = df.dropna()\n",
    "    return df"
   ]
  },
  {
   "cell_type": "code",
   "execution_count": null,
   "metadata": {},
   "outputs": [],
   "source": []
  },
  {
   "cell_type": "code",
   "execution_count": 55,
   "metadata": {},
   "outputs": [],
   "source": [
    "def try_parse(dateString):\n",
    "    # return dateString\n",
    "    # print(dateString)\n",
    "    try:\n",
    "        return datetime.datetime.strptime(dateString, '%Y-%m-%d %H:%M:%S')\n",
    "    except Exception as e:\n",
    "        try:\n",
    "            return datetime.datetime.strptime(dateString, '%Y-%m-%d %H:%M')\n",
    "        except Exception as e:\n",
    "            try:\n",
    "                return datetime.datetime.strptime(dateString, '%d-%m-%Y %H:%M')\n",
    "            except Exception as e:\n",
    "                return datetime.datetime.strptime(dateString, '%d-%m-%Y %H:%M:%S')\n"
   ]
  },
  {
   "cell_type": "code",
   "execution_count": 56,
   "metadata": {
    "tags": []
   },
   "outputs": [
    {
     "output_type": "execute_result",
     "data": {
      "text/plain": [
       "                      user_name              user_location  user_followers  \\\n",
       "0                      MyNewsNE                      Assam            64.0   \n",
       "1                 Shubham Gupta                        NaN             1.0   \n",
       "2       Journal of Infectiology                        NaN           143.0   \n",
       "3                          Zane                        NaN            29.0   \n",
       "4            Ann-Maree O’Connor  Adelaide, South Australia            83.0   \n",
       "...                         ...                        ...             ...   \n",
       "354385              pinakbet808          San Francisco, CA             0.0   \n",
       "354386          UCAN  Indonesia                    Jakarta          2954.0   \n",
       "354387               UCAN India                      India          1771.0   \n",
       "354388              VaccinatePA               Pennsylvania          1191.0   \n",
       "354389                 UCA News                        NaN           655.0   \n",
       "\n",
       "       user_friends user_favourites user_verified                date  \\\n",
       "0                11             110         False 2020-08-18 12:55:00   \n",
       "1                17               0         False 2020-08-18 12:55:00   \n",
       "2               566               8         False 2020-08-18 12:46:00   \n",
       "3                25             620         False 2020-08-18 12:45:00   \n",
       "4               497           10737         False 2020-08-18 12:45:00   \n",
       "...             ...             ...           ...                 ...   \n",
       "354385           83               0         False 2021-02-15 00:01:02   \n",
       "354386         1023               2         False 2021-02-15 00:00:56   \n",
       "354387          270              65         False 2021-02-15 00:00:56   \n",
       "354388           44              44         False 2021-02-15 00:00:09   \n",
       "354389          709              86         False 2021-02-15 00:00:01   \n",
       "\n",
       "                                                     text  \\\n",
       "0       Australia to Manufacture Covid-19 Vaccine and ...   \n",
       "1       #CoronavirusVaccine #CoronaVaccine #CovidVacci...   \n",
       "2       Deaths due to COVID-19 in Affected Countries\\n...   \n",
       "3       @Team_Subhashree @subhashreesotwe @iamrajchoco...   \n",
       "4       @michellegrattan @ConversationEDU This is what...   \n",
       "...                                                   ...   \n",
       "354385  I called my lola to wish her a Happy Valentine...   \n",
       "354386  Cambodia’s Ministry of Health approves emergen...   \n",
       "354387  Cambodia’s Ministry of Health approves emergen...   \n",
       "354388  Thanks for helping us get the word out, @abc27...   \n",
       "354389  Cambodia’s Ministry of Health approves emergen...   \n",
       "\n",
       "                     source                 xxx  \n",
       "0           Twitter Web App 2020-08-18 12:55:00  \n",
       "1       Twitter for Android 2020-08-18 12:55:00  \n",
       "2           Twitter Web App 2020-08-18 12:46:00  \n",
       "3       Twitter for Android 2020-08-18 12:45:00  \n",
       "4           Twitter Web App 2020-08-18 12:45:00  \n",
       "...                     ...                 ...  \n",
       "354385   Twitter for iPhone 2021-02-15 00:01:02  \n",
       "354386       SocialPilot.co 2021-02-15 00:00:56  \n",
       "354387       SocialPilot.co 2021-02-15 00:00:56  \n",
       "354388      Twitter Web App 2021-02-15 00:00:09  \n",
       "354389            TweetDeck 2021-02-15 00:00:01  \n",
       "\n",
       "[137477 rows x 10 columns]"
      ],
      "text/html": "<div>\n<style scoped>\n    .dataframe tbody tr th:only-of-type {\n        vertical-align: middle;\n    }\n\n    .dataframe tbody tr th {\n        vertical-align: top;\n    }\n\n    .dataframe thead th {\n        text-align: right;\n    }\n</style>\n<table border=\"1\" class=\"dataframe\">\n  <thead>\n    <tr style=\"text-align: right;\">\n      <th></th>\n      <th>user_name</th>\n      <th>user_location</th>\n      <th>user_followers</th>\n      <th>user_friends</th>\n      <th>user_favourites</th>\n      <th>user_verified</th>\n      <th>date</th>\n      <th>text</th>\n      <th>source</th>\n      <th>xxx</th>\n    </tr>\n  </thead>\n  <tbody>\n    <tr>\n      <th>0</th>\n      <td>MyNewsNE</td>\n      <td>Assam</td>\n      <td>64.0</td>\n      <td>11</td>\n      <td>110</td>\n      <td>False</td>\n      <td>2020-08-18 12:55:00</td>\n      <td>Australia to Manufacture Covid-19 Vaccine and ...</td>\n      <td>Twitter Web App</td>\n      <td>2020-08-18 12:55:00</td>\n    </tr>\n    <tr>\n      <th>1</th>\n      <td>Shubham Gupta</td>\n      <td>NaN</td>\n      <td>1.0</td>\n      <td>17</td>\n      <td>0</td>\n      <td>False</td>\n      <td>2020-08-18 12:55:00</td>\n      <td>#CoronavirusVaccine #CoronaVaccine #CovidVacci...</td>\n      <td>Twitter for Android</td>\n      <td>2020-08-18 12:55:00</td>\n    </tr>\n    <tr>\n      <th>2</th>\n      <td>Journal of Infectiology</td>\n      <td>NaN</td>\n      <td>143.0</td>\n      <td>566</td>\n      <td>8</td>\n      <td>False</td>\n      <td>2020-08-18 12:46:00</td>\n      <td>Deaths due to COVID-19 in Affected Countries\\n...</td>\n      <td>Twitter Web App</td>\n      <td>2020-08-18 12:46:00</td>\n    </tr>\n    <tr>\n      <th>3</th>\n      <td>Zane</td>\n      <td>NaN</td>\n      <td>29.0</td>\n      <td>25</td>\n      <td>620</td>\n      <td>False</td>\n      <td>2020-08-18 12:45:00</td>\n      <td>@Team_Subhashree @subhashreesotwe @iamrajchoco...</td>\n      <td>Twitter for Android</td>\n      <td>2020-08-18 12:45:00</td>\n    </tr>\n    <tr>\n      <th>4</th>\n      <td>Ann-Maree O’Connor</td>\n      <td>Adelaide, South Australia</td>\n      <td>83.0</td>\n      <td>497</td>\n      <td>10737</td>\n      <td>False</td>\n      <td>2020-08-18 12:45:00</td>\n      <td>@michellegrattan @ConversationEDU This is what...</td>\n      <td>Twitter Web App</td>\n      <td>2020-08-18 12:45:00</td>\n    </tr>\n    <tr>\n      <th>...</th>\n      <td>...</td>\n      <td>...</td>\n      <td>...</td>\n      <td>...</td>\n      <td>...</td>\n      <td>...</td>\n      <td>...</td>\n      <td>...</td>\n      <td>...</td>\n      <td>...</td>\n    </tr>\n    <tr>\n      <th>354385</th>\n      <td>pinakbet808</td>\n      <td>San Francisco, CA</td>\n      <td>0.0</td>\n      <td>83</td>\n      <td>0</td>\n      <td>False</td>\n      <td>2021-02-15 00:01:02</td>\n      <td>I called my lola to wish her a Happy Valentine...</td>\n      <td>Twitter for iPhone</td>\n      <td>2021-02-15 00:01:02</td>\n    </tr>\n    <tr>\n      <th>354386</th>\n      <td>UCAN  Indonesia</td>\n      <td>Jakarta</td>\n      <td>2954.0</td>\n      <td>1023</td>\n      <td>2</td>\n      <td>False</td>\n      <td>2021-02-15 00:00:56</td>\n      <td>Cambodia’s Ministry of Health approves emergen...</td>\n      <td>SocialPilot.co</td>\n      <td>2021-02-15 00:00:56</td>\n    </tr>\n    <tr>\n      <th>354387</th>\n      <td>UCAN India</td>\n      <td>India</td>\n      <td>1771.0</td>\n      <td>270</td>\n      <td>65</td>\n      <td>False</td>\n      <td>2021-02-15 00:00:56</td>\n      <td>Cambodia’s Ministry of Health approves emergen...</td>\n      <td>SocialPilot.co</td>\n      <td>2021-02-15 00:00:56</td>\n    </tr>\n    <tr>\n      <th>354388</th>\n      <td>VaccinatePA</td>\n      <td>Pennsylvania</td>\n      <td>1191.0</td>\n      <td>44</td>\n      <td>44</td>\n      <td>False</td>\n      <td>2021-02-15 00:00:09</td>\n      <td>Thanks for helping us get the word out, @abc27...</td>\n      <td>Twitter Web App</td>\n      <td>2021-02-15 00:00:09</td>\n    </tr>\n    <tr>\n      <th>354389</th>\n      <td>UCA News</td>\n      <td>NaN</td>\n      <td>655.0</td>\n      <td>709</td>\n      <td>86</td>\n      <td>False</td>\n      <td>2021-02-15 00:00:01</td>\n      <td>Cambodia’s Ministry of Health approves emergen...</td>\n      <td>TweetDeck</td>\n      <td>2021-02-15 00:00:01</td>\n    </tr>\n  </tbody>\n</table>\n<p>137477 rows × 10 columns</p>\n</div>"
     },
     "metadata": {},
     "execution_count": 56
    }
   ],
   "source": [
    "# 354390\n",
    "# 354390\n",
    "# 216910\n",
    "df = load_vaccine_csv()\n",
    "# df.index = pd.to_datetime(df.date, errors='coerce')\n",
    "\n",
    "#18-08-2020 12:55\n",
    "df = df[df.date.notnull()]\n",
    "df = df[df.date.str.contains(\"-\")]\n",
    "\n",
    "df['date'] = df['date'].apply(lambda t: try_parse(t))\n",
    "df['xxx'] = pd.to_datetime(df['date'], format='%d-%m-%Y %H:%M')\n",
    "# df = df[df.date.isnull()]\n",
    "\n",
    "df = df.sort_index()\n",
    "df"
   ]
  },
  {
   "cell_type": "code",
   "execution_count": 57,
   "metadata": {},
   "outputs": [
    {
     "output_type": "execute_result",
     "data": {
      "text/plain": [
       "                                              user_name  \\\n",
       "0                                              MyNewsNE   \n",
       "4                                    Ann-Maree O’Connor   \n",
       "6                                      Rajesh Tadepalli   \n",
       "7           AKisASocialisolationist wash yer damn hands   \n",
       "8                                    Dr. Joseph Santoro   \n",
       "...                                                 ...   \n",
       "354384  Dr Mahendra G Patel We-are-ALL-AT-RISK #COVID19   \n",
       "354385                                      pinakbet808   \n",
       "354386                                  UCAN  Indonesia   \n",
       "354387                                       UCAN India   \n",
       "354388                                      VaccinatePA   \n",
       "\n",
       "                            user_location  user_followers user_friends  \\\n",
       "0                                   Assam            64.0           11   \n",
       "4               Adelaide, South Australia            83.0          497   \n",
       "6                        Hyderabad, India           918.0         2561   \n",
       "7             The Great Pacific Northwest          2321.0         3236   \n",
       "8                    Washington, DC 20009         19091.0        20986   \n",
       "...                                   ...             ...          ...   \n",
       "354384  Yorkshire and The Humber, England          5245.0         1296   \n",
       "354385                  San Francisco, CA             0.0           83   \n",
       "354386                            Jakarta          2954.0         1023   \n",
       "354387                              India          1771.0          270   \n",
       "354388                       Pennsylvania          1191.0           44   \n",
       "\n",
       "       user_favourites user_verified                date  \\\n",
       "0                  110         False 2020-08-18 12:55:00   \n",
       "4                10737         False 2020-08-18 12:45:00   \n",
       "6                31837         False 2020-08-18 12:34:00   \n",
       "7               264351         False 2020-08-18 12:30:00   \n",
       "8               128119         False 2020-08-18 12:15:00   \n",
       "...                ...           ...                 ...   \n",
       "354384           25625         False 2021-02-15 00:03:11   \n",
       "354385               0         False 2021-02-15 00:01:02   \n",
       "354386               2         False 2021-02-15 00:00:56   \n",
       "354387              65         False 2021-02-15 00:00:56   \n",
       "354388              44         False 2021-02-15 00:00:09   \n",
       "\n",
       "                                                     text  \\\n",
       "0       Australia to Manufacture Covid-19 Vaccine and ...   \n",
       "4       @michellegrattan @ConversationEDU This is what...   \n",
       "6       @PrivilRodrigues @yatish57 @deepkaranahuja @sh...   \n",
       "7       @MSNBC Well, let’s qualify that: would anyone ...   \n",
       "8       Most countries, without the ability to make #V...   \n",
       "...                                                   ...   \n",
       "354384  After weeks away now dipping in lightly &amp; ...   \n",
       "354385  I called my lola to wish her a Happy Valentine...   \n",
       "354386  Cambodia’s Ministry of Health approves emergen...   \n",
       "354387  Cambodia’s Ministry of Health approves emergen...   \n",
       "354388  Thanks for helping us get the word out, @abc27...   \n",
       "\n",
       "                     source                 xxx  \n",
       "0           Twitter Web App 2020-08-18 12:55:00  \n",
       "4           Twitter Web App 2020-08-18 12:45:00  \n",
       "6       Twitter for Android 2020-08-18 12:34:00  \n",
       "7        Twitter for iPhone 2020-08-18 12:30:00  \n",
       "8            Hootsuite Inc. 2020-08-18 12:15:00  \n",
       "...                     ...                 ...  \n",
       "354384   Twitter for iPhone 2021-02-15 00:03:11  \n",
       "354385   Twitter for iPhone 2021-02-15 00:01:02  \n",
       "354386       SocialPilot.co 2021-02-15 00:00:56  \n",
       "354387       SocialPilot.co 2021-02-15 00:00:56  \n",
       "354388      Twitter Web App 2021-02-15 00:00:09  \n",
       "\n",
       "[109325 rows x 10 columns]"
      ],
      "text/html": "<div>\n<style scoped>\n    .dataframe tbody tr th:only-of-type {\n        vertical-align: middle;\n    }\n\n    .dataframe tbody tr th {\n        vertical-align: top;\n    }\n\n    .dataframe thead th {\n        text-align: right;\n    }\n</style>\n<table border=\"1\" class=\"dataframe\">\n  <thead>\n    <tr style=\"text-align: right;\">\n      <th></th>\n      <th>user_name</th>\n      <th>user_location</th>\n      <th>user_followers</th>\n      <th>user_friends</th>\n      <th>user_favourites</th>\n      <th>user_verified</th>\n      <th>date</th>\n      <th>text</th>\n      <th>source</th>\n      <th>xxx</th>\n    </tr>\n  </thead>\n  <tbody>\n    <tr>\n      <th>0</th>\n      <td>MyNewsNE</td>\n      <td>Assam</td>\n      <td>64.0</td>\n      <td>11</td>\n      <td>110</td>\n      <td>False</td>\n      <td>2020-08-18 12:55:00</td>\n      <td>Australia to Manufacture Covid-19 Vaccine and ...</td>\n      <td>Twitter Web App</td>\n      <td>2020-08-18 12:55:00</td>\n    </tr>\n    <tr>\n      <th>4</th>\n      <td>Ann-Maree O’Connor</td>\n      <td>Adelaide, South Australia</td>\n      <td>83.0</td>\n      <td>497</td>\n      <td>10737</td>\n      <td>False</td>\n      <td>2020-08-18 12:45:00</td>\n      <td>@michellegrattan @ConversationEDU This is what...</td>\n      <td>Twitter Web App</td>\n      <td>2020-08-18 12:45:00</td>\n    </tr>\n    <tr>\n      <th>6</th>\n      <td>Rajesh Tadepalli</td>\n      <td>Hyderabad, India</td>\n      <td>918.0</td>\n      <td>2561</td>\n      <td>31837</td>\n      <td>False</td>\n      <td>2020-08-18 12:34:00</td>\n      <td>@PrivilRodrigues @yatish57 @deepkaranahuja @sh...</td>\n      <td>Twitter for Android</td>\n      <td>2020-08-18 12:34:00</td>\n    </tr>\n    <tr>\n      <th>7</th>\n      <td>AKisASocialisolationist wash yer damn hands</td>\n      <td>The Great Pacific Northwest</td>\n      <td>2321.0</td>\n      <td>3236</td>\n      <td>264351</td>\n      <td>False</td>\n      <td>2020-08-18 12:30:00</td>\n      <td>@MSNBC Well, let’s qualify that: would anyone ...</td>\n      <td>Twitter for iPhone</td>\n      <td>2020-08-18 12:30:00</td>\n    </tr>\n    <tr>\n      <th>8</th>\n      <td>Dr. Joseph Santoro</td>\n      <td>Washington, DC 20009</td>\n      <td>19091.0</td>\n      <td>20986</td>\n      <td>128119</td>\n      <td>False</td>\n      <td>2020-08-18 12:15:00</td>\n      <td>Most countries, without the ability to make #V...</td>\n      <td>Hootsuite Inc.</td>\n      <td>2020-08-18 12:15:00</td>\n    </tr>\n    <tr>\n      <th>...</th>\n      <td>...</td>\n      <td>...</td>\n      <td>...</td>\n      <td>...</td>\n      <td>...</td>\n      <td>...</td>\n      <td>...</td>\n      <td>...</td>\n      <td>...</td>\n      <td>...</td>\n    </tr>\n    <tr>\n      <th>354384</th>\n      <td>Dr Mahendra G Patel We-are-ALL-AT-RISK #COVID19</td>\n      <td>Yorkshire and The Humber, England</td>\n      <td>5245.0</td>\n      <td>1296</td>\n      <td>25625</td>\n      <td>False</td>\n      <td>2021-02-15 00:03:11</td>\n      <td>After weeks away now dipping in lightly &amp;amp; ...</td>\n      <td>Twitter for iPhone</td>\n      <td>2021-02-15 00:03:11</td>\n    </tr>\n    <tr>\n      <th>354385</th>\n      <td>pinakbet808</td>\n      <td>San Francisco, CA</td>\n      <td>0.0</td>\n      <td>83</td>\n      <td>0</td>\n      <td>False</td>\n      <td>2021-02-15 00:01:02</td>\n      <td>I called my lola to wish her a Happy Valentine...</td>\n      <td>Twitter for iPhone</td>\n      <td>2021-02-15 00:01:02</td>\n    </tr>\n    <tr>\n      <th>354386</th>\n      <td>UCAN  Indonesia</td>\n      <td>Jakarta</td>\n      <td>2954.0</td>\n      <td>1023</td>\n      <td>2</td>\n      <td>False</td>\n      <td>2021-02-15 00:00:56</td>\n      <td>Cambodia’s Ministry of Health approves emergen...</td>\n      <td>SocialPilot.co</td>\n      <td>2021-02-15 00:00:56</td>\n    </tr>\n    <tr>\n      <th>354387</th>\n      <td>UCAN India</td>\n      <td>India</td>\n      <td>1771.0</td>\n      <td>270</td>\n      <td>65</td>\n      <td>False</td>\n      <td>2021-02-15 00:00:56</td>\n      <td>Cambodia’s Ministry of Health approves emergen...</td>\n      <td>SocialPilot.co</td>\n      <td>2021-02-15 00:00:56</td>\n    </tr>\n    <tr>\n      <th>354388</th>\n      <td>VaccinatePA</td>\n      <td>Pennsylvania</td>\n      <td>1191.0</td>\n      <td>44</td>\n      <td>44</td>\n      <td>False</td>\n      <td>2021-02-15 00:00:09</td>\n      <td>Thanks for helping us get the word out, @abc27...</td>\n      <td>Twitter Web App</td>\n      <td>2021-02-15 00:00:09</td>\n    </tr>\n  </tbody>\n</table>\n<p>109325 rows × 10 columns</p>\n</div>"
     },
     "metadata": {},
     "execution_count": 57
    }
   ],
   "source": [
    "df2 = df.dropna()\n",
    "df2"
   ]
  },
  {
   "cell_type": "code",
   "execution_count": 58,
   "metadata": {},
   "outputs": [
    {
     "output_type": "execute_result",
     "data": {
      "text/plain": [
       "user_name           object\n",
       "user_location       object\n",
       "user_followers     float64\n",
       "user_friends        object\n",
       "user_favourites     object\n",
       "user_verified       object\n",
       "date                object\n",
       "text                object\n",
       "source              object\n",
       "dtype: object"
      ]
     },
     "metadata": {},
     "execution_count": 58
    }
   ],
   "source": [
    "load_vaccine_csv().dtypes\n"
   ]
  },
  {
   "cell_type": "code",
   "execution_count": 59,
   "metadata": {
    "tags": []
   },
   "outputs": [
    {
     "output_type": "execute_result",
     "data": {
      "text/plain": [
       "       user_followers\n",
       "count    1.374770e+05\n",
       "mean     5.157729e+04\n",
       "std      6.479442e+05\n",
       "min      0.000000e+00\n",
       "25%      1.390000e+02\n",
       "50%      6.030000e+02\n",
       "75%      2.664000e+03\n",
       "max      1.474791e+07"
      ],
      "text/html": "<div>\n<style scoped>\n    .dataframe tbody tr th:only-of-type {\n        vertical-align: middle;\n    }\n\n    .dataframe tbody tr th {\n        vertical-align: top;\n    }\n\n    .dataframe thead th {\n        text-align: right;\n    }\n</style>\n<table border=\"1\" class=\"dataframe\">\n  <thead>\n    <tr style=\"text-align: right;\">\n      <th></th>\n      <th>user_followers</th>\n    </tr>\n  </thead>\n  <tbody>\n    <tr>\n      <th>count</th>\n      <td>1.374770e+05</td>\n    </tr>\n    <tr>\n      <th>mean</th>\n      <td>5.157729e+04</td>\n    </tr>\n    <tr>\n      <th>std</th>\n      <td>6.479442e+05</td>\n    </tr>\n    <tr>\n      <th>min</th>\n      <td>0.000000e+00</td>\n    </tr>\n    <tr>\n      <th>25%</th>\n      <td>1.390000e+02</td>\n    </tr>\n    <tr>\n      <th>50%</th>\n      <td>6.030000e+02</td>\n    </tr>\n    <tr>\n      <th>75%</th>\n      <td>2.664000e+03</td>\n    </tr>\n    <tr>\n      <th>max</th>\n      <td>1.474791e+07</td>\n    </tr>\n  </tbody>\n</table>\n</div>"
     },
     "metadata": {},
     "execution_count": 59
    }
   ],
   "source": [
    "\n",
    "df.describe()\n",
    "# ####input your credentials here\n",
    "# consumer_key = 'SCOPBRKeG4nRCEa7XkMoqQ'\n",
    "# consumer_secret = 'RYInMkLiNyg0iKC3g89Y0f8g8kbNFSsNjZXNYBYILQ'\n",
    "# access_token = '107275871-PtAa9t7OJX82IEbGjdOzaFMgeCWQyU8haNPhN4mD'\n",
    "# access_token_secret = 'Q691rTrztjXeYAP5FEA5kZWRhuFRtH8sq6msPgUeD1TzI'\n",
    "\n",
    "# auth = tweepy.OAuthHandler(consumer_key, consumer_secret)\n",
    "# auth.set_access_token(access_token, access_token_secret)\n",
    "# api = tweepy.API(auth,wait_on_rate_limit=True)\n",
    "# #####United Airlines\n",
    "# # Open/Create a file to append data\n",
    "# csvFile = open('ua.csv', 'a')\n",
    "# #Use csv Writer\n",
    "# csvWriter = csv.writer(csvFile)\n",
    "\n",
    "# all_tweets = []\n",
    "\n",
    "# for tweet in tweepy.Cursor(api.search,q=\"#dulux\",count=100,\n",
    "#                            lang=\"en\",\n",
    "#                            since=\"2015-11-03\").items():\n",
    "#     print (tweet.created_at, tweet.text)\n",
    "#     all_tweets.append(tweet.text)\n",
    "#     csvWriter.writerow([tweet.created_at, tweet.text.encode('utf-8')])"
   ]
  },
  {
   "cell_type": "code",
   "execution_count": 60,
   "metadata": {},
   "outputs": [
    {
     "output_type": "stream",
     "name": "stderr",
     "text": [
      "[nltk_data] Downloading package wordnet to\n[nltk_data]     /Users/nimendrapethiyagoda/nltk_data...\n[nltk_data]   Package wordnet is already up-to-date!\n"
     ]
    }
   ],
   "source": [
    "import nltk\n",
    "nltk.download('wordnet')\n",
    "\n",
    "lemmatizer = WordNetLemmatizer()"
   ]
  },
  {
   "cell_type": "code",
   "execution_count": 61,
   "metadata": {},
   "outputs": [],
   "source": [
    "def process_text(doc):\n",
    "    sw = set(stopwords.words('english'))\n",
    "    regex = re.compile(\"[^a-zA-Z ]\")\n",
    "    re_clean = regex.sub('', doc)\n",
    "    words = word_tokenize(re_clean)\n",
    "    lem = [lemmatizer.lemmatize(word) for word in words]\n",
    "    output = [word.lower() for word in lem if word.lower() not in sw]\n",
    "    return ' '.join(output)"
   ]
  },
  {
   "cell_type": "code",
   "execution_count": 62,
   "metadata": {},
   "outputs": [],
   "source": [
    "def analyse_sentiment(df):\n",
    "    load_dotenv()\n",
    "    tone_api = os.getenv(\"TONE_ANALYZER_APIKEY\")\n",
    "    tone_url = os.getenv(\"TONE_ANALYZER_URL\")\n",
    "    authenticator = IAMAuthenticator(tone_api)\n",
    "    tone_analyzer = ToneAnalyzerV3(\n",
    "        version=\"2017-09-21\",\n",
    "        authenticator=authenticator\n",
    "    )\n",
    "\n",
    "    utterances = [{\"text\": u, \"user\": \"guest\"} for u in df['text'].to_numpy()]\n",
    "\n",
    "    # Analyze utterances using the 'tone_chat()' method\n",
    "    utterance_analysis = tone_analyzer.tone_chat(\n",
    "        utterances=utterances, content_language=\"en\", accept_language=\"en\"\n",
    "    ).get_result()\n",
    "    # print(json.dumps(utterance_analysis, indent=2))\n",
    "    chat_tone_df = json_normalize(\n",
    "        data=utterance_analysis[\"utterances_tone\"],\n",
    "        record_path=[\"tones\"],\n",
    "        meta=[\"utterance_id\", \"utterance_text\"],\n",
    "    )\n",
    "    return chat_tone_df"
   ]
  },
  {
   "cell_type": "code",
   "execution_count": 82,
   "metadata": {},
   "outputs": [],
   "source": [
    "def analyse_sentimemnt_vader(df):\n",
    "    \n",
    "    sentiments = []\n",
    "\n",
    "    for index, row in df.iterrows():\n",
    "        try:\n",
    "            text = row[\"text\"]\n",
    "            # date = article[\"publishedAt\"][:10]\n",
    "            sentiment = analyzer.polarity_scores(text)\n",
    "            compound = sentiment[\"compound\"]\n",
    "            pos = sentiment[\"pos\"]\n",
    "            neu = sentiment[\"neu\"]\n",
    "            neg = sentiment[\"neg\"]\n",
    "            \n",
    "            sentiments.append({\n",
    "                \"text\": text,\n",
    "                \"date\": row['date'],\n",
    "                \"user_location\":row['user_location'],\n",
    "                \"user_followers\":row['user_followers'],\n",
    "                \"user_friends\":row['user_friends'],\n",
    "                \"user_favourites\":row['user_favourites'],\n",
    "                \"user_name\": row['user_name'],\n",
    "                \"compound\": compound,\n",
    "                \"positive\": pos,\n",
    "                \"negative\": neg,\n",
    "                \"neutral\": neu\n",
    "                \n",
    "            })\n",
    "            \n",
    "        except AttributeError:\n",
    "            pass\n",
    "        \n",
    "    # Create DataFrame\n",
    "    ret_df = pd.DataFrame(sentiments)\n",
    "\n",
    "    # Reorder DataFrame columns\n",
    "    cols = [\"date\",\"user_name\", \"user_location\",\"user_followers\", \"user_friends\", \"user_favourites\", \"text\", \"compound\", \"positive\", \"negative\", \"neutral\"]\n",
    "    ret_df = ret_df[cols]\n",
    "    ret_df.set_index('date', inplace=True)\n",
    "    ret_df = ret_df.sort_index()\n",
    "\n",
    "    return ret_df"
   ]
  },
  {
   "cell_type": "code",
   "execution_count": 84,
   "metadata": {},
   "outputs": [
    {
     "output_type": "stream",
     "name": "stderr",
     "text": [
      "[nltk_data] Downloading package vader_lexicon to\n[nltk_data]     /Users/nimendrapethiyagoda/nltk_data...\n[nltk_data]   Package vader_lexicon is already up-to-date!\n"
     ]
    },
    {
     "output_type": "execute_result",
     "data": {
      "text/plain": [
       "                                                       user_name  \\\n",
       "date                                                               \n",
       "2020-08-13 18:07:00                           Thecortexmedia.Com   \n",
       "2020-08-13 18:16:00                                   Frank Hill   \n",
       "2020-08-13 18:17:00              CHARMARKE ABDOULKADER HADJI 查马克   \n",
       "2020-08-13 18:24:00                            Andrea Pruijssers   \n",
       "2020-08-13 18:30:00                           Thecortexmedia.Com   \n",
       "...                                                          ...   \n",
       "2020-08-18 12:15:00                           Dr. Joseph Santoro   \n",
       "2020-08-18 12:30:00  AKisASocialisolationist wash yer damn hands   \n",
       "2020-08-18 12:34:00                             Rajesh Tadepalli   \n",
       "2020-08-18 12:45:00                           Ann-Maree O’Connor   \n",
       "2020-08-18 12:55:00                                     MyNewsNE   \n",
       "\n",
       "                                   user_location  user_followers  \\\n",
       "date                                                               \n",
       "2020-08-13 18:07:00     Jammu, Jammu And Kashmir             5.0   \n",
       "2020-08-13 18:16:00      Raleigh, North Carolina          1223.0   \n",
       "2020-08-13 18:17:00                    Djibouti             74.0   \n",
       "2020-08-13 18:24:00           Nashville, TN, USA           158.0   \n",
       "2020-08-13 18:30:00     Jammu, Jammu And Kashmir             5.0   \n",
       "...                                          ...             ...   \n",
       "2020-08-18 12:15:00         Washington, DC 20009         19091.0   \n",
       "2020-08-18 12:30:00  The Great Pacific Northwest          2321.0   \n",
       "2020-08-18 12:34:00             Hyderabad, India           918.0   \n",
       "2020-08-18 12:45:00    Adelaide, South Australia            83.0   \n",
       "2020-08-18 12:55:00                        Assam            64.0   \n",
       "\n",
       "                     user_friends  user_favourites  \\\n",
       "date                                                 \n",
       "2020-08-13 18:07:00           3.0             70.0   \n",
       "2020-08-13 18:16:00        1845.0           2495.0   \n",
       "2020-08-13 18:17:00         223.0            649.0   \n",
       "2020-08-13 18:24:00          85.0            443.0   \n",
       "2020-08-13 18:30:00           3.0             70.0   \n",
       "...                           ...              ...   \n",
       "2020-08-18 12:15:00       20986.0         128119.0   \n",
       "2020-08-18 12:30:00        3236.0         264351.0   \n",
       "2020-08-18 12:34:00        2561.0          31837.0   \n",
       "2020-08-18 12:45:00         497.0          10737.0   \n",
       "2020-08-18 12:55:00          11.0            110.0   \n",
       "\n",
       "                                                                  text  \\\n",
       "date                                                                     \n",
       "2020-08-13 18:07:00  Russia Beat America And Launched first  #Covid...   \n",
       "2020-08-13 18:16:00  Odd, isn't it, that just 5 months ago, many po...   \n",
       "2020-08-13 18:17:00  #CovidVaccine\\nPutin :All Eyes on You ,please ...   \n",
       "2020-08-13 18:24:00  I enrolled in the Phase III #Moderna vaccine t...   \n",
       "2020-08-13 18:30:00  See The Full Price of Russia Vaccine In Your C...   \n",
       "...                                                                ...   \n",
       "2020-08-18 12:15:00  Most countries, without the ability to make #V...   \n",
       "2020-08-18 12:30:00  @MSNBC Well, let’s qualify that: would anyone ...   \n",
       "2020-08-18 12:34:00  @PrivilRodrigues @yatish57 @deepkaranahuja @sh...   \n",
       "2020-08-18 12:45:00  @michellegrattan @ConversationEDU This is what...   \n",
       "2020-08-18 12:55:00  Australia to Manufacture Covid-19 Vaccine and ...   \n",
       "\n",
       "                     compound  positive  negative  neutral  \n",
       "date                                                        \n",
       "2020-08-13 18:07:00    0.1280     0.077     0.000    0.923  \n",
       "2020-08-13 18:16:00   -0.3182     0.000     0.113    0.887  \n",
       "2020-08-13 18:17:00    0.3182     0.150     0.000    0.850  \n",
       "2020-08-13 18:24:00    0.0000     0.000     0.000    1.000  \n",
       "2020-08-13 18:30:00    0.0000     0.000     0.000    1.000  \n",
       "...                       ...       ...       ...      ...  \n",
       "2020-08-18 12:15:00   -0.3532     0.098     0.195    0.707  \n",
       "2020-08-18 12:30:00    0.5859     0.202     0.000    0.798  \n",
       "2020-08-18 12:34:00    0.0000     0.000     0.000    1.000  \n",
       "2020-08-18 12:45:00    0.0000     0.000     0.000    1.000  \n",
       "2020-08-18 12:55:00    0.5106     0.148     0.000    0.852  \n",
       "\n",
       "[500 rows x 10 columns]"
      ],
      "text/html": "<div>\n<style scoped>\n    .dataframe tbody tr th:only-of-type {\n        vertical-align: middle;\n    }\n\n    .dataframe tbody tr th {\n        vertical-align: top;\n    }\n\n    .dataframe thead th {\n        text-align: right;\n    }\n</style>\n<table border=\"1\" class=\"dataframe\">\n  <thead>\n    <tr style=\"text-align: right;\">\n      <th></th>\n      <th>user_name</th>\n      <th>user_location</th>\n      <th>user_followers</th>\n      <th>user_friends</th>\n      <th>user_favourites</th>\n      <th>text</th>\n      <th>compound</th>\n      <th>positive</th>\n      <th>negative</th>\n      <th>neutral</th>\n    </tr>\n    <tr>\n      <th>date</th>\n      <th></th>\n      <th></th>\n      <th></th>\n      <th></th>\n      <th></th>\n      <th></th>\n      <th></th>\n      <th></th>\n      <th></th>\n      <th></th>\n    </tr>\n  </thead>\n  <tbody>\n    <tr>\n      <th>2020-08-13 18:07:00</th>\n      <td>Thecortexmedia.Com</td>\n      <td>Jammu, Jammu And Kashmir</td>\n      <td>5.0</td>\n      <td>3.0</td>\n      <td>70.0</td>\n      <td>Russia Beat America And Launched first  #Covid...</td>\n      <td>0.1280</td>\n      <td>0.077</td>\n      <td>0.000</td>\n      <td>0.923</td>\n    </tr>\n    <tr>\n      <th>2020-08-13 18:16:00</th>\n      <td>Frank Hill</td>\n      <td>Raleigh, North Carolina</td>\n      <td>1223.0</td>\n      <td>1845.0</td>\n      <td>2495.0</td>\n      <td>Odd, isn't it, that just 5 months ago, many po...</td>\n      <td>-0.3182</td>\n      <td>0.000</td>\n      <td>0.113</td>\n      <td>0.887</td>\n    </tr>\n    <tr>\n      <th>2020-08-13 18:17:00</th>\n      <td>CHARMARKE ABDOULKADER HADJI 查马克</td>\n      <td>Djibouti</td>\n      <td>74.0</td>\n      <td>223.0</td>\n      <td>649.0</td>\n      <td>#CovidVaccine\\nPutin :All Eyes on You ,please ...</td>\n      <td>0.3182</td>\n      <td>0.150</td>\n      <td>0.000</td>\n      <td>0.850</td>\n    </tr>\n    <tr>\n      <th>2020-08-13 18:24:00</th>\n      <td>Andrea Pruijssers</td>\n      <td>Nashville, TN, USA</td>\n      <td>158.0</td>\n      <td>85.0</td>\n      <td>443.0</td>\n      <td>I enrolled in the Phase III #Moderna vaccine t...</td>\n      <td>0.0000</td>\n      <td>0.000</td>\n      <td>0.000</td>\n      <td>1.000</td>\n    </tr>\n    <tr>\n      <th>2020-08-13 18:30:00</th>\n      <td>Thecortexmedia.Com</td>\n      <td>Jammu, Jammu And Kashmir</td>\n      <td>5.0</td>\n      <td>3.0</td>\n      <td>70.0</td>\n      <td>See The Full Price of Russia Vaccine In Your C...</td>\n      <td>0.0000</td>\n      <td>0.000</td>\n      <td>0.000</td>\n      <td>1.000</td>\n    </tr>\n    <tr>\n      <th>...</th>\n      <td>...</td>\n      <td>...</td>\n      <td>...</td>\n      <td>...</td>\n      <td>...</td>\n      <td>...</td>\n      <td>...</td>\n      <td>...</td>\n      <td>...</td>\n      <td>...</td>\n    </tr>\n    <tr>\n      <th>2020-08-18 12:15:00</th>\n      <td>Dr. Joseph Santoro</td>\n      <td>Washington, DC 20009</td>\n      <td>19091.0</td>\n      <td>20986.0</td>\n      <td>128119.0</td>\n      <td>Most countries, without the ability to make #V...</td>\n      <td>-0.3532</td>\n      <td>0.098</td>\n      <td>0.195</td>\n      <td>0.707</td>\n    </tr>\n    <tr>\n      <th>2020-08-18 12:30:00</th>\n      <td>AKisASocialisolationist wash yer damn hands</td>\n      <td>The Great Pacific Northwest</td>\n      <td>2321.0</td>\n      <td>3236.0</td>\n      <td>264351.0</td>\n      <td>@MSNBC Well, let’s qualify that: would anyone ...</td>\n      <td>0.5859</td>\n      <td>0.202</td>\n      <td>0.000</td>\n      <td>0.798</td>\n    </tr>\n    <tr>\n      <th>2020-08-18 12:34:00</th>\n      <td>Rajesh Tadepalli</td>\n      <td>Hyderabad, India</td>\n      <td>918.0</td>\n      <td>2561.0</td>\n      <td>31837.0</td>\n      <td>@PrivilRodrigues @yatish57 @deepkaranahuja @sh...</td>\n      <td>0.0000</td>\n      <td>0.000</td>\n      <td>0.000</td>\n      <td>1.000</td>\n    </tr>\n    <tr>\n      <th>2020-08-18 12:45:00</th>\n      <td>Ann-Maree O’Connor</td>\n      <td>Adelaide, South Australia</td>\n      <td>83.0</td>\n      <td>497.0</td>\n      <td>10737.0</td>\n      <td>@michellegrattan @ConversationEDU This is what...</td>\n      <td>0.0000</td>\n      <td>0.000</td>\n      <td>0.000</td>\n      <td>1.000</td>\n    </tr>\n    <tr>\n      <th>2020-08-18 12:55:00</th>\n      <td>MyNewsNE</td>\n      <td>Assam</td>\n      <td>64.0</td>\n      <td>11.0</td>\n      <td>110.0</td>\n      <td>Australia to Manufacture Covid-19 Vaccine and ...</td>\n      <td>0.5106</td>\n      <td>0.148</td>\n      <td>0.000</td>\n      <td>0.852</td>\n    </tr>\n  </tbody>\n</table>\n<p>500 rows × 10 columns</p>\n</div>"
     },
     "metadata": {},
     "execution_count": 84
    }
   ],
   "source": [
    "# df['text'].to_numpy()\n",
    "# Download/Update the VADER Lexicon\n",
    "nltk.download('vader_lexicon')\n",
    "\n",
    "# Initialize the VADER sentiment analyzer\n",
    "analyzer = SentimentIntensityAnalyzer()\n",
    "chat_tone_df = analyse_sentimemnt_vader(df2.head(500))\n",
    "chat_tone_df"
   ]
  },
  {
   "cell_type": "code",
   "execution_count": 77,
   "metadata": {},
   "outputs": [
    {
     "output_type": "execute_result",
     "data": {
      "text/plain": [
       "Location(Austin, Travis County, Texas, United States, (30.2711286, -97.7436995, 0.0))"
      ]
     },
     "metadata": {},
     "execution_count": 77
    }
   ],
   "source": [
    "from geopy.geocoders import Nominatim\n",
    "app = Nominatim(user_agent=\"JournalDev\")\n",
    "location = app.geocode(\"Austin, Texas\")\n",
    "location"
   ]
  },
  {
   "cell_type": "code",
   "execution_count": null,
   "metadata": {},
   "outputs": [],
   "source": []
  }
 ]
}