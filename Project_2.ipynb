{
 "metadata": {
  "language_info": {
   "codemirror_mode": {
    "name": "ipython",
    "version": 3
   },
   "file_extension": ".py",
   "mimetype": "text/x-python",
   "name": "python",
   "nbconvert_exporter": "python",
   "pygments_lexer": "ipython3",
   "version": "3.7.9-final"
  },
  "orig_nbformat": 2,
  "kernelspec": {
   "name": "python3",
   "display_name": "Python 3.7.9 64-bit ('p37env': conda)",
   "metadata": {
    "interpreter": {
     "hash": "88d86be733a9a448ab4216705ec79d5515b5f923491cd63b6a11efb829921b60"
    }
   }
  }
 },
 "nbformat": 4,
 "nbformat_minor": 2,
 "cells": [
  {
   "cell_type": "code",
   "execution_count": 286,
   "metadata": {},
   "outputs": [],
   "source": [
    "import tweepy\n",
    "import csv\n",
    "import pandas as pd\n",
    "import json\n",
    "\n",
    "from nltk.corpus import stopwords, reuters\n",
    "from nltk.tokenize import word_tokenize\n",
    "from nltk.stem import WordNetLemmatizer\n",
    "from wordcloud import WordCloud\n",
    "import re\n",
    "import matplotlib.pyplot as plt\n",
    "import datetime\n",
    "from ibm_watson import ToneAnalyzerV3\n",
    "from pandas import json_normalize\n",
    "from ibm_cloud_sdk_core.authenticators import IAMAuthenticator\n",
    "from dotenv import load_dotenv\n",
    "\n",
    "import nltk\n",
    "from nltk.sentiment.vader import SentimentIntensityAnalyzer\n",
    "\n",
    "all_tweets = []"
   ]
  },
  {
   "cell_type": "code",
   "execution_count": 287,
   "metadata": {},
   "outputs": [],
   "source": [
    "def load_vaccine_csv():\n",
    "    df = pd.read_csv('./covidvaccine.csv')\n",
    "    df = df[['user_name','user_location','user_followers',\t'user_friends',\t'user_favourites',\t'user_verified',\t'date',\t'text',\t'source']]\n",
    "    \n",
    "    # '18-08-2020 12:55'\n",
    "    # df.index = pd.to_datetime(df['date'])\n",
    "    # for managebility we remove the hashtag, but it might have a future use-case\n",
    "    # is_retweet is all False in this dataset\n",
    "    # df = df[df['is_retweet'] == False]\n",
    "    # df = df.dropna()\n",
    "    return df"
   ]
  },
  {
   "cell_type": "code",
   "execution_count": null,
   "metadata": {},
   "outputs": [],
   "source": []
  },
  {
   "cell_type": "code",
   "execution_count": 288,
   "metadata": {},
   "outputs": [],
   "source": [
    "def try_parse(dateString):\n",
    "    # return dateString\n",
    "    # print(dateString)\n",
    "    try:\n",
    "        return datetime.datetime.strptime(dateString, '%Y-%m-%d %H:%M:%S')\n",
    "    except Exception as e:\n",
    "        try:\n",
    "            return datetime.datetime.strptime(dateString, '%Y-%m-%d %H:%M')\n",
    "        except Exception as e:\n",
    "            try:\n",
    "                return datetime.datetime.strptime(dateString, '%d-%m-%Y %H:%M')\n",
    "            except Exception as e:\n",
    "                return datetime.datetime.strptime(dateString, '%d-%m-%Y %H:%M:%S')\n"
   ]
  },
  {
   "cell_type": "code",
   "execution_count": 289,
   "metadata": {
    "tags": []
   },
   "outputs": [
    {
     "output_type": "execute_result",
     "data": {
      "text/plain": [
       "                      user_name              user_location  user_followers  \\\n",
       "0                      MyNewsNE                      Assam            64.0   \n",
       "1                 Shubham Gupta                        NaN             1.0   \n",
       "2       Journal of Infectiology                        NaN           143.0   \n",
       "3                          Zane                        NaN            29.0   \n",
       "4            Ann-Maree O’Connor  Adelaide, South Australia            83.0   \n",
       "...                         ...                        ...             ...   \n",
       "354385              pinakbet808          San Francisco, CA             0.0   \n",
       "354386          UCAN  Indonesia                    Jakarta          2954.0   \n",
       "354387               UCAN India                      India          1771.0   \n",
       "354388              VaccinatePA               Pennsylvania          1191.0   \n",
       "354389                 UCA News                        NaN           655.0   \n",
       "\n",
       "       user_friends user_favourites user_verified                date  \\\n",
       "0                11             110         False 2020-08-18 12:55:00   \n",
       "1                17               0         False 2020-08-18 12:55:00   \n",
       "2               566               8         False 2020-08-18 12:46:00   \n",
       "3                25             620         False 2020-08-18 12:45:00   \n",
       "4               497           10737         False 2020-08-18 12:45:00   \n",
       "...             ...             ...           ...                 ...   \n",
       "354385           83               0         False 2021-02-15 00:01:02   \n",
       "354386         1023               2         False 2021-02-15 00:00:56   \n",
       "354387          270              65         False 2021-02-15 00:00:56   \n",
       "354388           44              44         False 2021-02-15 00:00:09   \n",
       "354389          709              86         False 2021-02-15 00:00:01   \n",
       "\n",
       "                                                     text  \\\n",
       "0       Australia to Manufacture Covid-19 Vaccine and ...   \n",
       "1       #CoronavirusVaccine #CoronaVaccine #CovidVacci...   \n",
       "2       Deaths due to COVID-19 in Affected Countries\\n...   \n",
       "3       @Team_Subhashree @subhashreesotwe @iamrajchoco...   \n",
       "4       @michellegrattan @ConversationEDU This is what...   \n",
       "...                                                   ...   \n",
       "354385  I called my lola to wish her a Happy Valentine...   \n",
       "354386  Cambodia’s Ministry of Health approves emergen...   \n",
       "354387  Cambodia’s Ministry of Health approves emergen...   \n",
       "354388  Thanks for helping us get the word out, @abc27...   \n",
       "354389  Cambodia’s Ministry of Health approves emergen...   \n",
       "\n",
       "                     source                 xxx  \n",
       "0           Twitter Web App 2020-08-18 12:55:00  \n",
       "1       Twitter for Android 2020-08-18 12:55:00  \n",
       "2           Twitter Web App 2020-08-18 12:46:00  \n",
       "3       Twitter for Android 2020-08-18 12:45:00  \n",
       "4           Twitter Web App 2020-08-18 12:45:00  \n",
       "...                     ...                 ...  \n",
       "354385   Twitter for iPhone 2021-02-15 00:01:02  \n",
       "354386       SocialPilot.co 2021-02-15 00:00:56  \n",
       "354387       SocialPilot.co 2021-02-15 00:00:56  \n",
       "354388      Twitter Web App 2021-02-15 00:00:09  \n",
       "354389            TweetDeck 2021-02-15 00:00:01  \n",
       "\n",
       "[137477 rows x 10 columns]"
      ],
      "text/html": "<div>\n<style scoped>\n    .dataframe tbody tr th:only-of-type {\n        vertical-align: middle;\n    }\n\n    .dataframe tbody tr th {\n        vertical-align: top;\n    }\n\n    .dataframe thead th {\n        text-align: right;\n    }\n</style>\n<table border=\"1\" class=\"dataframe\">\n  <thead>\n    <tr style=\"text-align: right;\">\n      <th></th>\n      <th>user_name</th>\n      <th>user_location</th>\n      <th>user_followers</th>\n      <th>user_friends</th>\n      <th>user_favourites</th>\n      <th>user_verified</th>\n      <th>date</th>\n      <th>text</th>\n      <th>source</th>\n      <th>xxx</th>\n    </tr>\n  </thead>\n  <tbody>\n    <tr>\n      <th>0</th>\n      <td>MyNewsNE</td>\n      <td>Assam</td>\n      <td>64.0</td>\n      <td>11</td>\n      <td>110</td>\n      <td>False</td>\n      <td>2020-08-18 12:55:00</td>\n      <td>Australia to Manufacture Covid-19 Vaccine and ...</td>\n      <td>Twitter Web App</td>\n      <td>2020-08-18 12:55:00</td>\n    </tr>\n    <tr>\n      <th>1</th>\n      <td>Shubham Gupta</td>\n      <td>NaN</td>\n      <td>1.0</td>\n      <td>17</td>\n      <td>0</td>\n      <td>False</td>\n      <td>2020-08-18 12:55:00</td>\n      <td>#CoronavirusVaccine #CoronaVaccine #CovidVacci...</td>\n      <td>Twitter for Android</td>\n      <td>2020-08-18 12:55:00</td>\n    </tr>\n    <tr>\n      <th>2</th>\n      <td>Journal of Infectiology</td>\n      <td>NaN</td>\n      <td>143.0</td>\n      <td>566</td>\n      <td>8</td>\n      <td>False</td>\n      <td>2020-08-18 12:46:00</td>\n      <td>Deaths due to COVID-19 in Affected Countries\\n...</td>\n      <td>Twitter Web App</td>\n      <td>2020-08-18 12:46:00</td>\n    </tr>\n    <tr>\n      <th>3</th>\n      <td>Zane</td>\n      <td>NaN</td>\n      <td>29.0</td>\n      <td>25</td>\n      <td>620</td>\n      <td>False</td>\n      <td>2020-08-18 12:45:00</td>\n      <td>@Team_Subhashree @subhashreesotwe @iamrajchoco...</td>\n      <td>Twitter for Android</td>\n      <td>2020-08-18 12:45:00</td>\n    </tr>\n    <tr>\n      <th>4</th>\n      <td>Ann-Maree O’Connor</td>\n      <td>Adelaide, South Australia</td>\n      <td>83.0</td>\n      <td>497</td>\n      <td>10737</td>\n      <td>False</td>\n      <td>2020-08-18 12:45:00</td>\n      <td>@michellegrattan @ConversationEDU This is what...</td>\n      <td>Twitter Web App</td>\n      <td>2020-08-18 12:45:00</td>\n    </tr>\n    <tr>\n      <th>...</th>\n      <td>...</td>\n      <td>...</td>\n      <td>...</td>\n      <td>...</td>\n      <td>...</td>\n      <td>...</td>\n      <td>...</td>\n      <td>...</td>\n      <td>...</td>\n      <td>...</td>\n    </tr>\n    <tr>\n      <th>354385</th>\n      <td>pinakbet808</td>\n      <td>San Francisco, CA</td>\n      <td>0.0</td>\n      <td>83</td>\n      <td>0</td>\n      <td>False</td>\n      <td>2021-02-15 00:01:02</td>\n      <td>I called my lola to wish her a Happy Valentine...</td>\n      <td>Twitter for iPhone</td>\n      <td>2021-02-15 00:01:02</td>\n    </tr>\n    <tr>\n      <th>354386</th>\n      <td>UCAN  Indonesia</td>\n      <td>Jakarta</td>\n      <td>2954.0</td>\n      <td>1023</td>\n      <td>2</td>\n      <td>False</td>\n      <td>2021-02-15 00:00:56</td>\n      <td>Cambodia’s Ministry of Health approves emergen...</td>\n      <td>SocialPilot.co</td>\n      <td>2021-02-15 00:00:56</td>\n    </tr>\n    <tr>\n      <th>354387</th>\n      <td>UCAN India</td>\n      <td>India</td>\n      <td>1771.0</td>\n      <td>270</td>\n      <td>65</td>\n      <td>False</td>\n      <td>2021-02-15 00:00:56</td>\n      <td>Cambodia’s Ministry of Health approves emergen...</td>\n      <td>SocialPilot.co</td>\n      <td>2021-02-15 00:00:56</td>\n    </tr>\n    <tr>\n      <th>354388</th>\n      <td>VaccinatePA</td>\n      <td>Pennsylvania</td>\n      <td>1191.0</td>\n      <td>44</td>\n      <td>44</td>\n      <td>False</td>\n      <td>2021-02-15 00:00:09</td>\n      <td>Thanks for helping us get the word out, @abc27...</td>\n      <td>Twitter Web App</td>\n      <td>2021-02-15 00:00:09</td>\n    </tr>\n    <tr>\n      <th>354389</th>\n      <td>UCA News</td>\n      <td>NaN</td>\n      <td>655.0</td>\n      <td>709</td>\n      <td>86</td>\n      <td>False</td>\n      <td>2021-02-15 00:00:01</td>\n      <td>Cambodia’s Ministry of Health approves emergen...</td>\n      <td>TweetDeck</td>\n      <td>2021-02-15 00:00:01</td>\n    </tr>\n  </tbody>\n</table>\n<p>137477 rows × 10 columns</p>\n</div>"
     },
     "metadata": {},
     "execution_count": 289
    }
   ],
   "source": [
    "# 354390\n",
    "# 354390\n",
    "# 216910\n",
    "df = load_vaccine_csv()\n",
    "# df.index = pd.to_datetime(df.date, errors='coerce')\n",
    "\n",
    "#18-08-2020 12:55\n",
    "df = df[df.date.notnull()]\n",
    "df = df[df.date.str.contains(\"-\")]\n",
    "\n",
    "df['date'] = df['date'].apply(lambda t: try_parse(t))\n",
    "df['xxx'] = pd.to_datetime(df['date'], format='%d-%m-%Y %H:%M')\n",
    "# df = df[df.date.isnull()]\n",
    "\n",
    "df = df.sort_index()\n",
    "df"
   ]
  },
  {
   "cell_type": "code",
   "execution_count": 290,
   "metadata": {},
   "outputs": [
    {
     "output_type": "execute_result",
     "data": {
      "text/plain": [
       "                                              user_name  \\\n",
       "0                                              MyNewsNE   \n",
       "4                                    Ann-Maree O’Connor   \n",
       "6                                      Rajesh Tadepalli   \n",
       "7           AKisASocialisolationist wash yer damn hands   \n",
       "8                                    Dr. Joseph Santoro   \n",
       "...                                                 ...   \n",
       "354384  Dr Mahendra G Patel We-are-ALL-AT-RISK #COVID19   \n",
       "354385                                      pinakbet808   \n",
       "354386                                  UCAN  Indonesia   \n",
       "354387                                       UCAN India   \n",
       "354388                                      VaccinatePA   \n",
       "\n",
       "                            user_location  user_followers user_friends  \\\n",
       "0                                   Assam            64.0           11   \n",
       "4               Adelaide, South Australia            83.0          497   \n",
       "6                        Hyderabad, India           918.0         2561   \n",
       "7             The Great Pacific Northwest          2321.0         3236   \n",
       "8                    Washington, DC 20009         19091.0        20986   \n",
       "...                                   ...             ...          ...   \n",
       "354384  Yorkshire and The Humber, England          5245.0         1296   \n",
       "354385                  San Francisco, CA             0.0           83   \n",
       "354386                            Jakarta          2954.0         1023   \n",
       "354387                              India          1771.0          270   \n",
       "354388                       Pennsylvania          1191.0           44   \n",
       "\n",
       "       user_favourites user_verified                date  \\\n",
       "0                  110         False 2020-08-18 12:55:00   \n",
       "4                10737         False 2020-08-18 12:45:00   \n",
       "6                31837         False 2020-08-18 12:34:00   \n",
       "7               264351         False 2020-08-18 12:30:00   \n",
       "8               128119         False 2020-08-18 12:15:00   \n",
       "...                ...           ...                 ...   \n",
       "354384           25625         False 2021-02-15 00:03:11   \n",
       "354385               0         False 2021-02-15 00:01:02   \n",
       "354386               2         False 2021-02-15 00:00:56   \n",
       "354387              65         False 2021-02-15 00:00:56   \n",
       "354388              44         False 2021-02-15 00:00:09   \n",
       "\n",
       "                                                     text  \\\n",
       "0       Australia to Manufacture Covid-19 Vaccine and ...   \n",
       "4       @michellegrattan @ConversationEDU This is what...   \n",
       "6       @PrivilRodrigues @yatish57 @deepkaranahuja @sh...   \n",
       "7       @MSNBC Well, let’s qualify that: would anyone ...   \n",
       "8       Most countries, without the ability to make #V...   \n",
       "...                                                   ...   \n",
       "354384  After weeks away now dipping in lightly &amp; ...   \n",
       "354385  I called my lola to wish her a Happy Valentine...   \n",
       "354386  Cambodia’s Ministry of Health approves emergen...   \n",
       "354387  Cambodia’s Ministry of Health approves emergen...   \n",
       "354388  Thanks for helping us get the word out, @abc27...   \n",
       "\n",
       "                     source                 xxx  \n",
       "0           Twitter Web App 2020-08-18 12:55:00  \n",
       "4           Twitter Web App 2020-08-18 12:45:00  \n",
       "6       Twitter for Android 2020-08-18 12:34:00  \n",
       "7        Twitter for iPhone 2020-08-18 12:30:00  \n",
       "8            Hootsuite Inc. 2020-08-18 12:15:00  \n",
       "...                     ...                 ...  \n",
       "354384   Twitter for iPhone 2021-02-15 00:03:11  \n",
       "354385   Twitter for iPhone 2021-02-15 00:01:02  \n",
       "354386       SocialPilot.co 2021-02-15 00:00:56  \n",
       "354387       SocialPilot.co 2021-02-15 00:00:56  \n",
       "354388      Twitter Web App 2021-02-15 00:00:09  \n",
       "\n",
       "[109325 rows x 10 columns]"
      ],
      "text/html": "<div>\n<style scoped>\n    .dataframe tbody tr th:only-of-type {\n        vertical-align: middle;\n    }\n\n    .dataframe tbody tr th {\n        vertical-align: top;\n    }\n\n    .dataframe thead th {\n        text-align: right;\n    }\n</style>\n<table border=\"1\" class=\"dataframe\">\n  <thead>\n    <tr style=\"text-align: right;\">\n      <th></th>\n      <th>user_name</th>\n      <th>user_location</th>\n      <th>user_followers</th>\n      <th>user_friends</th>\n      <th>user_favourites</th>\n      <th>user_verified</th>\n      <th>date</th>\n      <th>text</th>\n      <th>source</th>\n      <th>xxx</th>\n    </tr>\n  </thead>\n  <tbody>\n    <tr>\n      <th>0</th>\n      <td>MyNewsNE</td>\n      <td>Assam</td>\n      <td>64.0</td>\n      <td>11</td>\n      <td>110</td>\n      <td>False</td>\n      <td>2020-08-18 12:55:00</td>\n      <td>Australia to Manufacture Covid-19 Vaccine and ...</td>\n      <td>Twitter Web App</td>\n      <td>2020-08-18 12:55:00</td>\n    </tr>\n    <tr>\n      <th>4</th>\n      <td>Ann-Maree O’Connor</td>\n      <td>Adelaide, South Australia</td>\n      <td>83.0</td>\n      <td>497</td>\n      <td>10737</td>\n      <td>False</td>\n      <td>2020-08-18 12:45:00</td>\n      <td>@michellegrattan @ConversationEDU This is what...</td>\n      <td>Twitter Web App</td>\n      <td>2020-08-18 12:45:00</td>\n    </tr>\n    <tr>\n      <th>6</th>\n      <td>Rajesh Tadepalli</td>\n      <td>Hyderabad, India</td>\n      <td>918.0</td>\n      <td>2561</td>\n      <td>31837</td>\n      <td>False</td>\n      <td>2020-08-18 12:34:00</td>\n      <td>@PrivilRodrigues @yatish57 @deepkaranahuja @sh...</td>\n      <td>Twitter for Android</td>\n      <td>2020-08-18 12:34:00</td>\n    </tr>\n    <tr>\n      <th>7</th>\n      <td>AKisASocialisolationist wash yer damn hands</td>\n      <td>The Great Pacific Northwest</td>\n      <td>2321.0</td>\n      <td>3236</td>\n      <td>264351</td>\n      <td>False</td>\n      <td>2020-08-18 12:30:00</td>\n      <td>@MSNBC Well, let’s qualify that: would anyone ...</td>\n      <td>Twitter for iPhone</td>\n      <td>2020-08-18 12:30:00</td>\n    </tr>\n    <tr>\n      <th>8</th>\n      <td>Dr. Joseph Santoro</td>\n      <td>Washington, DC 20009</td>\n      <td>19091.0</td>\n      <td>20986</td>\n      <td>128119</td>\n      <td>False</td>\n      <td>2020-08-18 12:15:00</td>\n      <td>Most countries, without the ability to make #V...</td>\n      <td>Hootsuite Inc.</td>\n      <td>2020-08-18 12:15:00</td>\n    </tr>\n    <tr>\n      <th>...</th>\n      <td>...</td>\n      <td>...</td>\n      <td>...</td>\n      <td>...</td>\n      <td>...</td>\n      <td>...</td>\n      <td>...</td>\n      <td>...</td>\n      <td>...</td>\n      <td>...</td>\n    </tr>\n    <tr>\n      <th>354384</th>\n      <td>Dr Mahendra G Patel We-are-ALL-AT-RISK #COVID19</td>\n      <td>Yorkshire and The Humber, England</td>\n      <td>5245.0</td>\n      <td>1296</td>\n      <td>25625</td>\n      <td>False</td>\n      <td>2021-02-15 00:03:11</td>\n      <td>After weeks away now dipping in lightly &amp;amp; ...</td>\n      <td>Twitter for iPhone</td>\n      <td>2021-02-15 00:03:11</td>\n    </tr>\n    <tr>\n      <th>354385</th>\n      <td>pinakbet808</td>\n      <td>San Francisco, CA</td>\n      <td>0.0</td>\n      <td>83</td>\n      <td>0</td>\n      <td>False</td>\n      <td>2021-02-15 00:01:02</td>\n      <td>I called my lola to wish her a Happy Valentine...</td>\n      <td>Twitter for iPhone</td>\n      <td>2021-02-15 00:01:02</td>\n    </tr>\n    <tr>\n      <th>354386</th>\n      <td>UCAN  Indonesia</td>\n      <td>Jakarta</td>\n      <td>2954.0</td>\n      <td>1023</td>\n      <td>2</td>\n      <td>False</td>\n      <td>2021-02-15 00:00:56</td>\n      <td>Cambodia’s Ministry of Health approves emergen...</td>\n      <td>SocialPilot.co</td>\n      <td>2021-02-15 00:00:56</td>\n    </tr>\n    <tr>\n      <th>354387</th>\n      <td>UCAN India</td>\n      <td>India</td>\n      <td>1771.0</td>\n      <td>270</td>\n      <td>65</td>\n      <td>False</td>\n      <td>2021-02-15 00:00:56</td>\n      <td>Cambodia’s Ministry of Health approves emergen...</td>\n      <td>SocialPilot.co</td>\n      <td>2021-02-15 00:00:56</td>\n    </tr>\n    <tr>\n      <th>354388</th>\n      <td>VaccinatePA</td>\n      <td>Pennsylvania</td>\n      <td>1191.0</td>\n      <td>44</td>\n      <td>44</td>\n      <td>False</td>\n      <td>2021-02-15 00:00:09</td>\n      <td>Thanks for helping us get the word out, @abc27...</td>\n      <td>Twitter Web App</td>\n      <td>2021-02-15 00:00:09</td>\n    </tr>\n  </tbody>\n</table>\n<p>109325 rows × 10 columns</p>\n</div>"
     },
     "metadata": {},
     "execution_count": 290
    }
   ],
   "source": [
    "df2 = df.dropna()\n",
    "df2"
   ]
  },
  {
   "cell_type": "code",
   "execution_count": 291,
   "metadata": {},
   "outputs": [
    {
     "output_type": "execute_result",
     "data": {
      "text/plain": [
       "user_name           object\n",
       "user_location       object\n",
       "user_followers     float64\n",
       "user_friends        object\n",
       "user_favourites     object\n",
       "user_verified       object\n",
       "date                object\n",
       "text                object\n",
       "source              object\n",
       "dtype: object"
      ]
     },
     "metadata": {},
     "execution_count": 291
    }
   ],
   "source": [
    "load_vaccine_csv().dtypes\n"
   ]
  },
  {
   "cell_type": "code",
   "execution_count": 292,
   "metadata": {
    "tags": []
   },
   "outputs": [
    {
     "output_type": "execute_result",
     "data": {
      "text/plain": [
       "       user_followers\n",
       "count    1.374770e+05\n",
       "mean     5.157729e+04\n",
       "std      6.479442e+05\n",
       "min      0.000000e+00\n",
       "25%      1.390000e+02\n",
       "50%      6.030000e+02\n",
       "75%      2.664000e+03\n",
       "max      1.474791e+07"
      ],
      "text/html": "<div>\n<style scoped>\n    .dataframe tbody tr th:only-of-type {\n        vertical-align: middle;\n    }\n\n    .dataframe tbody tr th {\n        vertical-align: top;\n    }\n\n    .dataframe thead th {\n        text-align: right;\n    }\n</style>\n<table border=\"1\" class=\"dataframe\">\n  <thead>\n    <tr style=\"text-align: right;\">\n      <th></th>\n      <th>user_followers</th>\n    </tr>\n  </thead>\n  <tbody>\n    <tr>\n      <th>count</th>\n      <td>1.374770e+05</td>\n    </tr>\n    <tr>\n      <th>mean</th>\n      <td>5.157729e+04</td>\n    </tr>\n    <tr>\n      <th>std</th>\n      <td>6.479442e+05</td>\n    </tr>\n    <tr>\n      <th>min</th>\n      <td>0.000000e+00</td>\n    </tr>\n    <tr>\n      <th>25%</th>\n      <td>1.390000e+02</td>\n    </tr>\n    <tr>\n      <th>50%</th>\n      <td>6.030000e+02</td>\n    </tr>\n    <tr>\n      <th>75%</th>\n      <td>2.664000e+03</td>\n    </tr>\n    <tr>\n      <th>max</th>\n      <td>1.474791e+07</td>\n    </tr>\n  </tbody>\n</table>\n</div>"
     },
     "metadata": {},
     "execution_count": 292
    }
   ],
   "source": [
    "\n",
    "df.describe()\n",
    "# ####input your credentials here\n",
    "# consumer_key = 'SCOPBRKeG4nRCEa7XkMoqQ'\n",
    "# consumer_secret = 'RYInMkLiNyg0iKC3g89Y0f8g8kbNFSsNjZXNYBYILQ'\n",
    "# access_token = '107275871-PtAa9t7OJX82IEbGjdOzaFMgeCWQyU8haNPhN4mD'\n",
    "# access_token_secret = 'Q691rTrztjXeYAP5FEA5kZWRhuFRtH8sq6msPgUeD1TzI'\n",
    "\n",
    "# auth = tweepy.OAuthHandler(consumer_key, consumer_secret)\n",
    "# auth.set_access_token(access_token, access_token_secret)\n",
    "# api = tweepy.API(auth,wait_on_rate_limit=True)\n",
    "# #####United Airlines\n",
    "# # Open/Create a file to append data\n",
    "# csvFile = open('ua.csv', 'a')\n",
    "# #Use csv Writer\n",
    "# csvWriter = csv.writer(csvFile)\n",
    "\n",
    "# all_tweets = []\n",
    "\n",
    "# for tweet in tweepy.Cursor(api.search,q=\"#dulux\",count=100,\n",
    "#                            lang=\"en\",\n",
    "#                            since=\"2015-11-03\").items():\n",
    "#     print (tweet.created_at, tweet.text)\n",
    "#     all_tweets.append(tweet.text)\n",
    "#     csvWriter.writerow([tweet.created_at, tweet.text.encode('utf-8')])"
   ]
  },
  {
   "cell_type": "code",
   "execution_count": 293,
   "metadata": {},
   "outputs": [
    {
     "output_type": "stream",
     "name": "stderr",
     "text": [
      "[nltk_data] Downloading package wordnet to\n[nltk_data]     /Users/nimendrapethiyagoda/nltk_data...\n[nltk_data]   Package wordnet is already up-to-date!\n"
     ]
    }
   ],
   "source": [
    "import nltk\n",
    "nltk.download('wordnet')\n",
    "\n",
    "lemmatizer = WordNetLemmatizer()"
   ]
  },
  {
   "cell_type": "code",
   "execution_count": 294,
   "metadata": {},
   "outputs": [],
   "source": [
    "def process_text(doc):\n",
    "    sw = set(stopwords.words('english'))\n",
    "    regex = re.compile(\"[^a-zA-Z ]\")\n",
    "    re_clean = regex.sub('', doc)\n",
    "    words = word_tokenize(re_clean)\n",
    "    lem = [lemmatizer.lemmatize(word) for word in words]\n",
    "    output = [word.lower() for word in lem if word.lower() not in sw]\n",
    "    return ' '.join(output)"
   ]
  },
  {
   "cell_type": "code",
   "execution_count": 295,
   "metadata": {},
   "outputs": [],
   "source": [
    "def analyse_sentiment(df):\n",
    "    load_dotenv()\n",
    "    tone_api = os.getenv(\"TONE_ANALYZER_APIKEY\")\n",
    "    tone_url = os.getenv(\"TONE_ANALYZER_URL\")\n",
    "    authenticator = IAMAuthenticator(tone_api)\n",
    "    tone_analyzer = ToneAnalyzerV3(\n",
    "        version=\"2017-09-21\",\n",
    "        authenticator=authenticator\n",
    "    )\n",
    "\n",
    "    utterances = [{\"text\": u, \"user\": \"guest\"} for u in df['text'].to_numpy()]\n",
    "\n",
    "    # Analyze utterances using the 'tone_chat()' method\n",
    "    utterance_analysis = tone_analyzer.tone_chat(\n",
    "        utterances=utterances, content_language=\"en\", accept_language=\"en\"\n",
    "    ).get_result()\n",
    "    # print(json.dumps(utterance_analysis, indent=2))\n",
    "    chat_tone_df = json_normalize(\n",
    "        data=utterance_analysis[\"utterances_tone\"],\n",
    "        record_path=[\"tones\"],\n",
    "        meta=[\"utterance_id\", \"utterance_text\"],\n",
    "    )\n",
    "    return chat_tone_df"
   ]
  },
  {
   "cell_type": "code",
   "execution_count": 296,
   "metadata": {},
   "outputs": [],
   "source": [
    "def analyse_sentimemnt_vader(df):\n",
    "    \n",
    "    sentiments = []\n",
    "\n",
    "    for index, row in df.iterrows():\n",
    "        try:\n",
    "            text = row[\"text\"]\n",
    "            # date = article[\"publishedAt\"][:10]\n",
    "            sentiment = analyzer.polarity_scores(text)\n",
    "            compound = sentiment[\"compound\"]\n",
    "            pos = sentiment[\"pos\"]\n",
    "            neu = sentiment[\"neu\"]\n",
    "            neg = sentiment[\"neg\"]\n",
    "            \n",
    "            sentiments.append({\n",
    "                \"text\": text,\n",
    "                \"date\": row['date'],\n",
    "                \"user_location\":row['user_location'],\n",
    "                \"user_followers\":row['user_followers'],\n",
    "                \"user_friends\":row['user_friends'],\n",
    "                \"user_favourites\":row['user_favourites'],\n",
    "                \"user_name\": row['user_name'],\n",
    "                \"user_verified\": row['user_verified'],\n",
    "                \"source\": row['source'],\n",
    "                \"compound\": compound,\n",
    "                \"positive\": pos,\n",
    "                \"negative\": neg,\n",
    "                \"neutral\": neu\n",
    "                \n",
    "            })\n",
    "            \n",
    "        except AttributeError:\n",
    "            pass\n",
    "        \n",
    "    # Create DataFrame\n",
    "    ret_df = pd.DataFrame(sentiments)\n",
    "\n",
    "    # Reorder DataFrame columns\n",
    "    cols = [\"date\",\"user_name\", \"user_location\",\"user_followers\", \"user_friends\", \"user_favourites\", \"text\", \"compound\", \"positive\", \"negative\", \"neutral\", \"user_verified\", \"source\"]\n",
    "    ret_df = ret_df[cols]\n",
    "    ret_df.set_index('date', inplace=True)\n",
    "    ret_df = ret_df.sort_index()\n",
    "\n",
    "    return ret_df"
   ]
  },
  {
   "cell_type": "code",
   "execution_count": 299,
   "metadata": {},
   "outputs": [
    {
     "output_type": "stream",
     "name": "stderr",
     "text": [
      "[nltk_data] Downloading package vader_lexicon to\n[nltk_data]     /Users/nimendrapethiyagoda/nltk_data...\n[nltk_data]   Package vader_lexicon is already up-to-date!\n"
     ]
    },
    {
     "output_type": "execute_result",
     "data": {
      "text/plain": [
       "                                          user_name            user_location  \\\n",
       "date                                                                           \n",
       "2020-08-09 19:15:00                          Ashwin                 India 🇮🇳   \n",
       "2020-08-09 20:02:00                   K. Kartik Rao  Mumbai and Nagpur India   \n",
       "2020-08-09 21:21:00  Mac Patrick (Road Hater) Henry    German Bundesrepublik   \n",
       "2020-08-09 21:29:00                      lydia Bell                   Earth    \n",
       "2020-08-09 22:55:00                 Lou Ann Donovan              Kansas, USA   \n",
       "...                                             ...                      ...   \n",
       "2021-02-18 23:58:25                     Jules Doyle                  Chicago   \n",
       "2021-02-18 23:58:41                  Bradley Mathys         Montréal, Québec   \n",
       "2021-02-18 23:59:37                 sir crankypants      South Carolina, USA   \n",
       "2021-02-18 23:59:50                     Rob Weisman                   Boston   \n",
       "2021-02-18 23:59:55          rheanna o’neil bellomo             New York, NY   \n",
       "\n",
       "                     user_followers user_friends user_favourites  \\\n",
       "date                                                               \n",
       "2020-08-09 19:15:00            89.0         3108            6780   \n",
       "2020-08-09 20:02:00           225.0          257           25362   \n",
       "2020-08-09 21:21:00           338.0          277           28305   \n",
       "2020-08-09 21:29:00          2038.0         1105           63422   \n",
       "2020-08-09 22:55:00          4365.0         4581            2505   \n",
       "...                             ...          ...             ...   \n",
       "2021-02-18 23:58:25           799.0         2467          112893   \n",
       "2021-02-18 23:58:41            18.0          143             160   \n",
       "2021-02-18 23:59:37           215.0          617            8905   \n",
       "2021-02-18 23:59:50          3678.0          780             574   \n",
       "2021-02-18 23:59:55          1731.0         2326            6929   \n",
       "\n",
       "                                                                  text  \\\n",
       "date                                                                     \n",
       "2020-08-09 19:15:00  Huge Thanks And Best Wishes With @SerumInstInd...   \n",
       "2020-08-09 20:02:00                   Any update of #CovidVaccine ????   \n",
       "2020-08-09 21:21:00  From a private frontline COVID nurses group to...   \n",
       "2020-08-09 21:29:00  So you want the whole world to take a #covidva...   \n",
       "2020-08-09 22:55:00  Watch to learn about the Phase 3 clinical tria...   \n",
       "...                                                                ...   \n",
       "2021-02-18 23:58:25  The #nightlynews is essentially 30 minutes of ...   \n",
       "2021-02-18 23:58:41  Woohoo! First dose of Moderna is done. Feels g...   \n",
       "2021-02-18 23:59:37  \"I don't want to be a guinea pig, my life's to...   \n",
       "2021-02-18 23:59:50  Oversight panel panel asks @MassGovernor and C...   \n",
       "2021-02-18 23:59:55  re: cancer patients unable to schedule #covidv...   \n",
       "\n",
       "                     compound  positive  negative  neutral user_verified  \\\n",
       "date                                                                       \n",
       "2020-08-09 19:15:00    0.9169     0.517     0.000    0.483         False   \n",
       "2020-08-09 20:02:00    0.0000     0.000     0.000    1.000         False   \n",
       "2020-08-09 21:21:00    0.0000     0.000     0.000    1.000         False   \n",
       "2020-08-09 21:29:00    0.0745     0.058     0.000    0.942         False   \n",
       "2020-08-09 22:55:00    0.0000     0.000     0.000    1.000         False   \n",
       "...                       ...       ...       ...      ...           ...   \n",
       "2021-02-18 23:58:25   -0.2263     0.000     0.101    0.899         False   \n",
       "2021-02-18 23:58:41    0.7772     0.430     0.000    0.570         False   \n",
       "2021-02-18 23:59:37    0.1476     0.078     0.053    0.869         False   \n",
       "2021-02-18 23:59:50    0.0000     0.000     0.000    1.000         False   \n",
       "2021-02-18 23:59:55   -0.6597     0.000     0.286    0.714          True   \n",
       "\n",
       "                                  source  \n",
       "date                                      \n",
       "2020-08-09 19:15:00  Twitter for Android  \n",
       "2020-08-09 20:02:00  Twitter for Android  \n",
       "2020-08-09 21:21:00      Twitter Web App  \n",
       "2020-08-09 21:29:00   Twitter for iPhone  \n",
       "2020-08-09 22:55:00   Twitter for iPhone  \n",
       "...                                  ...  \n",
       "2021-02-18 23:58:25   Twitter for iPhone  \n",
       "2021-02-18 23:58:41  Twitter for Android  \n",
       "2021-02-18 23:59:37  Twitter for Android  \n",
       "2021-02-18 23:59:50      Twitter Web App  \n",
       "2021-02-18 23:59:55      Twitter Web App  \n",
       "\n",
       "[109325 rows x 12 columns]"
      ],
      "text/html": "<div>\n<style scoped>\n    .dataframe tbody tr th:only-of-type {\n        vertical-align: middle;\n    }\n\n    .dataframe tbody tr th {\n        vertical-align: top;\n    }\n\n    .dataframe thead th {\n        text-align: right;\n    }\n</style>\n<table border=\"1\" class=\"dataframe\">\n  <thead>\n    <tr style=\"text-align: right;\">\n      <th></th>\n      <th>user_name</th>\n      <th>user_location</th>\n      <th>user_followers</th>\n      <th>user_friends</th>\n      <th>user_favourites</th>\n      <th>text</th>\n      <th>compound</th>\n      <th>positive</th>\n      <th>negative</th>\n      <th>neutral</th>\n      <th>user_verified</th>\n      <th>source</th>\n    </tr>\n    <tr>\n      <th>date</th>\n      <th></th>\n      <th></th>\n      <th></th>\n      <th></th>\n      <th></th>\n      <th></th>\n      <th></th>\n      <th></th>\n      <th></th>\n      <th></th>\n      <th></th>\n      <th></th>\n    </tr>\n  </thead>\n  <tbody>\n    <tr>\n      <th>2020-08-09 19:15:00</th>\n      <td>Ashwin</td>\n      <td>India 🇮🇳</td>\n      <td>89.0</td>\n      <td>3108</td>\n      <td>6780</td>\n      <td>Huge Thanks And Best Wishes With @SerumInstInd...</td>\n      <td>0.9169</td>\n      <td>0.517</td>\n      <td>0.000</td>\n      <td>0.483</td>\n      <td>False</td>\n      <td>Twitter for Android</td>\n    </tr>\n    <tr>\n      <th>2020-08-09 20:02:00</th>\n      <td>K. Kartik Rao</td>\n      <td>Mumbai and Nagpur India</td>\n      <td>225.0</td>\n      <td>257</td>\n      <td>25362</td>\n      <td>Any update of #CovidVaccine ????</td>\n      <td>0.0000</td>\n      <td>0.000</td>\n      <td>0.000</td>\n      <td>1.000</td>\n      <td>False</td>\n      <td>Twitter for Android</td>\n    </tr>\n    <tr>\n      <th>2020-08-09 21:21:00</th>\n      <td>Mac Patrick (Road Hater) Henry</td>\n      <td>German Bundesrepublik</td>\n      <td>338.0</td>\n      <td>277</td>\n      <td>28305</td>\n      <td>From a private frontline COVID nurses group to...</td>\n      <td>0.0000</td>\n      <td>0.000</td>\n      <td>0.000</td>\n      <td>1.000</td>\n      <td>False</td>\n      <td>Twitter Web App</td>\n    </tr>\n    <tr>\n      <th>2020-08-09 21:29:00</th>\n      <td>lydia Bell</td>\n      <td>Earth</td>\n      <td>2038.0</td>\n      <td>1105</td>\n      <td>63422</td>\n      <td>So you want the whole world to take a #covidva...</td>\n      <td>0.0745</td>\n      <td>0.058</td>\n      <td>0.000</td>\n      <td>0.942</td>\n      <td>False</td>\n      <td>Twitter for iPhone</td>\n    </tr>\n    <tr>\n      <th>2020-08-09 22:55:00</th>\n      <td>Lou Ann Donovan</td>\n      <td>Kansas, USA</td>\n      <td>4365.0</td>\n      <td>4581</td>\n      <td>2505</td>\n      <td>Watch to learn about the Phase 3 clinical tria...</td>\n      <td>0.0000</td>\n      <td>0.000</td>\n      <td>0.000</td>\n      <td>1.000</td>\n      <td>False</td>\n      <td>Twitter for iPhone</td>\n    </tr>\n    <tr>\n      <th>...</th>\n      <td>...</td>\n      <td>...</td>\n      <td>...</td>\n      <td>...</td>\n      <td>...</td>\n      <td>...</td>\n      <td>...</td>\n      <td>...</td>\n      <td>...</td>\n      <td>...</td>\n      <td>...</td>\n      <td>...</td>\n    </tr>\n    <tr>\n      <th>2021-02-18 23:58:25</th>\n      <td>Jules Doyle</td>\n      <td>Chicago</td>\n      <td>799.0</td>\n      <td>2467</td>\n      <td>112893</td>\n      <td>The #nightlynews is essentially 30 minutes of ...</td>\n      <td>-0.2263</td>\n      <td>0.000</td>\n      <td>0.101</td>\n      <td>0.899</td>\n      <td>False</td>\n      <td>Twitter for iPhone</td>\n    </tr>\n    <tr>\n      <th>2021-02-18 23:58:41</th>\n      <td>Bradley Mathys</td>\n      <td>Montréal, Québec</td>\n      <td>18.0</td>\n      <td>143</td>\n      <td>160</td>\n      <td>Woohoo! First dose of Moderna is done. Feels g...</td>\n      <td>0.7772</td>\n      <td>0.430</td>\n      <td>0.000</td>\n      <td>0.570</td>\n      <td>False</td>\n      <td>Twitter for Android</td>\n    </tr>\n    <tr>\n      <th>2021-02-18 23:59:37</th>\n      <td>sir crankypants</td>\n      <td>South Carolina, USA</td>\n      <td>215.0</td>\n      <td>617</td>\n      <td>8905</td>\n      <td>\"I don't want to be a guinea pig, my life's to...</td>\n      <td>0.1476</td>\n      <td>0.078</td>\n      <td>0.053</td>\n      <td>0.869</td>\n      <td>False</td>\n      <td>Twitter for Android</td>\n    </tr>\n    <tr>\n      <th>2021-02-18 23:59:50</th>\n      <td>Rob Weisman</td>\n      <td>Boston</td>\n      <td>3678.0</td>\n      <td>780</td>\n      <td>574</td>\n      <td>Oversight panel panel asks @MassGovernor and C...</td>\n      <td>0.0000</td>\n      <td>0.000</td>\n      <td>0.000</td>\n      <td>1.000</td>\n      <td>False</td>\n      <td>Twitter Web App</td>\n    </tr>\n    <tr>\n      <th>2021-02-18 23:59:55</th>\n      <td>rheanna o’neil bellomo</td>\n      <td>New York, NY</td>\n      <td>1731.0</td>\n      <td>2326</td>\n      <td>6929</td>\n      <td>re: cancer patients unable to schedule #covidv...</td>\n      <td>-0.6597</td>\n      <td>0.000</td>\n      <td>0.286</td>\n      <td>0.714</td>\n      <td>True</td>\n      <td>Twitter Web App</td>\n    </tr>\n  </tbody>\n</table>\n<p>109325 rows × 12 columns</p>\n</div>"
     },
     "metadata": {},
     "execution_count": 299
    }
   ],
   "source": [
    "# df['text'].to_numpy()\n",
    "# Download/Update the VADER Lexicon\n",
    "nltk.download('vader_lexicon')\n",
    "\n",
    "# Initialize the VADER sentiment analyzer\n",
    "analyzer = SentimentIntensityAnalyzer()\n",
    "tweet_tone_df = analyse_sentimemnt_vader(df2)\n",
    "tweet_tone_df"
   ]
  },
  {
   "cell_type": "code",
   "execution_count": 284,
   "metadata": {},
   "outputs": [
    {
     "output_type": "execute_result",
     "data": {
      "text/plain": [
       "Location(Austin, Travis County, Texas, United States, (30.2711286, -97.7436995, 0.0))"
      ]
     },
     "metadata": {},
     "execution_count": 284
    }
   ],
   "source": [
    "from geopy.geocoders import Nominatim\n",
    "app = Nominatim(user_agent=\"JournalDev\")\n",
    "location = app.geocode(\"Austin, Texas\")\n",
    "location"
   ]
  },
  {
   "cell_type": "code",
   "execution_count": 300,
   "metadata": {},
   "outputs": [
    {
     "output_type": "execute_result",
     "data": {
      "text/plain": [
       "                          open       high        low      close  volume\n",
       "date                                                                   \n",
       "2020-07-31 04:15:00  35.984022  35.984022  35.984022  35.984022     215\n",
       "2020-07-31 05:00:00  35.984022  35.984022  35.984022  35.984022     105\n",
       "2020-07-31 05:15:00  36.002599  36.002599  36.002599  36.002599     217\n",
       "2020-07-31 05:30:00  36.104774  36.188371  36.039754  36.039754    1850\n",
       "2020-07-31 06:00:00  36.132640  36.132640  36.132640  36.132640     196\n",
       "...                        ...        ...        ...        ...     ...\n",
       "2021-02-25 19:00:00  33.760000  33.769900  33.740000  33.750000    1945\n",
       "2021-02-25 19:15:00  33.730000  33.750000  33.710000  33.710000    5680\n",
       "2021-02-25 19:30:00  33.710000  33.720100  33.710000  33.710000    6066\n",
       "2021-02-25 19:45:00  33.700000  33.700000  33.680000  33.680000   10365\n",
       "2021-02-25 20:00:00  33.650000  33.670000  33.600000  33.620000   21053\n",
       "\n",
       "[8589 rows x 5 columns]"
      ],
      "text/html": "<div>\n<style scoped>\n    .dataframe tbody tr th:only-of-type {\n        vertical-align: middle;\n    }\n\n    .dataframe tbody tr th {\n        vertical-align: top;\n    }\n\n    .dataframe thead th {\n        text-align: right;\n    }\n</style>\n<table border=\"1\" class=\"dataframe\">\n  <thead>\n    <tr style=\"text-align: right;\">\n      <th></th>\n      <th>open</th>\n      <th>high</th>\n      <th>low</th>\n      <th>close</th>\n      <th>volume</th>\n    </tr>\n    <tr>\n      <th>date</th>\n      <th></th>\n      <th></th>\n      <th></th>\n      <th></th>\n      <th></th>\n    </tr>\n  </thead>\n  <tbody>\n    <tr>\n      <th>2020-07-31 04:15:00</th>\n      <td>35.984022</td>\n      <td>35.984022</td>\n      <td>35.984022</td>\n      <td>35.984022</td>\n      <td>215</td>\n    </tr>\n    <tr>\n      <th>2020-07-31 05:00:00</th>\n      <td>35.984022</td>\n      <td>35.984022</td>\n      <td>35.984022</td>\n      <td>35.984022</td>\n      <td>105</td>\n    </tr>\n    <tr>\n      <th>2020-07-31 05:15:00</th>\n      <td>36.002599</td>\n      <td>36.002599</td>\n      <td>36.002599</td>\n      <td>36.002599</td>\n      <td>217</td>\n    </tr>\n    <tr>\n      <th>2020-07-31 05:30:00</th>\n      <td>36.104774</td>\n      <td>36.188371</td>\n      <td>36.039754</td>\n      <td>36.039754</td>\n      <td>1850</td>\n    </tr>\n    <tr>\n      <th>2020-07-31 06:00:00</th>\n      <td>36.132640</td>\n      <td>36.132640</td>\n      <td>36.132640</td>\n      <td>36.132640</td>\n      <td>196</td>\n    </tr>\n    <tr>\n      <th>...</th>\n      <td>...</td>\n      <td>...</td>\n      <td>...</td>\n      <td>...</td>\n      <td>...</td>\n    </tr>\n    <tr>\n      <th>2021-02-25 19:00:00</th>\n      <td>33.760000</td>\n      <td>33.769900</td>\n      <td>33.740000</td>\n      <td>33.750000</td>\n      <td>1945</td>\n    </tr>\n    <tr>\n      <th>2021-02-25 19:15:00</th>\n      <td>33.730000</td>\n      <td>33.750000</td>\n      <td>33.710000</td>\n      <td>33.710000</td>\n      <td>5680</td>\n    </tr>\n    <tr>\n      <th>2021-02-25 19:30:00</th>\n      <td>33.710000</td>\n      <td>33.720100</td>\n      <td>33.710000</td>\n      <td>33.710000</td>\n      <td>6066</td>\n    </tr>\n    <tr>\n      <th>2021-02-25 19:45:00</th>\n      <td>33.700000</td>\n      <td>33.700000</td>\n      <td>33.680000</td>\n      <td>33.680000</td>\n      <td>10365</td>\n    </tr>\n    <tr>\n      <th>2021-02-25 20:00:00</th>\n      <td>33.650000</td>\n      <td>33.670000</td>\n      <td>33.600000</td>\n      <td>33.620000</td>\n      <td>21053</td>\n    </tr>\n  </tbody>\n</table>\n<p>8589 rows × 5 columns</p>\n</div>"
     },
     "metadata": {},
     "execution_count": 300
    }
   ],
   "source": [
    "pfizer_df = pd.read_csv('./Pfizer.csv', parse_dates=True, index_col='time',)\n",
    "pfizer_df.index.names = ['date']\n",
    "pfizer_df\n"
   ]
  },
  {
   "cell_type": "code",
   "execution_count": 301,
   "metadata": {},
   "outputs": [
    {
     "output_type": "execute_result",
     "data": {
      "text/plain": [
       "                     user_followers  compound  positive  negative  neutral  \\\n",
       "date                                                                         \n",
       "2020-08-10 05:30:00             0.0    0.0000     0.000     0.000    0.000   \n",
       "2020-08-10 07:15:00             0.0    0.0000     0.000     0.000    0.000   \n",
       "2020-08-10 07:30:00             0.0    0.0000     0.000     0.000    0.000   \n",
       "2020-08-10 07:45:00        548972.0   -0.3612     0.000     0.161    1.839   \n",
       "2020-08-10 08:00:00           669.0    0.3400     0.165     0.101    2.734   \n",
       "...                             ...       ...       ...       ...      ...   \n",
       "2021-02-18 19:00:00        274209.0    3.9705     3.894     1.548   34.558   \n",
       "2021-02-18 19:15:00        660176.0   -0.0226     1.402     1.440   21.157   \n",
       "2021-02-18 19:30:00        223090.0    6.1219     3.163     1.052   29.785   \n",
       "2021-02-18 19:45:00        847249.0    0.9879     2.001     1.554   15.445   \n",
       "2021-02-18 20:00:00         79170.0    3.9511     2.479     0.733   20.788   \n",
       "\n",
       "                     source_92 News HD  source_@healthpolicyw  \\\n",
       "date                                                            \n",
       "2020-08-10 05:30:00                  0                      0   \n",
       "2020-08-10 07:15:00                  0                      0   \n",
       "2020-08-10 07:30:00                  0                      0   \n",
       "2020-08-10 07:45:00                  0                      0   \n",
       "2020-08-10 08:00:00                  0                      0   \n",
       "...                                ...                    ...   \n",
       "2021-02-18 19:00:00                  0                      0   \n",
       "2021-02-18 19:15:00                  0                      0   \n",
       "2021-02-18 19:30:00                  0                      0   \n",
       "2021-02-18 19:45:00                  0                      0   \n",
       "2021-02-18 20:00:00                  0                      0   \n",
       "\n",
       "                     source_A Touch of Snark  source_Africa Newsroom  \\\n",
       "date                                                                   \n",
       "2020-08-10 05:30:00                        0                       0   \n",
       "2020-08-10 07:15:00                        0                       0   \n",
       "2020-08-10 07:30:00                        0                       0   \n",
       "2020-08-10 07:45:00                        0                       0   \n",
       "2020-08-10 08:00:00                        0                       0   \n",
       "...                                      ...                     ...   \n",
       "2021-02-18 19:00:00                        0                       0   \n",
       "2021-02-18 19:15:00                        0                       0   \n",
       "2021-02-18 19:30:00                        0                       0   \n",
       "2021-02-18 19:45:00                        0                       0   \n",
       "2021-02-18 20:00:00                        0                       0   \n",
       "\n",
       "                     source_AgoraPulse Manager  ...  source_iOS  \\\n",
       "date                                            ...               \n",
       "2020-08-10 05:30:00                          0  ...           0   \n",
       "2020-08-10 07:15:00                          0  ...           0   \n",
       "2020-08-10 07:30:00                          0  ...           0   \n",
       "2020-08-10 07:45:00                          0  ...           0   \n",
       "2020-08-10 08:00:00                          0  ...           0   \n",
       "...                                        ...  ...         ...   \n",
       "2021-02-18 19:00:00                          0  ...           0   \n",
       "2021-02-18 19:15:00                          0  ...           0   \n",
       "2021-02-18 19:30:00                          0  ...           0   \n",
       "2021-02-18 19:45:00                          0  ...           0   \n",
       "2021-02-18 20:00:00                          0  ...           0   \n",
       "\n",
       "                     source_recurpost.com  source_robly_marketing  \\\n",
       "date                                                                \n",
       "2020-08-10 05:30:00                     0                       0   \n",
       "2020-08-10 07:15:00                     0                       0   \n",
       "2020-08-10 07:30:00                     0                       0   \n",
       "2020-08-10 07:45:00                     0                       0   \n",
       "2020-08-10 08:00:00                     0                       0   \n",
       "...                                   ...                     ...   \n",
       "2021-02-18 19:00:00                     0                       0   \n",
       "2021-02-18 19:15:00                     0                       0   \n",
       "2021-02-18 19:30:00                     0                       0   \n",
       "2021-02-18 19:45:00                     0                       0   \n",
       "2021-02-18 20:00:00                     0                       0   \n",
       "\n",
       "                     source_syllogiTweeter  verified       open       high  \\\n",
       "date                                                                         \n",
       "2020-08-10 05:30:00                      0         0  35.733230  35.733230   \n",
       "2020-08-10 07:15:00                      0         0  35.853982  35.872559   \n",
       "2020-08-10 07:30:00                      0         0  35.770384  35.770384   \n",
       "2020-08-10 07:45:00                      0         1  35.761096  35.779673   \n",
       "2020-08-10 08:00:00                      0         0  35.807539  35.807539   \n",
       "...                                    ...       ...        ...        ...   \n",
       "2021-02-18 19:00:00                      0         0  34.540000  34.560000   \n",
       "2021-02-18 19:15:00                      0         0  34.540000  34.540000   \n",
       "2021-02-18 19:30:00                      0         0  34.510000  34.540000   \n",
       "2021-02-18 19:45:00                      0         0  34.530000  34.550000   \n",
       "2021-02-18 20:00:00                      0         0  34.520000  34.550000   \n",
       "\n",
       "                           low      close  volume  \n",
       "date                                               \n",
       "2020-08-10 05:30:00  35.733230  35.733230     386  \n",
       "2020-08-10 07:15:00  35.761096  35.872559    1719  \n",
       "2020-08-10 07:30:00  35.770384  35.770384     210  \n",
       "2020-08-10 07:45:00  35.761096  35.779673    2073  \n",
       "2020-08-10 08:00:00  35.761096  35.761096    1618  \n",
       "...                        ...        ...     ...  \n",
       "2021-02-18 19:00:00  34.510000  34.510000   22236  \n",
       "2021-02-18 19:15:00  34.510000  34.520000    6693  \n",
       "2021-02-18 19:30:00  34.510000  34.530000    6108  \n",
       "2021-02-18 19:45:00  34.520000  34.540000    7004  \n",
       "2021-02-18 20:00:00  34.510000  34.550000   27064  \n",
       "\n",
       "[7931 rows x 221 columns]"
      ],
      "text/html": "<div>\n<style scoped>\n    .dataframe tbody tr th:only-of-type {\n        vertical-align: middle;\n    }\n\n    .dataframe tbody tr th {\n        vertical-align: top;\n    }\n\n    .dataframe thead th {\n        text-align: right;\n    }\n</style>\n<table border=\"1\" class=\"dataframe\">\n  <thead>\n    <tr style=\"text-align: right;\">\n      <th></th>\n      <th>user_followers</th>\n      <th>compound</th>\n      <th>positive</th>\n      <th>negative</th>\n      <th>neutral</th>\n      <th>source_92 News HD</th>\n      <th>source_@healthpolicyw</th>\n      <th>source_A Touch of Snark</th>\n      <th>source_Africa Newsroom</th>\n      <th>source_AgoraPulse Manager</th>\n      <th>...</th>\n      <th>source_iOS</th>\n      <th>source_recurpost.com</th>\n      <th>source_robly_marketing</th>\n      <th>source_syllogiTweeter</th>\n      <th>verified</th>\n      <th>open</th>\n      <th>high</th>\n      <th>low</th>\n      <th>close</th>\n      <th>volume</th>\n    </tr>\n    <tr>\n      <th>date</th>\n      <th></th>\n      <th></th>\n      <th></th>\n      <th></th>\n      <th></th>\n      <th></th>\n      <th></th>\n      <th></th>\n      <th></th>\n      <th></th>\n      <th></th>\n      <th></th>\n      <th></th>\n      <th></th>\n      <th></th>\n      <th></th>\n      <th></th>\n      <th></th>\n      <th></th>\n      <th></th>\n      <th></th>\n    </tr>\n  </thead>\n  <tbody>\n    <tr>\n      <th>2020-08-10 05:30:00</th>\n      <td>0.0</td>\n      <td>0.0000</td>\n      <td>0.000</td>\n      <td>0.000</td>\n      <td>0.000</td>\n      <td>0</td>\n      <td>0</td>\n      <td>0</td>\n      <td>0</td>\n      <td>0</td>\n      <td>...</td>\n      <td>0</td>\n      <td>0</td>\n      <td>0</td>\n      <td>0</td>\n      <td>0</td>\n      <td>35.733230</td>\n      <td>35.733230</td>\n      <td>35.733230</td>\n      <td>35.733230</td>\n      <td>386</td>\n    </tr>\n    <tr>\n      <th>2020-08-10 07:15:00</th>\n      <td>0.0</td>\n      <td>0.0000</td>\n      <td>0.000</td>\n      <td>0.000</td>\n      <td>0.000</td>\n      <td>0</td>\n      <td>0</td>\n      <td>0</td>\n      <td>0</td>\n      <td>0</td>\n      <td>...</td>\n      <td>0</td>\n      <td>0</td>\n      <td>0</td>\n      <td>0</td>\n      <td>0</td>\n      <td>35.853982</td>\n      <td>35.872559</td>\n      <td>35.761096</td>\n      <td>35.872559</td>\n      <td>1719</td>\n    </tr>\n    <tr>\n      <th>2020-08-10 07:30:00</th>\n      <td>0.0</td>\n      <td>0.0000</td>\n      <td>0.000</td>\n      <td>0.000</td>\n      <td>0.000</td>\n      <td>0</td>\n      <td>0</td>\n      <td>0</td>\n      <td>0</td>\n      <td>0</td>\n      <td>...</td>\n      <td>0</td>\n      <td>0</td>\n      <td>0</td>\n      <td>0</td>\n      <td>0</td>\n      <td>35.770384</td>\n      <td>35.770384</td>\n      <td>35.770384</td>\n      <td>35.770384</td>\n      <td>210</td>\n    </tr>\n    <tr>\n      <th>2020-08-10 07:45:00</th>\n      <td>548972.0</td>\n      <td>-0.3612</td>\n      <td>0.000</td>\n      <td>0.161</td>\n      <td>1.839</td>\n      <td>0</td>\n      <td>0</td>\n      <td>0</td>\n      <td>0</td>\n      <td>0</td>\n      <td>...</td>\n      <td>0</td>\n      <td>0</td>\n      <td>0</td>\n      <td>0</td>\n      <td>1</td>\n      <td>35.761096</td>\n      <td>35.779673</td>\n      <td>35.761096</td>\n      <td>35.779673</td>\n      <td>2073</td>\n    </tr>\n    <tr>\n      <th>2020-08-10 08:00:00</th>\n      <td>669.0</td>\n      <td>0.3400</td>\n      <td>0.165</td>\n      <td>0.101</td>\n      <td>2.734</td>\n      <td>0</td>\n      <td>0</td>\n      <td>0</td>\n      <td>0</td>\n      <td>0</td>\n      <td>...</td>\n      <td>0</td>\n      <td>0</td>\n      <td>0</td>\n      <td>0</td>\n      <td>0</td>\n      <td>35.807539</td>\n      <td>35.807539</td>\n      <td>35.761096</td>\n      <td>35.761096</td>\n      <td>1618</td>\n    </tr>\n    <tr>\n      <th>...</th>\n      <td>...</td>\n      <td>...</td>\n      <td>...</td>\n      <td>...</td>\n      <td>...</td>\n      <td>...</td>\n      <td>...</td>\n      <td>...</td>\n      <td>...</td>\n      <td>...</td>\n      <td>...</td>\n      <td>...</td>\n      <td>...</td>\n      <td>...</td>\n      <td>...</td>\n      <td>...</td>\n      <td>...</td>\n      <td>...</td>\n      <td>...</td>\n      <td>...</td>\n      <td>...</td>\n    </tr>\n    <tr>\n      <th>2021-02-18 19:00:00</th>\n      <td>274209.0</td>\n      <td>3.9705</td>\n      <td>3.894</td>\n      <td>1.548</td>\n      <td>34.558</td>\n      <td>0</td>\n      <td>0</td>\n      <td>0</td>\n      <td>0</td>\n      <td>0</td>\n      <td>...</td>\n      <td>0</td>\n      <td>0</td>\n      <td>0</td>\n      <td>0</td>\n      <td>0</td>\n      <td>34.540000</td>\n      <td>34.560000</td>\n      <td>34.510000</td>\n      <td>34.510000</td>\n      <td>22236</td>\n    </tr>\n    <tr>\n      <th>2021-02-18 19:15:00</th>\n      <td>660176.0</td>\n      <td>-0.0226</td>\n      <td>1.402</td>\n      <td>1.440</td>\n      <td>21.157</td>\n      <td>0</td>\n      <td>0</td>\n      <td>0</td>\n      <td>0</td>\n      <td>0</td>\n      <td>...</td>\n      <td>0</td>\n      <td>0</td>\n      <td>0</td>\n      <td>0</td>\n      <td>0</td>\n      <td>34.540000</td>\n      <td>34.540000</td>\n      <td>34.510000</td>\n      <td>34.520000</td>\n      <td>6693</td>\n    </tr>\n    <tr>\n      <th>2021-02-18 19:30:00</th>\n      <td>223090.0</td>\n      <td>6.1219</td>\n      <td>3.163</td>\n      <td>1.052</td>\n      <td>29.785</td>\n      <td>0</td>\n      <td>0</td>\n      <td>0</td>\n      <td>0</td>\n      <td>0</td>\n      <td>...</td>\n      <td>0</td>\n      <td>0</td>\n      <td>0</td>\n      <td>0</td>\n      <td>0</td>\n      <td>34.510000</td>\n      <td>34.540000</td>\n      <td>34.510000</td>\n      <td>34.530000</td>\n      <td>6108</td>\n    </tr>\n    <tr>\n      <th>2021-02-18 19:45:00</th>\n      <td>847249.0</td>\n      <td>0.9879</td>\n      <td>2.001</td>\n      <td>1.554</td>\n      <td>15.445</td>\n      <td>0</td>\n      <td>0</td>\n      <td>0</td>\n      <td>0</td>\n      <td>0</td>\n      <td>...</td>\n      <td>0</td>\n      <td>0</td>\n      <td>0</td>\n      <td>0</td>\n      <td>0</td>\n      <td>34.530000</td>\n      <td>34.550000</td>\n      <td>34.520000</td>\n      <td>34.540000</td>\n      <td>7004</td>\n    </tr>\n    <tr>\n      <th>2021-02-18 20:00:00</th>\n      <td>79170.0</td>\n      <td>3.9511</td>\n      <td>2.479</td>\n      <td>0.733</td>\n      <td>20.788</td>\n      <td>0</td>\n      <td>0</td>\n      <td>0</td>\n      <td>0</td>\n      <td>0</td>\n      <td>...</td>\n      <td>0</td>\n      <td>0</td>\n      <td>0</td>\n      <td>0</td>\n      <td>0</td>\n      <td>34.520000</td>\n      <td>34.550000</td>\n      <td>34.510000</td>\n      <td>34.550000</td>\n      <td>27064</td>\n    </tr>\n  </tbody>\n</table>\n<p>7931 rows × 221 columns</p>\n</div>"
     },
     "metadata": {},
     "execution_count": 301
    }
   ],
   "source": [
    "\n",
    "# tweet_tone_with_dummies_df = pd.get_dummies(tweet_tone_df, columns=['source','user_verified'])\n",
    "tweet_tone_with_dummies_df = pd.get_dummies(tweet_tone_df, columns=['source'])\n",
    "\n",
    "# value_if_true if condition else value_if_false\n",
    "\n",
    "# tweet_tone_with_dummies_df = tweet_tone_with_dummies_df.dropna()\n",
    "tweet_tone_with_dummies_df['verified'] = tweet_tone_with_dummies_df['user_verified'].apply(lambda x: 1 if (x == True) else 0)\n",
    "\n",
    "tweet_tone_with_dummies_resampled_df = tweet_tone_with_dummies_df.resample('15min').sum()\n",
    "# tweet_tone_df.value_counts('user_verified')\n",
    "# tweet_tone_with_dummies_resampled_df\n",
    "# pfizer_df\n",
    "combined_df = pd.concat([tweet_tone_with_dummies_resampled_df, pfizer_df], axis=1, join='inner')\n",
    "# combined_df = combined_df.dropna()\n",
    "# combined_df = combined_df[['user_followers','compound','positive','negative','neutral','verified', 'close']]\n",
    "combined_df\n"
   ]
  },
  {
   "cell_type": "code",
   "execution_count": null,
   "metadata": {},
   "outputs": [],
   "source": []
  }
 ]
}