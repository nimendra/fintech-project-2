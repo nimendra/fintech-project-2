{
 "metadata": {
  "language_info": {
   "codemirror_mode": {
    "name": "ipython",
    "version": 3
   },
   "file_extension": ".py",
   "mimetype": "text/x-python",
   "name": "python",
   "nbconvert_exporter": "python",
   "pygments_lexer": "ipython3",
   "version": "3.8.5"
  },
  "orig_nbformat": 2,
  "kernelspec": {
   "name": "python3",
   "display_name": "Python 3.8.5 64-bit ('base': conda)",
   "metadata": {
    "interpreter": {
     "hash": "bcc46357dca383a49cfbf66c58182a8f3af5f310069007b18257373f0ad9b910"
    }
   }
  }
 },
 "nbformat": 4,
 "nbformat_minor": 2,
 "cells": [
  {
   "cell_type": "code",
   "execution_count": 22,
   "metadata": {},
   "outputs": [
    {
     "output_type": "execute_result",
     "data": {
      "text/plain": [
       "   callsign  number  icao24  ... latitude_2 longitude_2 altitude_2\n",
       "2    LAN602   LA602  e80444  ...  33.947195 -118.431358      22.86\n",
       "3    MAU440   MK440  060025  ... -31.941330  115.964758       0.00\n",
       "8    CSN461   CZ461  780daa  ...  50.036087    8.569842     182.88\n",
       "18   CMP472   CM472  0c208d  ...  33.937652 -118.380318      38.10\n",
       "20   AIC184   AI184  8004da  ...  28.544389   77.078732     205.74\n",
       "35   ETD455   EY455  896439  ...  24.401825   54.695180     220.98\n",
       "53    MAU14    MK14  06002f  ...  48.993839    2.582861     205.74\n",
       "55  IBE6171  IB6171  34510a  ...  33.951874 -118.404759       7.62\n",
       "59   CPA846   CX846  780a8b  ...  40.630979  -73.731121     144.78\n",
       "64   UAE441   EK441  896174  ...  25.261002   55.344755      22.86\n",
       "\n",
       "[10 rows x 16 columns]"
      ],
      "text/html": "<div>\n<style scoped>\n    .dataframe tbody tr th:only-of-type {\n        vertical-align: middle;\n    }\n\n    .dataframe tbody tr th {\n        vertical-align: top;\n    }\n\n    .dataframe thead th {\n        text-align: right;\n    }\n</style>\n<table border=\"1\" class=\"dataframe\">\n  <thead>\n    <tr style=\"text-align: right;\">\n      <th></th>\n      <th>callsign</th>\n      <th>number</th>\n      <th>icao24</th>\n      <th>registration</th>\n      <th>typecode</th>\n      <th>origin</th>\n      <th>destination</th>\n      <th>firstseen</th>\n      <th>lastseen</th>\n      <th>day</th>\n      <th>latitude_1</th>\n      <th>longitude_1</th>\n      <th>altitude_1</th>\n      <th>latitude_2</th>\n      <th>longitude_2</th>\n      <th>altitude_2</th>\n    </tr>\n  </thead>\n  <tbody>\n    <tr>\n      <th>2</th>\n      <td>LAN602</td>\n      <td>LA602</td>\n      <td>e80444</td>\n      <td>CC-BGC</td>\n      <td>B789</td>\n      <td>KMIA</td>\n      <td>KLAX</td>\n      <td>2020-02-29 01:12:29+00:00</td>\n      <td>2020-03-01 14:28:58+00:00</td>\n      <td>2020-03-01 00:00:00+00:00</td>\n      <td>25.774531</td>\n      <td>-80.404064</td>\n      <td>914.4</td>\n      <td>33.947195</td>\n      <td>-118.431358</td>\n      <td>22.86</td>\n    </tr>\n    <tr>\n      <th>3</th>\n      <td>MAU440</td>\n      <td>MK440</td>\n      <td>060025</td>\n      <td>3B-NBM</td>\n      <td>A332</td>\n      <td>VAJJ</td>\n      <td>YPPH</td>\n      <td>2020-02-29 01:34:11+00:00</td>\n      <td>2020-03-01 01:01:52+00:00</td>\n      <td>2020-03-01 00:00:00+00:00</td>\n      <td>19.088419</td>\n      <td>72.842052</td>\n      <td>0.0</td>\n      <td>-31.941330</td>\n      <td>115.964758</td>\n      <td>0.00</td>\n    </tr>\n    <tr>\n      <th>8</th>\n      <td>CSN461</td>\n      <td>CZ461</td>\n      <td>780daa</td>\n      <td>B-2028</td>\n      <td>B77L</td>\n      <td>KLAX</td>\n      <td>EDDF</td>\n      <td>2020-02-29 06:11:33+00:00</td>\n      <td>2020-03-01 11:08:13+00:00</td>\n      <td>2020-03-01 00:00:00+00:00</td>\n      <td>33.935883</td>\n      <td>-118.419685</td>\n      <td>0.0</td>\n      <td>50.036087</td>\n      <td>8.569842</td>\n      <td>182.88</td>\n    </tr>\n    <tr>\n      <th>18</th>\n      <td>CMP472</td>\n      <td>CM472</td>\n      <td>0c208d</td>\n      <td>HP-1830CMP</td>\n      <td>B738</td>\n      <td>SAEZ</td>\n      <td>KLAX</td>\n      <td>2020-02-29 08:54:39+00:00</td>\n      <td>2020-03-01 00:49:22+00:00</td>\n      <td>2020-03-01 00:00:00+00:00</td>\n      <td>-34.824692</td>\n      <td>-58.521872</td>\n      <td>0.0</td>\n      <td>33.937652</td>\n      <td>-118.380318</td>\n      <td>38.10</td>\n    </tr>\n    <tr>\n      <th>20</th>\n      <td>AIC184</td>\n      <td>AI184</td>\n      <td>8004da</td>\n      <td>VT-ALF</td>\n      <td>B77L</td>\n      <td>KSFO</td>\n      <td>VIDP</td>\n      <td>2020-02-29 09:10:10+00:00</td>\n      <td>2020-03-01 00:47:29+00:00</td>\n      <td>2020-03-01 00:00:00+00:00</td>\n      <td>37.616582</td>\n      <td>-122.369962</td>\n      <td>-304.8</td>\n      <td>28.544389</td>\n      <td>77.078732</td>\n      <td>205.74</td>\n    </tr>\n    <tr>\n      <th>35</th>\n      <td>ETD455</td>\n      <td>EY455</td>\n      <td>896439</td>\n      <td>A6-APE</td>\n      <td>A388</td>\n      <td>YSSY</td>\n      <td>OMAA</td>\n      <td>2020-02-29 11:10:39+00:00</td>\n      <td>2020-03-01 01:04:54+00:00</td>\n      <td>2020-03-01 00:00:00+00:00</td>\n      <td>-33.924591</td>\n      <td>151.170306</td>\n      <td>0.0</td>\n      <td>24.401825</td>\n      <td>54.695180</td>\n      <td>220.98</td>\n    </tr>\n    <tr>\n      <th>53</th>\n      <td>MAU14</td>\n      <td>MK14</td>\n      <td>06002f</td>\n      <td>3B-NBP</td>\n      <td>A359</td>\n      <td>FARA</td>\n      <td>LFPG</td>\n      <td>2020-02-29 11:47:56+00:00</td>\n      <td>2020-03-01 06:13:25+00:00</td>\n      <td>2020-03-01 00:00:00+00:00</td>\n      <td>-26.035904</td>\n      <td>28.310679</td>\n      <td>2438.4</td>\n      <td>48.993839</td>\n      <td>2.582861</td>\n      <td>205.74</td>\n    </tr>\n    <tr>\n      <th>55</th>\n      <td>IBE6171</td>\n      <td>IB6171</td>\n      <td>34510a</td>\n      <td>EC-MKJ</td>\n      <td>A332</td>\n      <td>LEMD</td>\n      <td>KLAX</td>\n      <td>2020-02-29 11:50:14+00:00</td>\n      <td>2020-03-01 00:11:57+00:00</td>\n      <td>2020-03-01 00:00:00+00:00</td>\n      <td>40.447284</td>\n      <td>-3.537972</td>\n      <td>609.6</td>\n      <td>33.951874</td>\n      <td>-118.404759</td>\n      <td>7.62</td>\n    </tr>\n    <tr>\n      <th>59</th>\n      <td>CPA846</td>\n      <td>CX846</td>\n      <td>780a8b</td>\n      <td>B-KQW</td>\n      <td>B77W</td>\n      <td>VHHH</td>\n      <td>KJFK</td>\n      <td>2020-02-29 11:58:15+00:00</td>\n      <td>2020-03-01 02:43:28+00:00</td>\n      <td>2020-03-01 00:00:00+00:00</td>\n      <td>22.299911</td>\n      <td>113.909446</td>\n      <td>0.0</td>\n      <td>40.630979</td>\n      <td>-73.731121</td>\n      <td>144.78</td>\n    </tr>\n    <tr>\n      <th>64</th>\n      <td>UAE441</td>\n      <td>EK441</td>\n      <td>896174</td>\n      <td>A6-EWB</td>\n      <td>B77L</td>\n      <td>YPAD</td>\n      <td>OMDB</td>\n      <td>2020-02-29 12:06:05+00:00</td>\n      <td>2020-03-01 00:48:06+00:00</td>\n      <td>2020-03-01 00:00:00+00:00</td>\n      <td>-34.997740</td>\n      <td>138.460808</td>\n      <td>609.6</td>\n      <td>25.261002</td>\n      <td>55.344755</td>\n      <td>22.86</td>\n    </tr>\n  </tbody>\n</table>\n</div>"
     },
     "metadata": {},
     "execution_count": 22
    }
   ],
   "source": [
    "import pandas as pd\n",
    "flights_df = pd.read_csv('./flightlist_20200301_20200331.csv')\n",
    "flights_df.dropna(inplace=True)\n",
    "flights_df = flights_df[(flights_df['origin'] != flights_df['destination'])]\n",
    "flights_df.head(10)"
   ]
  },
  {
   "cell_type": "code",
   "execution_count": 15,
   "metadata": {},
   "outputs": [
    {
     "output_type": "execute_result",
     "data": {
      "text/plain": [
       "   Airport_Id  ...  Unnamed: 13\n",
       "0           1  ...  OurAirports\n",
       "1           2  ...  OurAirports\n",
       "2           3  ...  OurAirports\n",
       "3           4  ...  OurAirports\n",
       "4           5  ...  OurAirports\n",
       "\n",
       "[5 rows x 14 columns]"
      ],
      "text/html": "<div>\n<style scoped>\n    .dataframe tbody tr th:only-of-type {\n        vertical-align: middle;\n    }\n\n    .dataframe tbody tr th {\n        vertical-align: top;\n    }\n\n    .dataframe thead th {\n        text-align: right;\n    }\n</style>\n<table border=\"1\" class=\"dataframe\">\n  <thead>\n    <tr style=\"text-align: right;\">\n      <th></th>\n      <th>Airport_Id</th>\n      <th>Name</th>\n      <th>City</th>\n      <th>Country</th>\n      <th>IATA</th>\n      <th>ICAO</th>\n      <th>Lat</th>\n      <th>Long</th>\n      <th>Alt</th>\n      <th>Timezone</th>\n      <th>DST</th>\n      <th>TzDbType</th>\n      <th>Source</th>\n      <th>Unnamed: 13</th>\n    </tr>\n  </thead>\n  <tbody>\n    <tr>\n      <th>0</th>\n      <td>1</td>\n      <td>Goroka Airport</td>\n      <td>Goroka</td>\n      <td>Papua New Guinea</td>\n      <td>GKA</td>\n      <td>AYGA</td>\n      <td>-6.081690</td>\n      <td>145.391998</td>\n      <td>5282</td>\n      <td>10</td>\n      <td>U</td>\n      <td>Pacific/Port_Moresby</td>\n      <td>airport</td>\n      <td>OurAirports</td>\n    </tr>\n    <tr>\n      <th>1</th>\n      <td>2</td>\n      <td>Madang Airport</td>\n      <td>Madang</td>\n      <td>Papua New Guinea</td>\n      <td>MAG</td>\n      <td>AYMD</td>\n      <td>-5.207080</td>\n      <td>145.789001</td>\n      <td>20</td>\n      <td>10</td>\n      <td>U</td>\n      <td>Pacific/Port_Moresby</td>\n      <td>airport</td>\n      <td>OurAirports</td>\n    </tr>\n    <tr>\n      <th>2</th>\n      <td>3</td>\n      <td>Mount Hagen Kagamuga Airport</td>\n      <td>Mount Hagen</td>\n      <td>Papua New Guinea</td>\n      <td>HGU</td>\n      <td>AYMH</td>\n      <td>-5.826790</td>\n      <td>144.296005</td>\n      <td>5388</td>\n      <td>10</td>\n      <td>U</td>\n      <td>Pacific/Port_Moresby</td>\n      <td>airport</td>\n      <td>OurAirports</td>\n    </tr>\n    <tr>\n      <th>3</th>\n      <td>4</td>\n      <td>Nadzab Airport</td>\n      <td>Nadzab</td>\n      <td>Papua New Guinea</td>\n      <td>LAE</td>\n      <td>AYNZ</td>\n      <td>-6.569803</td>\n      <td>146.725977</td>\n      <td>239</td>\n      <td>10</td>\n      <td>U</td>\n      <td>Pacific/Port_Moresby</td>\n      <td>airport</td>\n      <td>OurAirports</td>\n    </tr>\n    <tr>\n      <th>4</th>\n      <td>5</td>\n      <td>Port Moresby Jacksons International Airport</td>\n      <td>Port Moresby</td>\n      <td>Papua New Guinea</td>\n      <td>POM</td>\n      <td>AYPY</td>\n      <td>-9.443380</td>\n      <td>147.220001</td>\n      <td>146</td>\n      <td>10</td>\n      <td>U</td>\n      <td>Pacific/Port_Moresby</td>\n      <td>airport</td>\n      <td>OurAirports</td>\n    </tr>\n  </tbody>\n</table>\n</div>"
     },
     "metadata": {},
     "execution_count": 15
    }
   ],
   "source": [
    "\n",
    "airports_df = pd.read_csv('./airports.csv')\n",
    "airports_df.head()\n"
   ]
  },
  {
   "cell_type": "code",
   "execution_count": 18,
   "metadata": {},
   "outputs": [
    {
     "output_type": "execute_result",
     "data": {
      "text/plain": [
       "      Airport_Id  ...  Unnamed: 13\n",
       "3167        3361  ...  OurAirports\n",
       "\n",
       "[1 rows x 14 columns]"
      ],
      "text/html": "<div>\n<style scoped>\n    .dataframe tbody tr th:only-of-type {\n        vertical-align: middle;\n    }\n\n    .dataframe tbody tr th {\n        vertical-align: top;\n    }\n\n    .dataframe thead th {\n        text-align: right;\n    }\n</style>\n<table border=\"1\" class=\"dataframe\">\n  <thead>\n    <tr style=\"text-align: right;\">\n      <th></th>\n      <th>Airport_Id</th>\n      <th>Name</th>\n      <th>City</th>\n      <th>Country</th>\n      <th>IATA</th>\n      <th>ICAO</th>\n      <th>Lat</th>\n      <th>Long</th>\n      <th>Alt</th>\n      <th>Timezone</th>\n      <th>DST</th>\n      <th>TzDbType</th>\n      <th>Source</th>\n      <th>Unnamed: 13</th>\n    </tr>\n  </thead>\n  <tbody>\n    <tr>\n      <th>3167</th>\n      <td>3361</td>\n      <td>Sydney Kingsford Smith International Airport</td>\n      <td>Sydney</td>\n      <td>Australia</td>\n      <td>SYD</td>\n      <td>YSSY</td>\n      <td>-33.946098</td>\n      <td>151.177002</td>\n      <td>21</td>\n      <td>10</td>\n      <td>O</td>\n      <td>Australia/Sydney</td>\n      <td>airport</td>\n      <td>OurAirports</td>\n    </tr>\n  </tbody>\n</table>\n</div>"
     },
     "metadata": {},
     "execution_count": 18
    }
   ],
   "source": [
    "airports_df[(airports_df['ICAO'] == 'YSSY')].head()\n"
   ]
  },
  {
   "cell_type": "code",
   "execution_count": null,
   "metadata": {},
   "outputs": [],
   "source": []
  }
 ]
}