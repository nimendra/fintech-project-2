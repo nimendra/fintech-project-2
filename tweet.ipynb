{
 "metadata": {
  "language_info": {
   "codemirror_mode": {
    "name": "ipython",
    "version": 3
   },
   "file_extension": ".py",
   "mimetype": "text/x-python",
   "name": "python",
   "nbconvert_exporter": "python",
   "pygments_lexer": "ipython3",
   "version": "3.7.9-final"
  },
  "orig_nbformat": 2,
  "kernelspec": {
   "name": "python3",
   "display_name": "Python 3.7.9 64-bit ('p37env': conda)",
   "metadata": {
    "interpreter": {
     "hash": "88d86be733a9a448ab4216705ec79d5515b5f923491cd63b6a11efb829921b60"
    }
   }
  }
 },
 "nbformat": 4,
 "nbformat_minor": 2,
 "cells": [
  {
   "cell_type": "code",
   "execution_count": 38,
   "metadata": {},
   "outputs": [],
   "source": [
    "import tweepy\n",
    "import csv\n",
    "import pandas as pd\n",
    "\n",
    "from nltk.corpus import stopwords, reuters\n",
    "from nltk.tokenize import word_tokenize\n",
    "from nltk.stem import WordNetLemmatizer\n",
    "from wordcloud import WordCloud\n",
    "import re\n",
    "import matplotlib.pyplot as plt\n",
    "import datetime\n",
    "all_tweets = []"
   ]
  },
  {
   "cell_type": "code",
   "execution_count": 58,
   "metadata": {},
   "outputs": [],
   "source": [
    "def load_vaccine_csv():\n",
    "    df = pd.read_csv('./covidvaccine.csv')\n",
    "    df = df[['user_location','user_followers',\t'user_friends',\t'user_favourites',\t'user_verified',\t'date',\t'text',\t'source']]\n",
    "    \n",
    "    # '18-08-2020 12:55'\n",
    "    # df.index = pd.to_datetime(df['date'])\n",
    "    # for managebility we remove the hashtag, but it might have a future use-case\n",
    "    # is_retweet is all False in this dataset\n",
    "    # df = df[df['is_retweet'] == False]\n",
    "    # df = df.dropna()\n",
    "    return df"
   ]
  },
  {
   "cell_type": "code",
   "execution_count": null,
   "metadata": {},
   "outputs": [],
   "source": []
  },
  {
   "cell_type": "code",
   "execution_count": 68,
   "metadata": {},
   "outputs": [],
   "source": [
    "def try_parse(dateString):\n",
    "    # return dateString\n",
    "    # print(dateString)\n",
    "    try:\n",
    "        return datetime.datetime.strptime(dateString, '%Y-%m-%d %H:%M:%S')\n",
    "    except Exception as e:\n",
    "        try:\n",
    "            return datetime.datetime.strptime(dateString, '%Y-%m-%d %H:%M')\n",
    "        except Exception as e:\n",
    "            try:\n",
    "                return datetime.datetime.strptime(dateString, '%d-%m-%Y %H:%M')\n",
    "            except Exception as e:\n",
    "                return datetime.datetime.strptime(dateString, '%d-%m-%Y %H:%M:%S')\n"
   ]
  },
  {
   "cell_type": "code",
   "execution_count": 74,
   "metadata": {
    "tags": []
   },
   "outputs": [
    {
     "output_type": "execute_result",
     "data": {
      "text/plain": [
       "                    user_location  user_followers user_friends  \\\n",
       "0                           Assam            64.0           11   \n",
       "1                             NaN             1.0           17   \n",
       "2                             NaN           143.0          566   \n",
       "3                             NaN            29.0           25   \n",
       "4       Adelaide, South Australia            83.0          497   \n",
       "...                           ...             ...          ...   \n",
       "354385          San Francisco, CA             0.0           83   \n",
       "354386                    Jakarta          2954.0         1023   \n",
       "354387                      India          1771.0          270   \n",
       "354388               Pennsylvania          1191.0           44   \n",
       "354389                        NaN           655.0          709   \n",
       "\n",
       "       user_favourites user_verified                date  \\\n",
       "0                  110         False 2020-08-18 12:55:00   \n",
       "1                    0         False 2020-08-18 12:55:00   \n",
       "2                    8         False 2020-08-18 12:46:00   \n",
       "3                  620         False 2020-08-18 12:45:00   \n",
       "4                10737         False 2020-08-18 12:45:00   \n",
       "...                ...           ...                 ...   \n",
       "354385               0         False 2021-02-15 00:01:02   \n",
       "354386               2         False 2021-02-15 00:00:56   \n",
       "354387              65         False 2021-02-15 00:00:56   \n",
       "354388              44         False 2021-02-15 00:00:09   \n",
       "354389              86         False 2021-02-15 00:00:01   \n",
       "\n",
       "                                                     text  \\\n",
       "0       Australia to Manufacture Covid-19 Vaccine and ...   \n",
       "1       #CoronavirusVaccine #CoronaVaccine #CovidVacci...   \n",
       "2       Deaths due to COVID-19 in Affected Countries\\n...   \n",
       "3       @Team_Subhashree @subhashreesotwe @iamrajchoco...   \n",
       "4       @michellegrattan @ConversationEDU This is what...   \n",
       "...                                                   ...   \n",
       "354385  I called my lola to wish her a Happy Valentine...   \n",
       "354386  Cambodia’s Ministry of Health approves emergen...   \n",
       "354387  Cambodia’s Ministry of Health approves emergen...   \n",
       "354388  Thanks for helping us get the word out, @abc27...   \n",
       "354389  Cambodia’s Ministry of Health approves emergen...   \n",
       "\n",
       "                     source                 xxx  \n",
       "0           Twitter Web App 2020-08-18 12:55:00  \n",
       "1       Twitter for Android 2020-08-18 12:55:00  \n",
       "2           Twitter Web App 2020-08-18 12:46:00  \n",
       "3       Twitter for Android 2020-08-18 12:45:00  \n",
       "4           Twitter Web App 2020-08-18 12:45:00  \n",
       "...                     ...                 ...  \n",
       "354385   Twitter for iPhone 2021-02-15 00:01:02  \n",
       "354386       SocialPilot.co 2021-02-15 00:00:56  \n",
       "354387       SocialPilot.co 2021-02-15 00:00:56  \n",
       "354388      Twitter Web App 2021-02-15 00:00:09  \n",
       "354389            TweetDeck 2021-02-15 00:00:01  \n",
       "\n",
       "[137477 rows x 9 columns]"
      ],
      "text/html": "<div>\n<style scoped>\n    .dataframe tbody tr th:only-of-type {\n        vertical-align: middle;\n    }\n\n    .dataframe tbody tr th {\n        vertical-align: top;\n    }\n\n    .dataframe thead th {\n        text-align: right;\n    }\n</style>\n<table border=\"1\" class=\"dataframe\">\n  <thead>\n    <tr style=\"text-align: right;\">\n      <th></th>\n      <th>user_location</th>\n      <th>user_followers</th>\n      <th>user_friends</th>\n      <th>user_favourites</th>\n      <th>user_verified</th>\n      <th>date</th>\n      <th>text</th>\n      <th>source</th>\n      <th>xxx</th>\n    </tr>\n  </thead>\n  <tbody>\n    <tr>\n      <th>0</th>\n      <td>Assam</td>\n      <td>64.0</td>\n      <td>11</td>\n      <td>110</td>\n      <td>False</td>\n      <td>2020-08-18 12:55:00</td>\n      <td>Australia to Manufacture Covid-19 Vaccine and ...</td>\n      <td>Twitter Web App</td>\n      <td>2020-08-18 12:55:00</td>\n    </tr>\n    <tr>\n      <th>1</th>\n      <td>NaN</td>\n      <td>1.0</td>\n      <td>17</td>\n      <td>0</td>\n      <td>False</td>\n      <td>2020-08-18 12:55:00</td>\n      <td>#CoronavirusVaccine #CoronaVaccine #CovidVacci...</td>\n      <td>Twitter for Android</td>\n      <td>2020-08-18 12:55:00</td>\n    </tr>\n    <tr>\n      <th>2</th>\n      <td>NaN</td>\n      <td>143.0</td>\n      <td>566</td>\n      <td>8</td>\n      <td>False</td>\n      <td>2020-08-18 12:46:00</td>\n      <td>Deaths due to COVID-19 in Affected Countries\\n...</td>\n      <td>Twitter Web App</td>\n      <td>2020-08-18 12:46:00</td>\n    </tr>\n    <tr>\n      <th>3</th>\n      <td>NaN</td>\n      <td>29.0</td>\n      <td>25</td>\n      <td>620</td>\n      <td>False</td>\n      <td>2020-08-18 12:45:00</td>\n      <td>@Team_Subhashree @subhashreesotwe @iamrajchoco...</td>\n      <td>Twitter for Android</td>\n      <td>2020-08-18 12:45:00</td>\n    </tr>\n    <tr>\n      <th>4</th>\n      <td>Adelaide, South Australia</td>\n      <td>83.0</td>\n      <td>497</td>\n      <td>10737</td>\n      <td>False</td>\n      <td>2020-08-18 12:45:00</td>\n      <td>@michellegrattan @ConversationEDU This is what...</td>\n      <td>Twitter Web App</td>\n      <td>2020-08-18 12:45:00</td>\n    </tr>\n    <tr>\n      <th>...</th>\n      <td>...</td>\n      <td>...</td>\n      <td>...</td>\n      <td>...</td>\n      <td>...</td>\n      <td>...</td>\n      <td>...</td>\n      <td>...</td>\n      <td>...</td>\n    </tr>\n    <tr>\n      <th>354385</th>\n      <td>San Francisco, CA</td>\n      <td>0.0</td>\n      <td>83</td>\n      <td>0</td>\n      <td>False</td>\n      <td>2021-02-15 00:01:02</td>\n      <td>I called my lola to wish her a Happy Valentine...</td>\n      <td>Twitter for iPhone</td>\n      <td>2021-02-15 00:01:02</td>\n    </tr>\n    <tr>\n      <th>354386</th>\n      <td>Jakarta</td>\n      <td>2954.0</td>\n      <td>1023</td>\n      <td>2</td>\n      <td>False</td>\n      <td>2021-02-15 00:00:56</td>\n      <td>Cambodia’s Ministry of Health approves emergen...</td>\n      <td>SocialPilot.co</td>\n      <td>2021-02-15 00:00:56</td>\n    </tr>\n    <tr>\n      <th>354387</th>\n      <td>India</td>\n      <td>1771.0</td>\n      <td>270</td>\n      <td>65</td>\n      <td>False</td>\n      <td>2021-02-15 00:00:56</td>\n      <td>Cambodia’s Ministry of Health approves emergen...</td>\n      <td>SocialPilot.co</td>\n      <td>2021-02-15 00:00:56</td>\n    </tr>\n    <tr>\n      <th>354388</th>\n      <td>Pennsylvania</td>\n      <td>1191.0</td>\n      <td>44</td>\n      <td>44</td>\n      <td>False</td>\n      <td>2021-02-15 00:00:09</td>\n      <td>Thanks for helping us get the word out, @abc27...</td>\n      <td>Twitter Web App</td>\n      <td>2021-02-15 00:00:09</td>\n    </tr>\n    <tr>\n      <th>354389</th>\n      <td>NaN</td>\n      <td>655.0</td>\n      <td>709</td>\n      <td>86</td>\n      <td>False</td>\n      <td>2021-02-15 00:00:01</td>\n      <td>Cambodia’s Ministry of Health approves emergen...</td>\n      <td>TweetDeck</td>\n      <td>2021-02-15 00:00:01</td>\n    </tr>\n  </tbody>\n</table>\n<p>137477 rows × 9 columns</p>\n</div>"
     },
     "metadata": {},
     "execution_count": 74
    }
   ],
   "source": [
    "# 354390\n",
    "# 354390\n",
    "# 216910\n",
    "df = load_vaccine_csv()\n",
    "# df.index = pd.to_datetime(df.date, errors='coerce')\n",
    "\n",
    "#18-08-2020 12:55\n",
    "df = df[df.date.notnull()]\n",
    "df = df[df.date.str.contains(\"-\")]\n",
    "\n",
    "df['date'] = df['date'].apply(lambda t: try_parse(t))\n",
    "df['xxx'] = pd.to_datetime(df['date'], format='%d-%m-%Y %H:%M')\n",
    "# df = df[df.date.isnull()]\n",
    "\n",
    "df = df.sort_index()\n",
    "df"
   ]
  },
  {
   "cell_type": "code",
   "execution_count": null,
   "metadata": {},
   "outputs": [],
   "source": [
    "df2 = df.dropna()\n",
    "df2"
   ]
  },
  {
   "cell_type": "code",
   "execution_count": null,
   "metadata": {},
   "outputs": [],
   "source": [
    "load_vaccine_csv().dtypes\n"
   ]
  },
  {
   "cell_type": "code",
   "execution_count": null,
   "metadata": {},
   "outputs": [],
   "source": [
    "# function to display data of each tweet \n",
    "def printtweetdata(n, ith_tweet): \n",
    "    print() \n",
    "    print(f\"Tweet {n}:\") \n",
    "    print(f\"Username:{ith_tweet[0]}\") \n",
    "    print(f\"Description:{ith_tweet[1]}\") \n",
    "    print(f\"Location:{ith_tweet[2]}\") \n",
    "    print(f\"Following Count:{ith_tweet[3]}\") \n",
    "    print(f\"Follower Count:{ith_tweet[4]}\") \n",
    "    print(f\"Total Tweets:{ith_tweet[5]}\") \n",
    "    print(f\"Retweet Count:{ith_tweet[6]}\") \n",
    "    print(f\"Tweet Text:{ith_tweet[7]}\") \n",
    "    print(f\"Hashtags Used:{ith_tweet[8]}\") \n"
   ]
  },
  {
   "cell_type": "code",
   "execution_count": null,
   "metadata": {},
   "outputs": [],
   "source": [
    "# function to perform data extraction \n",
    "def scrape(words, date_since, numtweet): \n",
    "      \n",
    "    # Creating DataFrame using pandas \n",
    "    db = pd.DataFrame(columns=['username', 'description', 'location', 'following', \n",
    "                               'followers', 'totaltweets', 'retweetcount', 'text', 'hashtags', 'created_at']) \n",
    "      \n",
    "    # We are using .Cursor() to search through twitter for the required tweets. \n",
    "    # The number of tweets can be restricted using .items(number of tweets) \n",
    "    tweets = tweepy.Cursor(api.search, q=words + \" -filter:retweets\", lang=\"en\", \n",
    "                           since=date_since, tweet_mode='extended').items(numtweet) \n",
    "     \n",
    "    list_tweets = []\n",
    "    while True:\n",
    "        try:\n",
    "            tweet = tweets.next()\n",
    "            print(tweet)\n",
    "            list_tweets.append(tweet)\n",
    "            # Insert into db\n",
    "        except tweepy.TweepError:\n",
    "            time.sleep(60 * 15)\n",
    "            continue\n",
    "        except StopIteration:\n",
    "            break\n",
    "    # .Cursor() returns an iterable object. Each item in  \n",
    "    # the iterator has various attributes that you can access to  \n",
    "    # get information about each tweet \n",
    "    # list_tweets = [tweet for tweet in tweets] \n",
    "      \n",
    "    # Counter to maintain Tweet Count \n",
    "    i = 1  \n",
    "      \n",
    "    # we will iterate over each tweet in the list for extracting information about each tweet \n",
    "    for tweet in list_tweets: \n",
    "        print(tweet)\n",
    "        username = tweet.user.screen_name \n",
    "        description = tweet.user.description \n",
    "        location = tweet.user.location \n",
    "        following = tweet.user.friends_count \n",
    "        followers = tweet.user.followers_count \n",
    "        totaltweets = tweet.user.statuses_count \n",
    "        retweetcount = tweet.retweet_count \n",
    "        created_at = tweet.created_at\n",
    "        hashtags = tweet.entities['hashtags'] \n",
    "          \n",
    "        # Retweets can be distinguished by a retweeted_status attribute, \n",
    "        # in case it is an invalid reference, except block will be executed \n",
    "        try: \n",
    "            text = tweet.retweeted_status.full_text \n",
    "            all_tweets.append(text)\n",
    "            # print(text)\n",
    "        except AttributeError: \n",
    "            text = tweet.full_text \n",
    "        hashtext = list() \n",
    "        for j in range(0, len(hashtags)): \n",
    "            hashtext.append(hashtags[j]['text']) \n",
    "          \n",
    "        # Here we are appending all the extracted information in the DataFrame \n",
    "        ith_tweet = [username, description, location, following, \n",
    "                     followers, totaltweets, retweetcount, text, hashtext, created_at] \n",
    "        db.loc[len(db)] = ith_tweet \n",
    "          \n",
    "        # Function call to print tweet data on screen \n",
    "        # printtweetdata(i, ith_tweet) \n",
    "        i = i+1\n",
    "    filename = 'scraped_tweets.csv'\n",
    "      \n",
    "    # we will save our database as a CSV file. \n",
    "    db.to_csv(filename) \n",
    "    return db"
   ]
  },
  {
   "cell_type": "code",
   "execution_count": null,
   "metadata": {
    "tags": [
     "outputPrepend"
    ]
   },
   "outputs": [],
   "source": [
    " # Enter your own credentials obtained  \n",
    "    # from your developer account \n",
    "consumer_key = \"SCOPBRKeG4nRCEa7XkMoqQ\"\n",
    "consumer_secret = \"RYInMkLiNyg0iKC3g89Y0f8g8kbNFSsNjZXNYBYILQ\"\n",
    "access_key = \"107275871-PtAa9t7OJX82IEbGjdOzaFMgeCWQyU8haNPhN4mD\"\n",
    "access_secret = \"Q691rTrztjXeYAP5FEA5kZWRhuFRtH8sq6msPgUeD1TzI\"\n",
    "auth = tweepy.OAuthHandler(consumer_key, consumer_secret) \n",
    "auth.set_access_token(access_key, access_secret) \n",
    "api = tweepy.API(auth) \n",
    "    \n",
    "# Enter Hashtag and initial date \n",
    "# print(\"Enter Twitter HashTag to search for\") \n",
    "words = 'covid19vaccine' \n",
    "# print(\"Enter Date since The Tweets are required in yyyy-mm--dd\") \n",
    "date_since = '2016-01-01' \n",
    "    \n",
    "# number of tweets you want to extract in one run \n",
    "numtweet = 1000  \n",
    "df = scrape(words, date_since, numtweet) \n",
    "print('Scraping has completed!') "
   ]
  },
  {
   "cell_type": "code",
   "execution_count": null,
   "metadata": {
    "tags": []
   },
   "outputs": [],
   "source": [
    "\n",
    "df.describe()\n",
    "# ####input your credentials here\n",
    "# consumer_key = 'SCOPBRKeG4nRCEa7XkMoqQ'\n",
    "# consumer_secret = 'RYInMkLiNyg0iKC3g89Y0f8g8kbNFSsNjZXNYBYILQ'\n",
    "# access_token = '107275871-PtAa9t7OJX82IEbGjdOzaFMgeCWQyU8haNPhN4mD'\n",
    "# access_token_secret = 'Q691rTrztjXeYAP5FEA5kZWRhuFRtH8sq6msPgUeD1TzI'\n",
    "\n",
    "# auth = tweepy.OAuthHandler(consumer_key, consumer_secret)\n",
    "# auth.set_access_token(access_token, access_token_secret)\n",
    "# api = tweepy.API(auth,wait_on_rate_limit=True)\n",
    "# #####United Airlines\n",
    "# # Open/Create a file to append data\n",
    "# csvFile = open('ua.csv', 'a')\n",
    "# #Use csv Writer\n",
    "# csvWriter = csv.writer(csvFile)\n",
    "\n",
    "# all_tweets = []\n",
    "\n",
    "# for tweet in tweepy.Cursor(api.search,q=\"#dulux\",count=100,\n",
    "#                            lang=\"en\",\n",
    "#                            since=\"2015-11-03\").items():\n",
    "#     print (tweet.created_at, tweet.text)\n",
    "#     all_tweets.append(tweet.text)\n",
    "#     csvWriter.writerow([tweet.created_at, tweet.text.encode('utf-8')])"
   ]
  },
  {
   "cell_type": "code",
   "execution_count": null,
   "metadata": {},
   "outputs": [],
   "source": [
    "import nltk\n",
    "nltk.download('wordnet')\n",
    "\n",
    "lemmatizer = WordNetLemmatizer()"
   ]
  },
  {
   "cell_type": "code",
   "execution_count": null,
   "metadata": {},
   "outputs": [],
   "source": [
    "def process_text(doc):\n",
    "    sw = set(stopwords.words('english'))\n",
    "    regex = re.compile(\"[^a-zA-Z ]\")\n",
    "    re_clean = regex.sub('', doc)\n",
    "    words = word_tokenize(re_clean)\n",
    "    lem = [lemmatizer.lemmatize(word) for word in words]\n",
    "    output = [word.lower() for word in lem if word.lower() not in sw]\n",
    "    return ' '.join(output)"
   ]
  },
  {
   "cell_type": "code",
   "execution_count": null,
   "metadata": {},
   "outputs": [],
   "source": [
    "all_tweets\n",
    "big_string = ' '.join(all_tweets)\n",
    "input_text = process_text(big_string)"
   ]
  },
  {
   "cell_type": "code",
   "execution_count": null,
   "metadata": {},
   "outputs": [],
   "source": [
    "wc = WordCloud(max_font_size=50, max_words=100, background_color=\"white\").generate(input_text)\n",
    "# plt.imshow(wc)\n",
    "plt.figure(figsize=(100,20))\n",
    "plt.imshow(wc, interpolation=\"bilinear\")\n",
    "plt.axis(\"off\")\n",
    "plt.show()"
   ]
  },
  {
   "cell_type": "code",
   "execution_count": null,
   "metadata": {},
   "outputs": [],
   "source": [
    "def process_text_bg(doc):\n",
    "    sw = set(stopwords.words('english'))\n",
    "    regex = re.compile(\"[^a-zA-Z ]\")\n",
    "    re_clean = regex.sub('', doc)\n",
    "    words = word_tokenize(re_clean)\n",
    "    lem = [lemmatizer.lemmatize(word) for word in words]\n",
    "    sw_words = [word.lower() for word in lem if word.lower() not in sw]\n",
    "    bigrams = ngrams(sw_words, 2)\n",
    "    output = ['_'.join(i) for i in bigrams]\n",
    "    return ' '.join(output)"
   ]
  },
  {
   "cell_type": "code",
   "execution_count": null,
   "metadata": {},
   "outputs": [],
   "source": [
    "from nltk.util import ngrams\n",
    "input_bigrams = process_text_bg(big_string)\n",
    "wc = WordCloud().generate(input_bigrams)\n",
    "plt.figure(figsize=(15,24))\n",
    "plt.imshow(wc)\n",
    "plt.axis(\"off\")\n",
    "plt.show()"
   ]
  },
  {
   "cell_type": "code",
   "execution_count": null,
   "metadata": {},
   "outputs": [],
   "source": [
    "all_tweets"
   ]
  },
  {
   "cell_type": "code",
   "execution_count": null,
   "metadata": {},
   "outputs": [],
   "source": [
    "db"
   ]
  }
 ]
}