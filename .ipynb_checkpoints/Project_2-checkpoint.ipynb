{
 "metadata": {
  "language_info": {
   "codemirror_mode": {
    "name": "ipython",
    "version": 3
   },
   "file_extension": ".py",
   "mimetype": "text/x-python",
   "name": "python",
   "nbconvert_exporter": "python",
   "pygments_lexer": "ipython3",
   "version": "3.7.9-final"
  },
  "orig_nbformat": 2,
  "kernelspec": {
   "name": "python3",
   "display_name": "Python 3.7.9 64-bit ('p37env': conda)",
   "metadata": {
    "interpreter": {
     "hash": "88d86be733a9a448ab4216705ec79d5515b5f923491cd63b6a11efb829921b60"
    }
   }
  }
 },
 "nbformat": 4,
 "nbformat_minor": 2,
 "cells": [
  {
   "cell_type": "code",
   "execution_count": 2,
   "metadata": {},
   "outputs": [],
   "source": [
    "import tweepy\n",
    "import csv\n",
    "import pandas as pd\n",
    "import json\n",
    "\n",
    "from nltk.corpus import stopwords, reuters\n",
    "from nltk.tokenize import word_tokenize\n",
    "from nltk.stem import WordNetLemmatizer\n",
    "from wordcloud import WordCloud\n",
    "import re\n",
    "import matplotlib.pyplot as plt\n",
    "import datetime\n",
    "from ibm_watson import ToneAnalyzerV3\n",
    "from pandas import json_normalize\n",
    "from ibm_cloud_sdk_core.authenticators import IAMAuthenticator\n",
    "from dotenv import load_dotenv\n",
    "\n",
    "import nltk\n",
    "from nltk.sentiment.vader import SentimentIntensityAnalyzer\n",
    "\n",
    "all_tweets = []"
   ]
  },
  {
   "cell_type": "code",
   "execution_count": 3,
   "metadata": {},
   "outputs": [],
   "source": [
    "def load_vaccine_csv():\n",
    "    df = pd.read_csv('./Resources/covidvaccine.csv')\n",
    "    df = df[['user_name','user_location','user_followers',\t'user_friends',\t'user_favourites',\t'user_verified',\t'date',\t'text',\t'source']]\n",
    "    \n",
    "    # '18-08-2020 12:55'\n",
    "    # df.index = pd.to_datetime(df['date'])\n",
    "    # for managebility we remove the hashtag, but it might have a future use-case\n",
    "    # is_retweet is all False in this dataset\n",
    "    # df = df[df['is_retweet'] == False]\n",
    "    # df = df.dropna()\n",
    "    return df"
   ]
  },
  {
   "cell_type": "code",
   "execution_count": null,
   "metadata": {},
   "outputs": [],
   "source": []
  },
  {
   "cell_type": "code",
   "execution_count": 4,
   "metadata": {},
   "outputs": [],
   "source": [
    "def try_parse(dateString):\n",
    "    \"\"\" Try and parse a Date string in 4 different formats\n",
    "    Parameter\n",
    "    ----------\n",
    "    dateString : string\n",
    "\n",
    "    Returns\n",
    "    ----------\n",
    "    date : date\n",
    "    \"\"\"\n",
    "    # return dateString\n",
    "    # print(dateString)\n",
    "    try:\n",
    "        return datetime.datetime.strptime(dateString, '%Y-%m-%d %H:%M:%S')\n",
    "    except Exception as e:\n",
    "        try:\n",
    "            return datetime.datetime.strptime(dateString, '%Y-%m-%d %H:%M')\n",
    "        except Exception as e:\n",
    "            try:\n",
    "                return datetime.datetime.strptime(dateString, '%d-%m-%Y %H:%M')\n",
    "            except Exception as e:\n",
    "                return datetime.datetime.strptime(dateString, '%d-%m-%Y %H:%M:%S')\n"
   ]
  },
  {
   "cell_type": "code",
   "execution_count": 5,
   "metadata": {
    "tags": []
   },
   "outputs": [
    {
     "output_type": "execute_result",
     "data": {
      "text/plain": [
       "                      user_name              user_location  user_followers  \\\n",
       "0                      MyNewsNE                      Assam            64.0   \n",
       "1                 Shubham Gupta                        NaN             1.0   \n",
       "2       Journal of Infectiology                        NaN           143.0   \n",
       "3                          Zane                        NaN            29.0   \n",
       "4            Ann-Maree O’Connor  Adelaide, South Australia            83.0   \n",
       "...                         ...                        ...             ...   \n",
       "354385              pinakbet808          San Francisco, CA             0.0   \n",
       "354386          UCAN  Indonesia                    Jakarta          2954.0   \n",
       "354387               UCAN India                      India          1771.0   \n",
       "354388              VaccinatePA               Pennsylvania          1191.0   \n",
       "354389                 UCA News                        NaN           655.0   \n",
       "\n",
       "       user_friends user_favourites user_verified                date  \\\n",
       "0                11             110         False 2020-08-18 12:55:00   \n",
       "1                17               0         False 2020-08-18 12:55:00   \n",
       "2               566               8         False 2020-08-18 12:46:00   \n",
       "3                25             620         False 2020-08-18 12:45:00   \n",
       "4               497           10737         False 2020-08-18 12:45:00   \n",
       "...             ...             ...           ...                 ...   \n",
       "354385           83               0         False 2021-02-15 00:01:02   \n",
       "354386         1023               2         False 2021-02-15 00:00:56   \n",
       "354387          270              65         False 2021-02-15 00:00:56   \n",
       "354388           44              44         False 2021-02-15 00:00:09   \n",
       "354389          709              86         False 2021-02-15 00:00:01   \n",
       "\n",
       "                                                     text  \\\n",
       "0       Australia to Manufacture Covid-19 Vaccine and ...   \n",
       "1       #CoronavirusVaccine #CoronaVaccine #CovidVacci...   \n",
       "2       Deaths due to COVID-19 in Affected Countries\\n...   \n",
       "3       @Team_Subhashree @subhashreesotwe @iamrajchoco...   \n",
       "4       @michellegrattan @ConversationEDU This is what...   \n",
       "...                                                   ...   \n",
       "354385  I called my lola to wish her a Happy Valentine...   \n",
       "354386  Cambodia’s Ministry of Health approves emergen...   \n",
       "354387  Cambodia’s Ministry of Health approves emergen...   \n",
       "354388  Thanks for helping us get the word out, @abc27...   \n",
       "354389  Cambodia’s Ministry of Health approves emergen...   \n",
       "\n",
       "                     source                 xxx  \n",
       "0           Twitter Web App 2020-08-18 12:55:00  \n",
       "1       Twitter for Android 2020-08-18 12:55:00  \n",
       "2           Twitter Web App 2020-08-18 12:46:00  \n",
       "3       Twitter for Android 2020-08-18 12:45:00  \n",
       "4           Twitter Web App 2020-08-18 12:45:00  \n",
       "...                     ...                 ...  \n",
       "354385   Twitter for iPhone 2021-02-15 00:01:02  \n",
       "354386       SocialPilot.co 2021-02-15 00:00:56  \n",
       "354387       SocialPilot.co 2021-02-15 00:00:56  \n",
       "354388      Twitter Web App 2021-02-15 00:00:09  \n",
       "354389            TweetDeck 2021-02-15 00:00:01  \n",
       "\n",
       "[137477 rows x 10 columns]"
      ],
      "text/html": "<div>\n<style scoped>\n    .dataframe tbody tr th:only-of-type {\n        vertical-align: middle;\n    }\n\n    .dataframe tbody tr th {\n        vertical-align: top;\n    }\n\n    .dataframe thead th {\n        text-align: right;\n    }\n</style>\n<table border=\"1\" class=\"dataframe\">\n  <thead>\n    <tr style=\"text-align: right;\">\n      <th></th>\n      <th>user_name</th>\n      <th>user_location</th>\n      <th>user_followers</th>\n      <th>user_friends</th>\n      <th>user_favourites</th>\n      <th>user_verified</th>\n      <th>date</th>\n      <th>text</th>\n      <th>source</th>\n      <th>xxx</th>\n    </tr>\n  </thead>\n  <tbody>\n    <tr>\n      <th>0</th>\n      <td>MyNewsNE</td>\n      <td>Assam</td>\n      <td>64.0</td>\n      <td>11</td>\n      <td>110</td>\n      <td>False</td>\n      <td>2020-08-18 12:55:00</td>\n      <td>Australia to Manufacture Covid-19 Vaccine and ...</td>\n      <td>Twitter Web App</td>\n      <td>2020-08-18 12:55:00</td>\n    </tr>\n    <tr>\n      <th>1</th>\n      <td>Shubham Gupta</td>\n      <td>NaN</td>\n      <td>1.0</td>\n      <td>17</td>\n      <td>0</td>\n      <td>False</td>\n      <td>2020-08-18 12:55:00</td>\n      <td>#CoronavirusVaccine #CoronaVaccine #CovidVacci...</td>\n      <td>Twitter for Android</td>\n      <td>2020-08-18 12:55:00</td>\n    </tr>\n    <tr>\n      <th>2</th>\n      <td>Journal of Infectiology</td>\n      <td>NaN</td>\n      <td>143.0</td>\n      <td>566</td>\n      <td>8</td>\n      <td>False</td>\n      <td>2020-08-18 12:46:00</td>\n      <td>Deaths due to COVID-19 in Affected Countries\\n...</td>\n      <td>Twitter Web App</td>\n      <td>2020-08-18 12:46:00</td>\n    </tr>\n    <tr>\n      <th>3</th>\n      <td>Zane</td>\n      <td>NaN</td>\n      <td>29.0</td>\n      <td>25</td>\n      <td>620</td>\n      <td>False</td>\n      <td>2020-08-18 12:45:00</td>\n      <td>@Team_Subhashree @subhashreesotwe @iamrajchoco...</td>\n      <td>Twitter for Android</td>\n      <td>2020-08-18 12:45:00</td>\n    </tr>\n    <tr>\n      <th>4</th>\n      <td>Ann-Maree O’Connor</td>\n      <td>Adelaide, South Australia</td>\n      <td>83.0</td>\n      <td>497</td>\n      <td>10737</td>\n      <td>False</td>\n      <td>2020-08-18 12:45:00</td>\n      <td>@michellegrattan @ConversationEDU This is what...</td>\n      <td>Twitter Web App</td>\n      <td>2020-08-18 12:45:00</td>\n    </tr>\n    <tr>\n      <th>...</th>\n      <td>...</td>\n      <td>...</td>\n      <td>...</td>\n      <td>...</td>\n      <td>...</td>\n      <td>...</td>\n      <td>...</td>\n      <td>...</td>\n      <td>...</td>\n      <td>...</td>\n    </tr>\n    <tr>\n      <th>354385</th>\n      <td>pinakbet808</td>\n      <td>San Francisco, CA</td>\n      <td>0.0</td>\n      <td>83</td>\n      <td>0</td>\n      <td>False</td>\n      <td>2021-02-15 00:01:02</td>\n      <td>I called my lola to wish her a Happy Valentine...</td>\n      <td>Twitter for iPhone</td>\n      <td>2021-02-15 00:01:02</td>\n    </tr>\n    <tr>\n      <th>354386</th>\n      <td>UCAN  Indonesia</td>\n      <td>Jakarta</td>\n      <td>2954.0</td>\n      <td>1023</td>\n      <td>2</td>\n      <td>False</td>\n      <td>2021-02-15 00:00:56</td>\n      <td>Cambodia’s Ministry of Health approves emergen...</td>\n      <td>SocialPilot.co</td>\n      <td>2021-02-15 00:00:56</td>\n    </tr>\n    <tr>\n      <th>354387</th>\n      <td>UCAN India</td>\n      <td>India</td>\n      <td>1771.0</td>\n      <td>270</td>\n      <td>65</td>\n      <td>False</td>\n      <td>2021-02-15 00:00:56</td>\n      <td>Cambodia’s Ministry of Health approves emergen...</td>\n      <td>SocialPilot.co</td>\n      <td>2021-02-15 00:00:56</td>\n    </tr>\n    <tr>\n      <th>354388</th>\n      <td>VaccinatePA</td>\n      <td>Pennsylvania</td>\n      <td>1191.0</td>\n      <td>44</td>\n      <td>44</td>\n      <td>False</td>\n      <td>2021-02-15 00:00:09</td>\n      <td>Thanks for helping us get the word out, @abc27...</td>\n      <td>Twitter Web App</td>\n      <td>2021-02-15 00:00:09</td>\n    </tr>\n    <tr>\n      <th>354389</th>\n      <td>UCA News</td>\n      <td>NaN</td>\n      <td>655.0</td>\n      <td>709</td>\n      <td>86</td>\n      <td>False</td>\n      <td>2021-02-15 00:00:01</td>\n      <td>Cambodia’s Ministry of Health approves emergen...</td>\n      <td>TweetDeck</td>\n      <td>2021-02-15 00:00:01</td>\n    </tr>\n  </tbody>\n</table>\n<p>137477 rows × 10 columns</p>\n</div>"
     },
     "metadata": {},
     "execution_count": 5
    }
   ],
   "source": [
    "\n",
    "df = load_vaccine_csv()\n",
    "\n",
    "#18-08-2020 12:55\n",
    "df = df[df.date.notnull()]\n",
    "df = df[df.date.str.contains(\"-\")]\n",
    "\n",
    "df['date'] = df['date'].apply(lambda t: try_parse(t))\n",
    "df['xxx'] = pd.to_datetime(df['date'], format='%d-%m-%Y %H:%M')\n",
    "\n",
    "df = df.sort_index()\n",
    "df"
   ]
  },
  {
   "cell_type": "code",
   "execution_count": 6,
   "metadata": {},
   "outputs": [
    {
     "output_type": "execute_result",
     "data": {
      "text/plain": [
       "                                              user_name  \\\n",
       "0                                              MyNewsNE   \n",
       "4                                    Ann-Maree O’Connor   \n",
       "6                                      Rajesh Tadepalli   \n",
       "7           AKisASocialisolationist wash yer damn hands   \n",
       "8                                    Dr. Joseph Santoro   \n",
       "...                                                 ...   \n",
       "354384  Dr Mahendra G Patel We-are-ALL-AT-RISK #COVID19   \n",
       "354385                                      pinakbet808   \n",
       "354386                                  UCAN  Indonesia   \n",
       "354387                                       UCAN India   \n",
       "354388                                      VaccinatePA   \n",
       "\n",
       "                            user_location  user_followers user_friends  \\\n",
       "0                                   Assam            64.0           11   \n",
       "4               Adelaide, South Australia            83.0          497   \n",
       "6                        Hyderabad, India           918.0         2561   \n",
       "7             The Great Pacific Northwest          2321.0         3236   \n",
       "8                    Washington, DC 20009         19091.0        20986   \n",
       "...                                   ...             ...          ...   \n",
       "354384  Yorkshire and The Humber, England          5245.0         1296   \n",
       "354385                  San Francisco, CA             0.0           83   \n",
       "354386                            Jakarta          2954.0         1023   \n",
       "354387                              India          1771.0          270   \n",
       "354388                       Pennsylvania          1191.0           44   \n",
       "\n",
       "       user_favourites user_verified                date  \\\n",
       "0                  110         False 2020-08-18 12:55:00   \n",
       "4                10737         False 2020-08-18 12:45:00   \n",
       "6                31837         False 2020-08-18 12:34:00   \n",
       "7               264351         False 2020-08-18 12:30:00   \n",
       "8               128119         False 2020-08-18 12:15:00   \n",
       "...                ...           ...                 ...   \n",
       "354384           25625         False 2021-02-15 00:03:11   \n",
       "354385               0         False 2021-02-15 00:01:02   \n",
       "354386               2         False 2021-02-15 00:00:56   \n",
       "354387              65         False 2021-02-15 00:00:56   \n",
       "354388              44         False 2021-02-15 00:00:09   \n",
       "\n",
       "                                                     text  \\\n",
       "0       Australia to Manufacture Covid-19 Vaccine and ...   \n",
       "4       @michellegrattan @ConversationEDU This is what...   \n",
       "6       @PrivilRodrigues @yatish57 @deepkaranahuja @sh...   \n",
       "7       @MSNBC Well, let’s qualify that: would anyone ...   \n",
       "8       Most countries, without the ability to make #V...   \n",
       "...                                                   ...   \n",
       "354384  After weeks away now dipping in lightly &amp; ...   \n",
       "354385  I called my lola to wish her a Happy Valentine...   \n",
       "354386  Cambodia’s Ministry of Health approves emergen...   \n",
       "354387  Cambodia’s Ministry of Health approves emergen...   \n",
       "354388  Thanks for helping us get the word out, @abc27...   \n",
       "\n",
       "                     source                 xxx  \n",
       "0           Twitter Web App 2020-08-18 12:55:00  \n",
       "4           Twitter Web App 2020-08-18 12:45:00  \n",
       "6       Twitter for Android 2020-08-18 12:34:00  \n",
       "7        Twitter for iPhone 2020-08-18 12:30:00  \n",
       "8            Hootsuite Inc. 2020-08-18 12:15:00  \n",
       "...                     ...                 ...  \n",
       "354384   Twitter for iPhone 2021-02-15 00:03:11  \n",
       "354385   Twitter for iPhone 2021-02-15 00:01:02  \n",
       "354386       SocialPilot.co 2021-02-15 00:00:56  \n",
       "354387       SocialPilot.co 2021-02-15 00:00:56  \n",
       "354388      Twitter Web App 2021-02-15 00:00:09  \n",
       "\n",
       "[109325 rows x 10 columns]"
      ],
      "text/html": "<div>\n<style scoped>\n    .dataframe tbody tr th:only-of-type {\n        vertical-align: middle;\n    }\n\n    .dataframe tbody tr th {\n        vertical-align: top;\n    }\n\n    .dataframe thead th {\n        text-align: right;\n    }\n</style>\n<table border=\"1\" class=\"dataframe\">\n  <thead>\n    <tr style=\"text-align: right;\">\n      <th></th>\n      <th>user_name</th>\n      <th>user_location</th>\n      <th>user_followers</th>\n      <th>user_friends</th>\n      <th>user_favourites</th>\n      <th>user_verified</th>\n      <th>date</th>\n      <th>text</th>\n      <th>source</th>\n      <th>xxx</th>\n    </tr>\n  </thead>\n  <tbody>\n    <tr>\n      <th>0</th>\n      <td>MyNewsNE</td>\n      <td>Assam</td>\n      <td>64.0</td>\n      <td>11</td>\n      <td>110</td>\n      <td>False</td>\n      <td>2020-08-18 12:55:00</td>\n      <td>Australia to Manufacture Covid-19 Vaccine and ...</td>\n      <td>Twitter Web App</td>\n      <td>2020-08-18 12:55:00</td>\n    </tr>\n    <tr>\n      <th>4</th>\n      <td>Ann-Maree O’Connor</td>\n      <td>Adelaide, South Australia</td>\n      <td>83.0</td>\n      <td>497</td>\n      <td>10737</td>\n      <td>False</td>\n      <td>2020-08-18 12:45:00</td>\n      <td>@michellegrattan @ConversationEDU This is what...</td>\n      <td>Twitter Web App</td>\n      <td>2020-08-18 12:45:00</td>\n    </tr>\n    <tr>\n      <th>6</th>\n      <td>Rajesh Tadepalli</td>\n      <td>Hyderabad, India</td>\n      <td>918.0</td>\n      <td>2561</td>\n      <td>31837</td>\n      <td>False</td>\n      <td>2020-08-18 12:34:00</td>\n      <td>@PrivilRodrigues @yatish57 @deepkaranahuja @sh...</td>\n      <td>Twitter for Android</td>\n      <td>2020-08-18 12:34:00</td>\n    </tr>\n    <tr>\n      <th>7</th>\n      <td>AKisASocialisolationist wash yer damn hands</td>\n      <td>The Great Pacific Northwest</td>\n      <td>2321.0</td>\n      <td>3236</td>\n      <td>264351</td>\n      <td>False</td>\n      <td>2020-08-18 12:30:00</td>\n      <td>@MSNBC Well, let’s qualify that: would anyone ...</td>\n      <td>Twitter for iPhone</td>\n      <td>2020-08-18 12:30:00</td>\n    </tr>\n    <tr>\n      <th>8</th>\n      <td>Dr. Joseph Santoro</td>\n      <td>Washington, DC 20009</td>\n      <td>19091.0</td>\n      <td>20986</td>\n      <td>128119</td>\n      <td>False</td>\n      <td>2020-08-18 12:15:00</td>\n      <td>Most countries, without the ability to make #V...</td>\n      <td>Hootsuite Inc.</td>\n      <td>2020-08-18 12:15:00</td>\n    </tr>\n    <tr>\n      <th>...</th>\n      <td>...</td>\n      <td>...</td>\n      <td>...</td>\n      <td>...</td>\n      <td>...</td>\n      <td>...</td>\n      <td>...</td>\n      <td>...</td>\n      <td>...</td>\n      <td>...</td>\n    </tr>\n    <tr>\n      <th>354384</th>\n      <td>Dr Mahendra G Patel We-are-ALL-AT-RISK #COVID19</td>\n      <td>Yorkshire and The Humber, England</td>\n      <td>5245.0</td>\n      <td>1296</td>\n      <td>25625</td>\n      <td>False</td>\n      <td>2021-02-15 00:03:11</td>\n      <td>After weeks away now dipping in lightly &amp;amp; ...</td>\n      <td>Twitter for iPhone</td>\n      <td>2021-02-15 00:03:11</td>\n    </tr>\n    <tr>\n      <th>354385</th>\n      <td>pinakbet808</td>\n      <td>San Francisco, CA</td>\n      <td>0.0</td>\n      <td>83</td>\n      <td>0</td>\n      <td>False</td>\n      <td>2021-02-15 00:01:02</td>\n      <td>I called my lola to wish her a Happy Valentine...</td>\n      <td>Twitter for iPhone</td>\n      <td>2021-02-15 00:01:02</td>\n    </tr>\n    <tr>\n      <th>354386</th>\n      <td>UCAN  Indonesia</td>\n      <td>Jakarta</td>\n      <td>2954.0</td>\n      <td>1023</td>\n      <td>2</td>\n      <td>False</td>\n      <td>2021-02-15 00:00:56</td>\n      <td>Cambodia’s Ministry of Health approves emergen...</td>\n      <td>SocialPilot.co</td>\n      <td>2021-02-15 00:00:56</td>\n    </tr>\n    <tr>\n      <th>354387</th>\n      <td>UCAN India</td>\n      <td>India</td>\n      <td>1771.0</td>\n      <td>270</td>\n      <td>65</td>\n      <td>False</td>\n      <td>2021-02-15 00:00:56</td>\n      <td>Cambodia’s Ministry of Health approves emergen...</td>\n      <td>SocialPilot.co</td>\n      <td>2021-02-15 00:00:56</td>\n    </tr>\n    <tr>\n      <th>354388</th>\n      <td>VaccinatePA</td>\n      <td>Pennsylvania</td>\n      <td>1191.0</td>\n      <td>44</td>\n      <td>44</td>\n      <td>False</td>\n      <td>2021-02-15 00:00:09</td>\n      <td>Thanks for helping us get the word out, @abc27...</td>\n      <td>Twitter Web App</td>\n      <td>2021-02-15 00:00:09</td>\n    </tr>\n  </tbody>\n</table>\n<p>109325 rows × 10 columns</p>\n</div>"
     },
     "metadata": {},
     "execution_count": 6
    }
   ],
   "source": [
    "df2 = df.dropna()\n",
    "df2"
   ]
  },
  {
   "cell_type": "code",
   "execution_count": 7,
   "metadata": {},
   "outputs": [
    {
     "output_type": "execute_result",
     "data": {
      "text/plain": [
       "user_name           object\n",
       "user_location       object\n",
       "user_followers     float64\n",
       "user_friends        object\n",
       "user_favourites     object\n",
       "user_verified       object\n",
       "date                object\n",
       "text                object\n",
       "source              object\n",
       "dtype: object"
      ]
     },
     "metadata": {},
     "execution_count": 7
    }
   ],
   "source": [
    "load_vaccine_csv().dtypes\n"
   ]
  },
  {
   "cell_type": "code",
   "execution_count": 8,
   "metadata": {
    "tags": []
   },
   "outputs": [
    {
     "output_type": "execute_result",
     "data": {
      "text/plain": [
       "       user_followers\n",
       "count    1.374770e+05\n",
       "mean     5.157729e+04\n",
       "std      6.479442e+05\n",
       "min      0.000000e+00\n",
       "25%      1.390000e+02\n",
       "50%      6.030000e+02\n",
       "75%      2.664000e+03\n",
       "max      1.474791e+07"
      ],
      "text/html": "<div>\n<style scoped>\n    .dataframe tbody tr th:only-of-type {\n        vertical-align: middle;\n    }\n\n    .dataframe tbody tr th {\n        vertical-align: top;\n    }\n\n    .dataframe thead th {\n        text-align: right;\n    }\n</style>\n<table border=\"1\" class=\"dataframe\">\n  <thead>\n    <tr style=\"text-align: right;\">\n      <th></th>\n      <th>user_followers</th>\n    </tr>\n  </thead>\n  <tbody>\n    <tr>\n      <th>count</th>\n      <td>1.374770e+05</td>\n    </tr>\n    <tr>\n      <th>mean</th>\n      <td>5.157729e+04</td>\n    </tr>\n    <tr>\n      <th>std</th>\n      <td>6.479442e+05</td>\n    </tr>\n    <tr>\n      <th>min</th>\n      <td>0.000000e+00</td>\n    </tr>\n    <tr>\n      <th>25%</th>\n      <td>1.390000e+02</td>\n    </tr>\n    <tr>\n      <th>50%</th>\n      <td>6.030000e+02</td>\n    </tr>\n    <tr>\n      <th>75%</th>\n      <td>2.664000e+03</td>\n    </tr>\n    <tr>\n      <th>max</th>\n      <td>1.474791e+07</td>\n    </tr>\n  </tbody>\n</table>\n</div>"
     },
     "metadata": {},
     "execution_count": 8
    }
   ],
   "source": [
    "\n",
    "df.describe()\n"
   ]
  },
  {
   "cell_type": "code",
   "execution_count": 9,
   "metadata": {},
   "outputs": [
    {
     "output_type": "stream",
     "name": "stderr",
     "text": [
      "[nltk_data] Downloading package wordnet to\n[nltk_data]     /Users/nimendrapethiyagoda/nltk_data...\n[nltk_data]   Package wordnet is already up-to-date!\n"
     ]
    }
   ],
   "source": [
    "import nltk\n",
    "nltk.download('wordnet')\n",
    "\n",
    "lemmatizer = WordNetLemmatizer()"
   ]
  },
  {
   "cell_type": "code",
   "execution_count": 10,
   "metadata": {},
   "outputs": [],
   "source": [
    "def process_text(doc):\n",
    "    sw = set(stopwords.words('english'))\n",
    "    regex = re.compile(\"[^a-zA-Z ]\")\n",
    "    re_clean = regex.sub('', doc)\n",
    "    words = word_tokenize(re_clean)\n",
    "    lem = [lemmatizer.lemmatize(word) for word in words]\n",
    "    output = [word.lower() for word in lem if word.lower() not in sw]\n",
    "    return ' '.join(output)"
   ]
  },
  {
   "cell_type": "code",
   "execution_count": 11,
   "metadata": {},
   "outputs": [],
   "source": [
    "def analyse_sentiment(df):\n",
    "    load_dotenv()\n",
    "    tone_api = os.getenv(\"TONE_ANALYZER_APIKEY\")\n",
    "    tone_url = os.getenv(\"TONE_ANALYZER_URL\")\n",
    "    authenticator = IAMAuthenticator(tone_api)\n",
    "    tone_analyzer = ToneAnalyzerV3(\n",
    "        version=\"2017-09-21\",\n",
    "        authenticator=authenticator\n",
    "    )\n",
    "\n",
    "    utterances = [{\"text\": u, \"user\": \"guest\"} for u in df['text'].to_numpy()]\n",
    "\n",
    "    # Analyze utterances using the 'tone_chat()' method\n",
    "    utterance_analysis = tone_analyzer.tone_chat(\n",
    "        utterances=utterances, content_language=\"en\", accept_language=\"en\"\n",
    "    ).get_result()\n",
    "    # print(json.dumps(utterance_analysis, indent=2))\n",
    "    chat_tone_df = json_normalize(\n",
    "        data=utterance_analysis[\"utterances_tone\"],\n",
    "        record_path=[\"tones\"],\n",
    "        meta=[\"utterance_id\", \"utterance_text\"],\n",
    "    )\n",
    "    return chat_tone_df"
   ]
  },
  {
   "cell_type": "code",
   "execution_count": 12,
   "metadata": {},
   "outputs": [],
   "source": [
    "def analyse_sentimemnt_vader(df):   \n",
    "    sentiments = []\n",
    "\n",
    "    for index, row in df.iterrows():\n",
    "        try:\n",
    "            text = row[\"text\"]\n",
    "            # date = article[\"publishedAt\"][:10]\n",
    "            sentiment = analyzer.polarity_scores(text)\n",
    "            compound = sentiment[\"compound\"]\n",
    "            pos = sentiment[\"pos\"]\n",
    "            neu = sentiment[\"neu\"]\n",
    "            neg = sentiment[\"neg\"]\n",
    "            \n",
    "            sentiments.append({\n",
    "                \"text\": text,\n",
    "                \"date\": row['date'],\n",
    "                \"user_location\":row['user_location'],\n",
    "                \"user_followers\":row['user_followers'],\n",
    "                \"user_friends\":row['user_friends'],\n",
    "                \"user_favourites\":row['user_favourites'],\n",
    "                \"user_name\": row['user_name'],\n",
    "                \"user_verified\": row['user_verified'],\n",
    "                \"source\": row['source'],\n",
    "                \"compound\": compound,\n",
    "                \"positive\": pos,\n",
    "                \"negative\": neg,\n",
    "                \"neutral\": neu\n",
    "                \n",
    "            })\n",
    "            \n",
    "        except AttributeError:\n",
    "            pass\n",
    "        \n",
    "    # Create DataFrame\n",
    "    ret_df = pd.DataFrame(sentiments)\n",
    "\n",
    "    # Reorder DataFrame columns\n",
    "    cols = [\"date\",\"user_name\", \"user_location\",\"user_followers\", \"user_friends\", \"user_favourites\", \"text\", \"compound\", \"positive\", \"negative\", \"neutral\", \"user_verified\", \"source\"]\n",
    "    ret_df = ret_df[cols]\n",
    "    ret_df.set_index('date', inplace=True)\n",
    "    ret_df = ret_df.sort_index()\n",
    "\n",
    "    return ret_df"
   ]
  },
  {
   "cell_type": "code",
   "execution_count": 13,
   "metadata": {},
   "outputs": [
    {
     "output_type": "stream",
     "name": "stderr",
     "text": [
      "[nltk_data] Downloading package vader_lexicon to\n[nltk_data]     /Users/nimendrapethiyagoda/nltk_data...\n[nltk_data]   Package vader_lexicon is already up-to-date!\n"
     ]
    },
    {
     "output_type": "execute_result",
     "data": {
      "text/plain": [
       "                                          user_name            user_location  \\\n",
       "date                                                                           \n",
       "2020-08-09 19:15:00                          Ashwin                 India 🇮🇳   \n",
       "2020-08-09 20:02:00                   K. Kartik Rao  Mumbai and Nagpur India   \n",
       "2020-08-09 21:21:00  Mac Patrick (Road Hater) Henry    German Bundesrepublik   \n",
       "2020-08-09 21:29:00                      lydia Bell                   Earth    \n",
       "2020-08-09 22:55:00                 Lou Ann Donovan              Kansas, USA   \n",
       "...                                             ...                      ...   \n",
       "2021-02-18 23:58:25                     Jules Doyle                  Chicago   \n",
       "2021-02-18 23:58:41                  Bradley Mathys         Montréal, Québec   \n",
       "2021-02-18 23:59:37                 sir crankypants      South Carolina, USA   \n",
       "2021-02-18 23:59:50                     Rob Weisman                   Boston   \n",
       "2021-02-18 23:59:55          rheanna o’neil bellomo             New York, NY   \n",
       "\n",
       "                     user_followers user_friends user_favourites  \\\n",
       "date                                                               \n",
       "2020-08-09 19:15:00            89.0         3108            6780   \n",
       "2020-08-09 20:02:00           225.0          257           25362   \n",
       "2020-08-09 21:21:00           338.0          277           28305   \n",
       "2020-08-09 21:29:00          2038.0         1105           63422   \n",
       "2020-08-09 22:55:00          4365.0         4581            2505   \n",
       "...                             ...          ...             ...   \n",
       "2021-02-18 23:58:25           799.0         2467          112893   \n",
       "2021-02-18 23:58:41            18.0          143             160   \n",
       "2021-02-18 23:59:37           215.0          617            8905   \n",
       "2021-02-18 23:59:50          3678.0          780             574   \n",
       "2021-02-18 23:59:55          1731.0         2326            6929   \n",
       "\n",
       "                                                                  text  \\\n",
       "date                                                                     \n",
       "2020-08-09 19:15:00  Huge Thanks And Best Wishes With @SerumInstInd...   \n",
       "2020-08-09 20:02:00                   Any update of #CovidVaccine ????   \n",
       "2020-08-09 21:21:00  From a private frontline COVID nurses group to...   \n",
       "2020-08-09 21:29:00  So you want the whole world to take a #covidva...   \n",
       "2020-08-09 22:55:00  Watch to learn about the Phase 3 clinical tria...   \n",
       "...                                                                ...   \n",
       "2021-02-18 23:58:25  The #nightlynews is essentially 30 minutes of ...   \n",
       "2021-02-18 23:58:41  Woohoo! First dose of Moderna is done. Feels g...   \n",
       "2021-02-18 23:59:37  \"I don't want to be a guinea pig, my life's to...   \n",
       "2021-02-18 23:59:50  Oversight panel panel asks @MassGovernor and C...   \n",
       "2021-02-18 23:59:55  re: cancer patients unable to schedule #covidv...   \n",
       "\n",
       "                     compound  positive  negative  neutral user_verified  \\\n",
       "date                                                                       \n",
       "2020-08-09 19:15:00    0.9169     0.517     0.000    0.483         False   \n",
       "2020-08-09 20:02:00    0.0000     0.000     0.000    1.000         False   \n",
       "2020-08-09 21:21:00    0.0000     0.000     0.000    1.000         False   \n",
       "2020-08-09 21:29:00    0.0745     0.058     0.000    0.942         False   \n",
       "2020-08-09 22:55:00    0.0000     0.000     0.000    1.000         False   \n",
       "...                       ...       ...       ...      ...           ...   \n",
       "2021-02-18 23:58:25   -0.2263     0.000     0.101    0.899         False   \n",
       "2021-02-18 23:58:41    0.7772     0.430     0.000    0.570         False   \n",
       "2021-02-18 23:59:37    0.1476     0.078     0.053    0.869         False   \n",
       "2021-02-18 23:59:50    0.0000     0.000     0.000    1.000         False   \n",
       "2021-02-18 23:59:55   -0.6597     0.000     0.286    0.714          True   \n",
       "\n",
       "                                  source  \n",
       "date                                      \n",
       "2020-08-09 19:15:00  Twitter for Android  \n",
       "2020-08-09 20:02:00  Twitter for Android  \n",
       "2020-08-09 21:21:00      Twitter Web App  \n",
       "2020-08-09 21:29:00   Twitter for iPhone  \n",
       "2020-08-09 22:55:00   Twitter for iPhone  \n",
       "...                                  ...  \n",
       "2021-02-18 23:58:25   Twitter for iPhone  \n",
       "2021-02-18 23:58:41  Twitter for Android  \n",
       "2021-02-18 23:59:37  Twitter for Android  \n",
       "2021-02-18 23:59:50      Twitter Web App  \n",
       "2021-02-18 23:59:55      Twitter Web App  \n",
       "\n",
       "[109325 rows x 12 columns]"
      ],
      "text/html": "<div>\n<style scoped>\n    .dataframe tbody tr th:only-of-type {\n        vertical-align: middle;\n    }\n\n    .dataframe tbody tr th {\n        vertical-align: top;\n    }\n\n    .dataframe thead th {\n        text-align: right;\n    }\n</style>\n<table border=\"1\" class=\"dataframe\">\n  <thead>\n    <tr style=\"text-align: right;\">\n      <th></th>\n      <th>user_name</th>\n      <th>user_location</th>\n      <th>user_followers</th>\n      <th>user_friends</th>\n      <th>user_favourites</th>\n      <th>text</th>\n      <th>compound</th>\n      <th>positive</th>\n      <th>negative</th>\n      <th>neutral</th>\n      <th>user_verified</th>\n      <th>source</th>\n    </tr>\n    <tr>\n      <th>date</th>\n      <th></th>\n      <th></th>\n      <th></th>\n      <th></th>\n      <th></th>\n      <th></th>\n      <th></th>\n      <th></th>\n      <th></th>\n      <th></th>\n      <th></th>\n      <th></th>\n    </tr>\n  </thead>\n  <tbody>\n    <tr>\n      <th>2020-08-09 19:15:00</th>\n      <td>Ashwin</td>\n      <td>India 🇮🇳</td>\n      <td>89.0</td>\n      <td>3108</td>\n      <td>6780</td>\n      <td>Huge Thanks And Best Wishes With @SerumInstInd...</td>\n      <td>0.9169</td>\n      <td>0.517</td>\n      <td>0.000</td>\n      <td>0.483</td>\n      <td>False</td>\n      <td>Twitter for Android</td>\n    </tr>\n    <tr>\n      <th>2020-08-09 20:02:00</th>\n      <td>K. Kartik Rao</td>\n      <td>Mumbai and Nagpur India</td>\n      <td>225.0</td>\n      <td>257</td>\n      <td>25362</td>\n      <td>Any update of #CovidVaccine ????</td>\n      <td>0.0000</td>\n      <td>0.000</td>\n      <td>0.000</td>\n      <td>1.000</td>\n      <td>False</td>\n      <td>Twitter for Android</td>\n    </tr>\n    <tr>\n      <th>2020-08-09 21:21:00</th>\n      <td>Mac Patrick (Road Hater) Henry</td>\n      <td>German Bundesrepublik</td>\n      <td>338.0</td>\n      <td>277</td>\n      <td>28305</td>\n      <td>From a private frontline COVID nurses group to...</td>\n      <td>0.0000</td>\n      <td>0.000</td>\n      <td>0.000</td>\n      <td>1.000</td>\n      <td>False</td>\n      <td>Twitter Web App</td>\n    </tr>\n    <tr>\n      <th>2020-08-09 21:29:00</th>\n      <td>lydia Bell</td>\n      <td>Earth</td>\n      <td>2038.0</td>\n      <td>1105</td>\n      <td>63422</td>\n      <td>So you want the whole world to take a #covidva...</td>\n      <td>0.0745</td>\n      <td>0.058</td>\n      <td>0.000</td>\n      <td>0.942</td>\n      <td>False</td>\n      <td>Twitter for iPhone</td>\n    </tr>\n    <tr>\n      <th>2020-08-09 22:55:00</th>\n      <td>Lou Ann Donovan</td>\n      <td>Kansas, USA</td>\n      <td>4365.0</td>\n      <td>4581</td>\n      <td>2505</td>\n      <td>Watch to learn about the Phase 3 clinical tria...</td>\n      <td>0.0000</td>\n      <td>0.000</td>\n      <td>0.000</td>\n      <td>1.000</td>\n      <td>False</td>\n      <td>Twitter for iPhone</td>\n    </tr>\n    <tr>\n      <th>...</th>\n      <td>...</td>\n      <td>...</td>\n      <td>...</td>\n      <td>...</td>\n      <td>...</td>\n      <td>...</td>\n      <td>...</td>\n      <td>...</td>\n      <td>...</td>\n      <td>...</td>\n      <td>...</td>\n      <td>...</td>\n    </tr>\n    <tr>\n      <th>2021-02-18 23:58:25</th>\n      <td>Jules Doyle</td>\n      <td>Chicago</td>\n      <td>799.0</td>\n      <td>2467</td>\n      <td>112893</td>\n      <td>The #nightlynews is essentially 30 minutes of ...</td>\n      <td>-0.2263</td>\n      <td>0.000</td>\n      <td>0.101</td>\n      <td>0.899</td>\n      <td>False</td>\n      <td>Twitter for iPhone</td>\n    </tr>\n    <tr>\n      <th>2021-02-18 23:58:41</th>\n      <td>Bradley Mathys</td>\n      <td>Montréal, Québec</td>\n      <td>18.0</td>\n      <td>143</td>\n      <td>160</td>\n      <td>Woohoo! First dose of Moderna is done. Feels g...</td>\n      <td>0.7772</td>\n      <td>0.430</td>\n      <td>0.000</td>\n      <td>0.570</td>\n      <td>False</td>\n      <td>Twitter for Android</td>\n    </tr>\n    <tr>\n      <th>2021-02-18 23:59:37</th>\n      <td>sir crankypants</td>\n      <td>South Carolina, USA</td>\n      <td>215.0</td>\n      <td>617</td>\n      <td>8905</td>\n      <td>\"I don't want to be a guinea pig, my life's to...</td>\n      <td>0.1476</td>\n      <td>0.078</td>\n      <td>0.053</td>\n      <td>0.869</td>\n      <td>False</td>\n      <td>Twitter for Android</td>\n    </tr>\n    <tr>\n      <th>2021-02-18 23:59:50</th>\n      <td>Rob Weisman</td>\n      <td>Boston</td>\n      <td>3678.0</td>\n      <td>780</td>\n      <td>574</td>\n      <td>Oversight panel panel asks @MassGovernor and C...</td>\n      <td>0.0000</td>\n      <td>0.000</td>\n      <td>0.000</td>\n      <td>1.000</td>\n      <td>False</td>\n      <td>Twitter Web App</td>\n    </tr>\n    <tr>\n      <th>2021-02-18 23:59:55</th>\n      <td>rheanna o’neil bellomo</td>\n      <td>New York, NY</td>\n      <td>1731.0</td>\n      <td>2326</td>\n      <td>6929</td>\n      <td>re: cancer patients unable to schedule #covidv...</td>\n      <td>-0.6597</td>\n      <td>0.000</td>\n      <td>0.286</td>\n      <td>0.714</td>\n      <td>True</td>\n      <td>Twitter Web App</td>\n    </tr>\n  </tbody>\n</table>\n<p>109325 rows × 12 columns</p>\n</div>"
     },
     "metadata": {},
     "execution_count": 13
    }
   ],
   "source": [
    "# Download/Update the VADER Lexicon\n",
    "nltk.download('vader_lexicon')\n",
    "\n",
    "# Initialize the VADER sentiment analyzer\n",
    "analyzer = SentimentIntensityAnalyzer()\n",
    "tweet_tone_df = analyse_sentimemnt_vader(df2)\n",
    "tweet_tone_df"
   ]
  },
  {
   "cell_type": "code",
   "execution_count": 14,
   "metadata": {},
   "outputs": [
    {
     "output_type": "execute_result",
     "data": {
      "text/plain": [
       "Location(Austin, Travis County, Texas, United States, (30.2711286, -97.7436995, 0.0))"
      ]
     },
     "metadata": {},
     "execution_count": 14
    }
   ],
   "source": [
    "from geopy.geocoders import Nominatim\n",
    "app = Nominatim(user_agent=\"JournalDev\")\n",
    "location = app.geocode(\"Austin, Texas\")\n",
    "location"
   ]
  },
  {
   "cell_type": "code",
   "execution_count": 15,
   "metadata": {},
   "outputs": [
    {
     "output_type": "execute_result",
     "data": {
      "text/plain": [
       "                          open       high        low      close  volume\n",
       "date                                                                   \n",
       "2020-07-31 04:15:00  35.984022  35.984022  35.984022  35.984022     215\n",
       "2020-07-31 05:00:00  35.984022  35.984022  35.984022  35.984022     105\n",
       "2020-07-31 05:15:00  36.002599  36.002599  36.002599  36.002599     217\n",
       "2020-07-31 05:30:00  36.104774  36.188371  36.039754  36.039754    1850\n",
       "2020-07-31 06:00:00  36.132640  36.132640  36.132640  36.132640     196\n",
       "...                        ...        ...        ...        ...     ...\n",
       "2021-02-25 19:00:00  33.760000  33.769900  33.740000  33.750000    1945\n",
       "2021-02-25 19:15:00  33.730000  33.750000  33.710000  33.710000    5680\n",
       "2021-02-25 19:30:00  33.710000  33.720100  33.710000  33.710000    6066\n",
       "2021-02-25 19:45:00  33.700000  33.700000  33.680000  33.680000   10365\n",
       "2021-02-25 20:00:00  33.650000  33.670000  33.600000  33.620000   21053\n",
       "\n",
       "[8589 rows x 5 columns]"
      ],
      "text/html": "<div>\n<style scoped>\n    .dataframe tbody tr th:only-of-type {\n        vertical-align: middle;\n    }\n\n    .dataframe tbody tr th {\n        vertical-align: top;\n    }\n\n    .dataframe thead th {\n        text-align: right;\n    }\n</style>\n<table border=\"1\" class=\"dataframe\">\n  <thead>\n    <tr style=\"text-align: right;\">\n      <th></th>\n      <th>open</th>\n      <th>high</th>\n      <th>low</th>\n      <th>close</th>\n      <th>volume</th>\n    </tr>\n    <tr>\n      <th>date</th>\n      <th></th>\n      <th></th>\n      <th></th>\n      <th></th>\n      <th></th>\n    </tr>\n  </thead>\n  <tbody>\n    <tr>\n      <th>2020-07-31 04:15:00</th>\n      <td>35.984022</td>\n      <td>35.984022</td>\n      <td>35.984022</td>\n      <td>35.984022</td>\n      <td>215</td>\n    </tr>\n    <tr>\n      <th>2020-07-31 05:00:00</th>\n      <td>35.984022</td>\n      <td>35.984022</td>\n      <td>35.984022</td>\n      <td>35.984022</td>\n      <td>105</td>\n    </tr>\n    <tr>\n      <th>2020-07-31 05:15:00</th>\n      <td>36.002599</td>\n      <td>36.002599</td>\n      <td>36.002599</td>\n      <td>36.002599</td>\n      <td>217</td>\n    </tr>\n    <tr>\n      <th>2020-07-31 05:30:00</th>\n      <td>36.104774</td>\n      <td>36.188371</td>\n      <td>36.039754</td>\n      <td>36.039754</td>\n      <td>1850</td>\n    </tr>\n    <tr>\n      <th>2020-07-31 06:00:00</th>\n      <td>36.132640</td>\n      <td>36.132640</td>\n      <td>36.132640</td>\n      <td>36.132640</td>\n      <td>196</td>\n    </tr>\n    <tr>\n      <th>...</th>\n      <td>...</td>\n      <td>...</td>\n      <td>...</td>\n      <td>...</td>\n      <td>...</td>\n    </tr>\n    <tr>\n      <th>2021-02-25 19:00:00</th>\n      <td>33.760000</td>\n      <td>33.769900</td>\n      <td>33.740000</td>\n      <td>33.750000</td>\n      <td>1945</td>\n    </tr>\n    <tr>\n      <th>2021-02-25 19:15:00</th>\n      <td>33.730000</td>\n      <td>33.750000</td>\n      <td>33.710000</td>\n      <td>33.710000</td>\n      <td>5680</td>\n    </tr>\n    <tr>\n      <th>2021-02-25 19:30:00</th>\n      <td>33.710000</td>\n      <td>33.720100</td>\n      <td>33.710000</td>\n      <td>33.710000</td>\n      <td>6066</td>\n    </tr>\n    <tr>\n      <th>2021-02-25 19:45:00</th>\n      <td>33.700000</td>\n      <td>33.700000</td>\n      <td>33.680000</td>\n      <td>33.680000</td>\n      <td>10365</td>\n    </tr>\n    <tr>\n      <th>2021-02-25 20:00:00</th>\n      <td>33.650000</td>\n      <td>33.670000</td>\n      <td>33.600000</td>\n      <td>33.620000</td>\n      <td>21053</td>\n    </tr>\n  </tbody>\n</table>\n<p>8589 rows × 5 columns</p>\n</div>"
     },
     "metadata": {},
     "execution_count": 15
    }
   ],
   "source": [
    "# Pfizer Stock data, in 15 min intervals\n",
    "pfizer_df = pd.read_csv('./Resources/Pfizer.csv', parse_dates=True, index_col='time',)\n",
    "pfizer_df.index.names = ['date']\n",
    "pfizer_df\n"
   ]
  },
  {
   "cell_type": "code",
   "execution_count": 16,
   "metadata": {},
   "outputs": [
    {
     "output_type": "execute_result",
     "data": {
      "text/plain": [
       "                     user_followers  compound  positive  negative  neutral  \\\n",
       "date                                                                         \n",
       "2020-08-10 05:30:00             0.0    0.0000     0.000     0.000    0.000   \n",
       "2020-08-10 07:15:00             0.0    0.0000     0.000     0.000    0.000   \n",
       "2020-08-10 07:30:00             0.0    0.0000     0.000     0.000    0.000   \n",
       "2020-08-10 07:45:00        548972.0   -0.3612     0.000     0.161    1.839   \n",
       "2020-08-10 08:00:00           669.0    0.3400     0.165     0.101    2.734   \n",
       "...                             ...       ...       ...       ...      ...   \n",
       "2021-02-18 19:00:00        274209.0    3.9705     3.894     1.548   34.558   \n",
       "2021-02-18 19:15:00        660176.0   -0.0226     1.402     1.440   21.157   \n",
       "2021-02-18 19:30:00        223090.0    6.1219     3.163     1.052   29.785   \n",
       "2021-02-18 19:45:00        847249.0    0.9879     2.001     1.554   15.445   \n",
       "2021-02-18 20:00:00         79170.0    3.9511     2.479     0.733   20.788   \n",
       "\n",
       "                     source_92 News HD  source_@healthpolicyw  \\\n",
       "date                                                            \n",
       "2020-08-10 05:30:00                  0                      0   \n",
       "2020-08-10 07:15:00                  0                      0   \n",
       "2020-08-10 07:30:00                  0                      0   \n",
       "2020-08-10 07:45:00                  0                      0   \n",
       "2020-08-10 08:00:00                  0                      0   \n",
       "...                                ...                    ...   \n",
       "2021-02-18 19:00:00                  0                      0   \n",
       "2021-02-18 19:15:00                  0                      0   \n",
       "2021-02-18 19:30:00                  0                      0   \n",
       "2021-02-18 19:45:00                  0                      0   \n",
       "2021-02-18 20:00:00                  0                      0   \n",
       "\n",
       "                     source_A Touch of Snark  source_Africa Newsroom  \\\n",
       "date                                                                   \n",
       "2020-08-10 05:30:00                        0                       0   \n",
       "2020-08-10 07:15:00                        0                       0   \n",
       "2020-08-10 07:30:00                        0                       0   \n",
       "2020-08-10 07:45:00                        0                       0   \n",
       "2020-08-10 08:00:00                        0                       0   \n",
       "...                                      ...                     ...   \n",
       "2021-02-18 19:00:00                        0                       0   \n",
       "2021-02-18 19:15:00                        0                       0   \n",
       "2021-02-18 19:30:00                        0                       0   \n",
       "2021-02-18 19:45:00                        0                       0   \n",
       "2021-02-18 20:00:00                        0                       0   \n",
       "\n",
       "                     source_AgoraPulse Manager  ...  source_iOS  \\\n",
       "date                                            ...               \n",
       "2020-08-10 05:30:00                          0  ...           0   \n",
       "2020-08-10 07:15:00                          0  ...           0   \n",
       "2020-08-10 07:30:00                          0  ...           0   \n",
       "2020-08-10 07:45:00                          0  ...           0   \n",
       "2020-08-10 08:00:00                          0  ...           0   \n",
       "...                                        ...  ...         ...   \n",
       "2021-02-18 19:00:00                          0  ...           0   \n",
       "2021-02-18 19:15:00                          0  ...           0   \n",
       "2021-02-18 19:30:00                          0  ...           0   \n",
       "2021-02-18 19:45:00                          0  ...           0   \n",
       "2021-02-18 20:00:00                          0  ...           0   \n",
       "\n",
       "                     source_recurpost.com  source_robly_marketing  \\\n",
       "date                                                                \n",
       "2020-08-10 05:30:00                     0                       0   \n",
       "2020-08-10 07:15:00                     0                       0   \n",
       "2020-08-10 07:30:00                     0                       0   \n",
       "2020-08-10 07:45:00                     0                       0   \n",
       "2020-08-10 08:00:00                     0                       0   \n",
       "...                                   ...                     ...   \n",
       "2021-02-18 19:00:00                     0                       0   \n",
       "2021-02-18 19:15:00                     0                       0   \n",
       "2021-02-18 19:30:00                     0                       0   \n",
       "2021-02-18 19:45:00                     0                       0   \n",
       "2021-02-18 20:00:00                     0                       0   \n",
       "\n",
       "                     source_syllogiTweeter  verified       open       high  \\\n",
       "date                                                                         \n",
       "2020-08-10 05:30:00                      0         0  35.733230  35.733230   \n",
       "2020-08-10 07:15:00                      0         0  35.853982  35.872559   \n",
       "2020-08-10 07:30:00                      0         0  35.770384  35.770384   \n",
       "2020-08-10 07:45:00                      0         1  35.761096  35.779673   \n",
       "2020-08-10 08:00:00                      0         0  35.807539  35.807539   \n",
       "...                                    ...       ...        ...        ...   \n",
       "2021-02-18 19:00:00                      0         0  34.540000  34.560000   \n",
       "2021-02-18 19:15:00                      0         0  34.540000  34.540000   \n",
       "2021-02-18 19:30:00                      0         0  34.510000  34.540000   \n",
       "2021-02-18 19:45:00                      0         0  34.530000  34.550000   \n",
       "2021-02-18 20:00:00                      0         0  34.520000  34.550000   \n",
       "\n",
       "                           low      close  volume  \n",
       "date                                               \n",
       "2020-08-10 05:30:00  35.733230  35.733230     386  \n",
       "2020-08-10 07:15:00  35.761096  35.872559    1719  \n",
       "2020-08-10 07:30:00  35.770384  35.770384     210  \n",
       "2020-08-10 07:45:00  35.761096  35.779673    2073  \n",
       "2020-08-10 08:00:00  35.761096  35.761096    1618  \n",
       "...                        ...        ...     ...  \n",
       "2021-02-18 19:00:00  34.510000  34.510000   22236  \n",
       "2021-02-18 19:15:00  34.510000  34.520000    6693  \n",
       "2021-02-18 19:30:00  34.510000  34.530000    6108  \n",
       "2021-02-18 19:45:00  34.520000  34.540000    7004  \n",
       "2021-02-18 20:00:00  34.510000  34.550000   27064  \n",
       "\n",
       "[7931 rows x 221 columns]"
      ],
      "text/html": "<div>\n<style scoped>\n    .dataframe tbody tr th:only-of-type {\n        vertical-align: middle;\n    }\n\n    .dataframe tbody tr th {\n        vertical-align: top;\n    }\n\n    .dataframe thead th {\n        text-align: right;\n    }\n</style>\n<table border=\"1\" class=\"dataframe\">\n  <thead>\n    <tr style=\"text-align: right;\">\n      <th></th>\n      <th>user_followers</th>\n      <th>compound</th>\n      <th>positive</th>\n      <th>negative</th>\n      <th>neutral</th>\n      <th>source_92 News HD</th>\n      <th>source_@healthpolicyw</th>\n      <th>source_A Touch of Snark</th>\n      <th>source_Africa Newsroom</th>\n      <th>source_AgoraPulse Manager</th>\n      <th>...</th>\n      <th>source_iOS</th>\n      <th>source_recurpost.com</th>\n      <th>source_robly_marketing</th>\n      <th>source_syllogiTweeter</th>\n      <th>verified</th>\n      <th>open</th>\n      <th>high</th>\n      <th>low</th>\n      <th>close</th>\n      <th>volume</th>\n    </tr>\n    <tr>\n      <th>date</th>\n      <th></th>\n      <th></th>\n      <th></th>\n      <th></th>\n      <th></th>\n      <th></th>\n      <th></th>\n      <th></th>\n      <th></th>\n      <th></th>\n      <th></th>\n      <th></th>\n      <th></th>\n      <th></th>\n      <th></th>\n      <th></th>\n      <th></th>\n      <th></th>\n      <th></th>\n      <th></th>\n      <th></th>\n    </tr>\n  </thead>\n  <tbody>\n    <tr>\n      <th>2020-08-10 05:30:00</th>\n      <td>0.0</td>\n      <td>0.0000</td>\n      <td>0.000</td>\n      <td>0.000</td>\n      <td>0.000</td>\n      <td>0</td>\n      <td>0</td>\n      <td>0</td>\n      <td>0</td>\n      <td>0</td>\n      <td>...</td>\n      <td>0</td>\n      <td>0</td>\n      <td>0</td>\n      <td>0</td>\n      <td>0</td>\n      <td>35.733230</td>\n      <td>35.733230</td>\n      <td>35.733230</td>\n      <td>35.733230</td>\n      <td>386</td>\n    </tr>\n    <tr>\n      <th>2020-08-10 07:15:00</th>\n      <td>0.0</td>\n      <td>0.0000</td>\n      <td>0.000</td>\n      <td>0.000</td>\n      <td>0.000</td>\n      <td>0</td>\n      <td>0</td>\n      <td>0</td>\n      <td>0</td>\n      <td>0</td>\n      <td>...</td>\n      <td>0</td>\n      <td>0</td>\n      <td>0</td>\n      <td>0</td>\n      <td>0</td>\n      <td>35.853982</td>\n      <td>35.872559</td>\n      <td>35.761096</td>\n      <td>35.872559</td>\n      <td>1719</td>\n    </tr>\n    <tr>\n      <th>2020-08-10 07:30:00</th>\n      <td>0.0</td>\n      <td>0.0000</td>\n      <td>0.000</td>\n      <td>0.000</td>\n      <td>0.000</td>\n      <td>0</td>\n      <td>0</td>\n      <td>0</td>\n      <td>0</td>\n      <td>0</td>\n      <td>...</td>\n      <td>0</td>\n      <td>0</td>\n      <td>0</td>\n      <td>0</td>\n      <td>0</td>\n      <td>35.770384</td>\n      <td>35.770384</td>\n      <td>35.770384</td>\n      <td>35.770384</td>\n      <td>210</td>\n    </tr>\n    <tr>\n      <th>2020-08-10 07:45:00</th>\n      <td>548972.0</td>\n      <td>-0.3612</td>\n      <td>0.000</td>\n      <td>0.161</td>\n      <td>1.839</td>\n      <td>0</td>\n      <td>0</td>\n      <td>0</td>\n      <td>0</td>\n      <td>0</td>\n      <td>...</td>\n      <td>0</td>\n      <td>0</td>\n      <td>0</td>\n      <td>0</td>\n      <td>1</td>\n      <td>35.761096</td>\n      <td>35.779673</td>\n      <td>35.761096</td>\n      <td>35.779673</td>\n      <td>2073</td>\n    </tr>\n    <tr>\n      <th>2020-08-10 08:00:00</th>\n      <td>669.0</td>\n      <td>0.3400</td>\n      <td>0.165</td>\n      <td>0.101</td>\n      <td>2.734</td>\n      <td>0</td>\n      <td>0</td>\n      <td>0</td>\n      <td>0</td>\n      <td>0</td>\n      <td>...</td>\n      <td>0</td>\n      <td>0</td>\n      <td>0</td>\n      <td>0</td>\n      <td>0</td>\n      <td>35.807539</td>\n      <td>35.807539</td>\n      <td>35.761096</td>\n      <td>35.761096</td>\n      <td>1618</td>\n    </tr>\n    <tr>\n      <th>...</th>\n      <td>...</td>\n      <td>...</td>\n      <td>...</td>\n      <td>...</td>\n      <td>...</td>\n      <td>...</td>\n      <td>...</td>\n      <td>...</td>\n      <td>...</td>\n      <td>...</td>\n      <td>...</td>\n      <td>...</td>\n      <td>...</td>\n      <td>...</td>\n      <td>...</td>\n      <td>...</td>\n      <td>...</td>\n      <td>...</td>\n      <td>...</td>\n      <td>...</td>\n      <td>...</td>\n    </tr>\n    <tr>\n      <th>2021-02-18 19:00:00</th>\n      <td>274209.0</td>\n      <td>3.9705</td>\n      <td>3.894</td>\n      <td>1.548</td>\n      <td>34.558</td>\n      <td>0</td>\n      <td>0</td>\n      <td>0</td>\n      <td>0</td>\n      <td>0</td>\n      <td>...</td>\n      <td>0</td>\n      <td>0</td>\n      <td>0</td>\n      <td>0</td>\n      <td>0</td>\n      <td>34.540000</td>\n      <td>34.560000</td>\n      <td>34.510000</td>\n      <td>34.510000</td>\n      <td>22236</td>\n    </tr>\n    <tr>\n      <th>2021-02-18 19:15:00</th>\n      <td>660176.0</td>\n      <td>-0.0226</td>\n      <td>1.402</td>\n      <td>1.440</td>\n      <td>21.157</td>\n      <td>0</td>\n      <td>0</td>\n      <td>0</td>\n      <td>0</td>\n      <td>0</td>\n      <td>...</td>\n      <td>0</td>\n      <td>0</td>\n      <td>0</td>\n      <td>0</td>\n      <td>0</td>\n      <td>34.540000</td>\n      <td>34.540000</td>\n      <td>34.510000</td>\n      <td>34.520000</td>\n      <td>6693</td>\n    </tr>\n    <tr>\n      <th>2021-02-18 19:30:00</th>\n      <td>223090.0</td>\n      <td>6.1219</td>\n      <td>3.163</td>\n      <td>1.052</td>\n      <td>29.785</td>\n      <td>0</td>\n      <td>0</td>\n      <td>0</td>\n      <td>0</td>\n      <td>0</td>\n      <td>...</td>\n      <td>0</td>\n      <td>0</td>\n      <td>0</td>\n      <td>0</td>\n      <td>0</td>\n      <td>34.510000</td>\n      <td>34.540000</td>\n      <td>34.510000</td>\n      <td>34.530000</td>\n      <td>6108</td>\n    </tr>\n    <tr>\n      <th>2021-02-18 19:45:00</th>\n      <td>847249.0</td>\n      <td>0.9879</td>\n      <td>2.001</td>\n      <td>1.554</td>\n      <td>15.445</td>\n      <td>0</td>\n      <td>0</td>\n      <td>0</td>\n      <td>0</td>\n      <td>0</td>\n      <td>...</td>\n      <td>0</td>\n      <td>0</td>\n      <td>0</td>\n      <td>0</td>\n      <td>0</td>\n      <td>34.530000</td>\n      <td>34.550000</td>\n      <td>34.520000</td>\n      <td>34.540000</td>\n      <td>7004</td>\n    </tr>\n    <tr>\n      <th>2021-02-18 20:00:00</th>\n      <td>79170.0</td>\n      <td>3.9511</td>\n      <td>2.479</td>\n      <td>0.733</td>\n      <td>20.788</td>\n      <td>0</td>\n      <td>0</td>\n      <td>0</td>\n      <td>0</td>\n      <td>0</td>\n      <td>...</td>\n      <td>0</td>\n      <td>0</td>\n      <td>0</td>\n      <td>0</td>\n      <td>0</td>\n      <td>34.520000</td>\n      <td>34.550000</td>\n      <td>34.510000</td>\n      <td>34.550000</td>\n      <td>27064</td>\n    </tr>\n  </tbody>\n</table>\n<p>7931 rows × 221 columns</p>\n</div>"
     },
     "metadata": {},
     "execution_count": 16
    }
   ],
   "source": [
    "\n",
    "tweet_tone_with_dummies_df = pd.get_dummies(tweet_tone_df, columns=['source'])\n",
    "tweet_tone_with_dummies_df['verified'] = tweet_tone_with_dummies_df['user_verified'].apply(lambda x: 1 if (x == True) else 0)\n",
    "tweet_tone_with_dummies_resampled_df = tweet_tone_with_dummies_df.resample('15min').sum()\n",
    "combined_df = pd.concat([tweet_tone_with_dummies_resampled_df, pfizer_df], axis=1, join='inner')\n",
    "combined_df\n"
   ]
  },
  {
   "cell_type": "code",
   "execution_count": 17,
   "metadata": {},
   "outputs": [
    {
     "output_type": "display_data",
     "data": {
      "text/plain": "<Figure size 432x288 with 1 Axes>",
      "image/svg+xml": "<?xml version=\"1.0\" encoding=\"utf-8\" standalone=\"no\"?>\n<!DOCTYPE svg PUBLIC \"-//W3C//DTD SVG 1.1//EN\"\n  \"http://www.w3.org/Graphics/SVG/1.1/DTD/svg11.dtd\">\n<!-- Created with matplotlib (https://matplotlib.org/) -->\n<svg height=\"263.63625pt\" version=\"1.1\" viewBox=\"0 0 386.845312 263.63625\" width=\"386.845312pt\" xmlns=\"http://www.w3.org/2000/svg\" xmlns:xlink=\"http://www.w3.org/1999/xlink\">\n <defs>\n  <style type=\"text/css\">\n*{stroke-linecap:butt;stroke-linejoin:round;}\n  </style>\n </defs>\n <g id=\"figure_1\">\n  <g id=\"patch_1\">\n   <path d=\"M 0 263.63625 \nL 386.845312 263.63625 \nL 386.845312 0 \nL 0 0 \nz\n\" style=\"fill:none;\"/>\n  </g>\n  <g id=\"axes_1\">\n   <g id=\"patch_2\">\n    <path d=\"M 44.845313 239.758125 \nL 379.645313 239.758125 \nL 379.645313 22.318125 \nL 44.845313 22.318125 \nz\n\" style=\"fill:#ffffff;\"/>\n   </g>\n   <g id=\"PolyCollection_1\"/>\n   <g id=\"matplotlib.axis_1\">\n    <g id=\"xtick_1\">\n     <g id=\"line2d_1\">\n      <defs>\n       <path d=\"M 0 0 \nL 0 3.5 \n\" id=\"me2a234a40b\" style=\"stroke:#000000;stroke-width:0.8;\"/>\n      </defs>\n      <g>\n       <use style=\"stroke:#000000;stroke-width:0.8;\" x=\"90.499858\" xlink:href=\"#me2a234a40b\" y=\"239.758125\"/>\n      </g>\n     </g>\n     <g id=\"text_1\">\n      <!-- −0.04 -->\n      <defs>\n       <path d=\"M 10.59375 35.5 \nL 73.1875 35.5 \nL 73.1875 27.203125 \nL 10.59375 27.203125 \nz\n\" id=\"DejaVuSans-8722\"/>\n       <path d=\"M 31.78125 66.40625 \nQ 24.171875 66.40625 20.328125 58.90625 \nQ 16.5 51.421875 16.5 36.375 \nQ 16.5 21.390625 20.328125 13.890625 \nQ 24.171875 6.390625 31.78125 6.390625 \nQ 39.453125 6.390625 43.28125 13.890625 \nQ 47.125 21.390625 47.125 36.375 \nQ 47.125 51.421875 43.28125 58.90625 \nQ 39.453125 66.40625 31.78125 66.40625 \nz\nM 31.78125 74.21875 \nQ 44.046875 74.21875 50.515625 64.515625 \nQ 56.984375 54.828125 56.984375 36.375 \nQ 56.984375 17.96875 50.515625 8.265625 \nQ 44.046875 -1.421875 31.78125 -1.421875 \nQ 19.53125 -1.421875 13.0625 8.265625 \nQ 6.59375 17.96875 6.59375 36.375 \nQ 6.59375 54.828125 13.0625 64.515625 \nQ 19.53125 74.21875 31.78125 74.21875 \nz\n\" id=\"DejaVuSans-48\"/>\n       <path d=\"M 10.6875 12.40625 \nL 21 12.40625 \nL 21 0 \nL 10.6875 0 \nz\n\" id=\"DejaVuSans-46\"/>\n       <path d=\"M 37.796875 64.3125 \nL 12.890625 25.390625 \nL 37.796875 25.390625 \nz\nM 35.203125 72.90625 \nL 47.609375 72.90625 \nL 47.609375 25.390625 \nL 58.015625 25.390625 \nL 58.015625 17.1875 \nL 47.609375 17.1875 \nL 47.609375 0 \nL 37.796875 0 \nL 37.796875 17.1875 \nL 4.890625 17.1875 \nL 4.890625 26.703125 \nz\n\" id=\"DejaVuSans-52\"/>\n      </defs>\n      <g transform=\"translate(75.177202 254.356563)scale(0.1 -0.1)\">\n       <use xlink:href=\"#DejaVuSans-8722\"/>\n       <use x=\"83.789062\" xlink:href=\"#DejaVuSans-48\"/>\n       <use x=\"147.412109\" xlink:href=\"#DejaVuSans-46\"/>\n       <use x=\"179.199219\" xlink:href=\"#DejaVuSans-48\"/>\n       <use x=\"242.822266\" xlink:href=\"#DejaVuSans-52\"/>\n      </g>\n     </g>\n    </g>\n    <g id=\"xtick_2\">\n     <g id=\"line2d_2\">\n      <g>\n       <use style=\"stroke:#000000;stroke-width:0.8;\" x=\"151.372585\" xlink:href=\"#me2a234a40b\" y=\"239.758125\"/>\n      </g>\n     </g>\n     <g id=\"text_2\">\n      <!-- −0.02 -->\n      <defs>\n       <path d=\"M 19.1875 8.296875 \nL 53.609375 8.296875 \nL 53.609375 0 \nL 7.328125 0 \nL 7.328125 8.296875 \nQ 12.9375 14.109375 22.625 23.890625 \nQ 32.328125 33.6875 34.8125 36.53125 \nQ 39.546875 41.84375 41.421875 45.53125 \nQ 43.3125 49.21875 43.3125 52.78125 \nQ 43.3125 58.59375 39.234375 62.25 \nQ 35.15625 65.921875 28.609375 65.921875 \nQ 23.96875 65.921875 18.8125 64.3125 \nQ 13.671875 62.703125 7.8125 59.421875 \nL 7.8125 69.390625 \nQ 13.765625 71.78125 18.9375 73 \nQ 24.125 74.21875 28.421875 74.21875 \nQ 39.75 74.21875 46.484375 68.546875 \nQ 53.21875 62.890625 53.21875 53.421875 \nQ 53.21875 48.921875 51.53125 44.890625 \nQ 49.859375 40.875 45.40625 35.40625 \nQ 44.1875 33.984375 37.640625 27.21875 \nQ 31.109375 20.453125 19.1875 8.296875 \nz\n\" id=\"DejaVuSans-50\"/>\n      </defs>\n      <g transform=\"translate(136.049929 254.356563)scale(0.1 -0.1)\">\n       <use xlink:href=\"#DejaVuSans-8722\"/>\n       <use x=\"83.789062\" xlink:href=\"#DejaVuSans-48\"/>\n       <use x=\"147.412109\" xlink:href=\"#DejaVuSans-46\"/>\n       <use x=\"179.199219\" xlink:href=\"#DejaVuSans-48\"/>\n       <use x=\"242.822266\" xlink:href=\"#DejaVuSans-50\"/>\n      </g>\n     </g>\n    </g>\n    <g id=\"xtick_3\">\n     <g id=\"line2d_3\">\n      <g>\n       <use style=\"stroke:#000000;stroke-width:0.8;\" x=\"212.245313\" xlink:href=\"#me2a234a40b\" y=\"239.758125\"/>\n      </g>\n     </g>\n     <g id=\"text_3\">\n      <!-- 0.00 -->\n      <g transform=\"translate(201.1125 254.356563)scale(0.1 -0.1)\">\n       <use xlink:href=\"#DejaVuSans-48\"/>\n       <use x=\"63.623047\" xlink:href=\"#DejaVuSans-46\"/>\n       <use x=\"95.410156\" xlink:href=\"#DejaVuSans-48\"/>\n       <use x=\"159.033203\" xlink:href=\"#DejaVuSans-48\"/>\n      </g>\n     </g>\n    </g>\n    <g id=\"xtick_4\">\n     <g id=\"line2d_4\">\n      <g>\n       <use style=\"stroke:#000000;stroke-width:0.8;\" x=\"273.11804\" xlink:href=\"#me2a234a40b\" y=\"239.758125\"/>\n      </g>\n     </g>\n     <g id=\"text_4\">\n      <!-- 0.02 -->\n      <g transform=\"translate(261.985227 254.356563)scale(0.1 -0.1)\">\n       <use xlink:href=\"#DejaVuSans-48\"/>\n       <use x=\"63.623047\" xlink:href=\"#DejaVuSans-46\"/>\n       <use x=\"95.410156\" xlink:href=\"#DejaVuSans-48\"/>\n       <use x=\"159.033203\" xlink:href=\"#DejaVuSans-50\"/>\n      </g>\n     </g>\n    </g>\n    <g id=\"xtick_5\">\n     <g id=\"line2d_5\">\n      <g>\n       <use style=\"stroke:#000000;stroke-width:0.8;\" x=\"333.990767\" xlink:href=\"#me2a234a40b\" y=\"239.758125\"/>\n      </g>\n     </g>\n     <g id=\"text_5\">\n      <!-- 0.04 -->\n      <g transform=\"translate(322.857955 254.356563)scale(0.1 -0.1)\">\n       <use xlink:href=\"#DejaVuSans-48\"/>\n       <use x=\"63.623047\" xlink:href=\"#DejaVuSans-46\"/>\n       <use x=\"95.410156\" xlink:href=\"#DejaVuSans-48\"/>\n       <use x=\"159.033203\" xlink:href=\"#DejaVuSans-52\"/>\n      </g>\n     </g>\n    </g>\n   </g>\n   <g id=\"matplotlib.axis_2\">\n    <g id=\"ytick_1\">\n     <g id=\"line2d_6\">\n      <defs>\n       <path d=\"M 0 0 \nL -3.5 0 \n\" id=\"m6fa141ce30\" style=\"stroke:#000000;stroke-width:0.8;\"/>\n      </defs>\n      <g>\n       <use style=\"stroke:#000000;stroke-width:0.8;\" x=\"44.845313\" xlink:href=\"#m6fa141ce30\" y=\"210.107216\"/>\n      </g>\n     </g>\n     <g id=\"text_6\">\n      <!-- −0.04 -->\n      <g transform=\"translate(7.2 213.906435)scale(0.1 -0.1)\">\n       <use xlink:href=\"#DejaVuSans-8722\"/>\n       <use x=\"83.789062\" xlink:href=\"#DejaVuSans-48\"/>\n       <use x=\"147.412109\" xlink:href=\"#DejaVuSans-46\"/>\n       <use x=\"179.199219\" xlink:href=\"#DejaVuSans-48\"/>\n       <use x=\"242.822266\" xlink:href=\"#DejaVuSans-52\"/>\n      </g>\n     </g>\n    </g>\n    <g id=\"ytick_2\">\n     <g id=\"line2d_7\">\n      <g>\n       <use style=\"stroke:#000000;stroke-width:0.8;\" x=\"44.845313\" xlink:href=\"#m6fa141ce30\" y=\"170.57267\"/>\n      </g>\n     </g>\n     <g id=\"text_7\">\n      <!-- −0.02 -->\n      <g transform=\"translate(7.2 174.371889)scale(0.1 -0.1)\">\n       <use xlink:href=\"#DejaVuSans-8722\"/>\n       <use x=\"83.789062\" xlink:href=\"#DejaVuSans-48\"/>\n       <use x=\"147.412109\" xlink:href=\"#DejaVuSans-46\"/>\n       <use x=\"179.199219\" xlink:href=\"#DejaVuSans-48\"/>\n       <use x=\"242.822266\" xlink:href=\"#DejaVuSans-50\"/>\n      </g>\n     </g>\n    </g>\n    <g id=\"ytick_3\">\n     <g id=\"line2d_8\">\n      <g>\n       <use style=\"stroke:#000000;stroke-width:0.8;\" x=\"44.845313\" xlink:href=\"#m6fa141ce30\" y=\"131.038125\"/>\n      </g>\n     </g>\n     <g id=\"text_8\">\n      <!-- 0.00 -->\n      <g transform=\"translate(15.579688 134.837344)scale(0.1 -0.1)\">\n       <use xlink:href=\"#DejaVuSans-48\"/>\n       <use x=\"63.623047\" xlink:href=\"#DejaVuSans-46\"/>\n       <use x=\"95.410156\" xlink:href=\"#DejaVuSans-48\"/>\n       <use x=\"159.033203\" xlink:href=\"#DejaVuSans-48\"/>\n      </g>\n     </g>\n    </g>\n    <g id=\"ytick_4\">\n     <g id=\"line2d_9\">\n      <g>\n       <use style=\"stroke:#000000;stroke-width:0.8;\" x=\"44.845313\" xlink:href=\"#m6fa141ce30\" y=\"91.50358\"/>\n      </g>\n     </g>\n     <g id=\"text_9\">\n      <!-- 0.02 -->\n      <g transform=\"translate(15.579688 95.302798)scale(0.1 -0.1)\">\n       <use xlink:href=\"#DejaVuSans-48\"/>\n       <use x=\"63.623047\" xlink:href=\"#DejaVuSans-46\"/>\n       <use x=\"95.410156\" xlink:href=\"#DejaVuSans-48\"/>\n       <use x=\"159.033203\" xlink:href=\"#DejaVuSans-50\"/>\n      </g>\n     </g>\n    </g>\n    <g id=\"ytick_5\">\n     <g id=\"line2d_10\">\n      <g>\n       <use style=\"stroke:#000000;stroke-width:0.8;\" x=\"44.845313\" xlink:href=\"#m6fa141ce30\" y=\"51.969034\"/>\n      </g>\n     </g>\n     <g id=\"text_10\">\n      <!-- 0.04 -->\n      <g transform=\"translate(15.579688 55.768253)scale(0.1 -0.1)\">\n       <use xlink:href=\"#DejaVuSans-48\"/>\n       <use x=\"63.623047\" xlink:href=\"#DejaVuSans-46\"/>\n       <use x=\"95.410156\" xlink:href=\"#DejaVuSans-48\"/>\n       <use x=\"159.033203\" xlink:href=\"#DejaVuSans-52\"/>\n      </g>\n     </g>\n    </g>\n   </g>\n   <g id=\"LineCollection_1\"/>\n   <g id=\"line2d_11\">\n    <path clip-path=\"url(#p057778d205)\" d=\"M 44.845313 131.038125 \nL 379.645313 131.038125 \n\" style=\"fill:none;stroke:#1f77b4;stroke-linecap:square;stroke-width:1.5;\"/>\n   </g>\n   <g id=\"line2d_12\">\n    <defs>\n     <path d=\"M 0 2.5 \nC 0.663008 2.5 1.29895 2.236584 1.767767 1.767767 \nC 2.236584 1.29895 2.5 0.663008 2.5 0 \nC 2.5 -0.663008 2.236584 -1.29895 1.767767 -1.767767 \nC 1.29895 -2.236584 0.663008 -2.5 0 -2.5 \nC -0.663008 -2.5 -1.29895 -2.236584 -1.767767 -1.767767 \nC -2.236584 -1.29895 -2.5 -0.663008 -2.5 0 \nC -2.5 0.663008 -2.236584 1.29895 -1.767767 1.767767 \nC -1.29895 2.236584 -0.663008 2.5 0 2.5 \nz\n\" id=\"m57ec5b571c\" style=\"stroke:#1f77b4;\"/>\n    </defs>\n    <g clip-path=\"url(#p057778d205)\">\n     <use style=\"fill:#1f77b4;stroke:#1f77b4;\" x=\"0\" xlink:href=\"#m57ec5b571c\" y=\"0\"/>\n    </g>\n   </g>\n   <g id=\"patch_3\">\n    <path d=\"M 44.845313 239.758125 \nL 44.845313 22.318125 \n\" style=\"fill:none;stroke:#000000;stroke-linecap:square;stroke-linejoin:miter;stroke-width:0.8;\"/>\n   </g>\n   <g id=\"patch_4\">\n    <path d=\"M 379.645313 239.758125 \nL 379.645313 22.318125 \n\" style=\"fill:none;stroke:#000000;stroke-linecap:square;stroke-linejoin:miter;stroke-width:0.8;\"/>\n   </g>\n   <g id=\"patch_5\">\n    <path d=\"M 44.845313 239.758125 \nL 379.645313 239.758125 \n\" style=\"fill:none;stroke:#000000;stroke-linecap:square;stroke-linejoin:miter;stroke-width:0.8;\"/>\n   </g>\n   <g id=\"patch_6\">\n    <path d=\"M 44.845313 22.318125 \nL 379.645313 22.318125 \n\" style=\"fill:none;stroke:#000000;stroke-linecap:square;stroke-linejoin:miter;stroke-width:0.8;\"/>\n   </g>\n   <g id=\"text_11\">\n    <!-- Partial Autocorrelation -->\n    <defs>\n     <path d=\"M 19.671875 64.796875 \nL 19.671875 37.40625 \nL 32.078125 37.40625 \nQ 38.96875 37.40625 42.71875 40.96875 \nQ 46.484375 44.53125 46.484375 51.125 \nQ 46.484375 57.671875 42.71875 61.234375 \nQ 38.96875 64.796875 32.078125 64.796875 \nz\nM 9.8125 72.90625 \nL 32.078125 72.90625 \nQ 44.34375 72.90625 50.609375 67.359375 \nQ 56.890625 61.8125 56.890625 51.125 \nQ 56.890625 40.328125 50.609375 34.8125 \nQ 44.34375 29.296875 32.078125 29.296875 \nL 19.671875 29.296875 \nL 19.671875 0 \nL 9.8125 0 \nz\n\" id=\"DejaVuSans-80\"/>\n     <path d=\"M 34.28125 27.484375 \nQ 23.390625 27.484375 19.1875 25 \nQ 14.984375 22.515625 14.984375 16.5 \nQ 14.984375 11.71875 18.140625 8.90625 \nQ 21.296875 6.109375 26.703125 6.109375 \nQ 34.1875 6.109375 38.703125 11.40625 \nQ 43.21875 16.703125 43.21875 25.484375 \nL 43.21875 27.484375 \nz\nM 52.203125 31.203125 \nL 52.203125 0 \nL 43.21875 0 \nL 43.21875 8.296875 \nQ 40.140625 3.328125 35.546875 0.953125 \nQ 30.953125 -1.421875 24.3125 -1.421875 \nQ 15.921875 -1.421875 10.953125 3.296875 \nQ 6 8.015625 6 15.921875 \nQ 6 25.140625 12.171875 29.828125 \nQ 18.359375 34.515625 30.609375 34.515625 \nL 43.21875 34.515625 \nL 43.21875 35.40625 \nQ 43.21875 41.609375 39.140625 45 \nQ 35.0625 48.390625 27.6875 48.390625 \nQ 23 48.390625 18.546875 47.265625 \nQ 14.109375 46.140625 10.015625 43.890625 \nL 10.015625 52.203125 \nQ 14.9375 54.109375 19.578125 55.046875 \nQ 24.21875 56 28.609375 56 \nQ 40.484375 56 46.34375 49.84375 \nQ 52.203125 43.703125 52.203125 31.203125 \nz\n\" id=\"DejaVuSans-97\"/>\n     <path d=\"M 41.109375 46.296875 \nQ 39.59375 47.171875 37.8125 47.578125 \nQ 36.03125 48 33.890625 48 \nQ 26.265625 48 22.1875 43.046875 \nQ 18.109375 38.09375 18.109375 28.8125 \nL 18.109375 0 \nL 9.078125 0 \nL 9.078125 54.6875 \nL 18.109375 54.6875 \nL 18.109375 46.1875 \nQ 20.953125 51.171875 25.484375 53.578125 \nQ 30.03125 56 36.53125 56 \nQ 37.453125 56 38.578125 55.875 \nQ 39.703125 55.765625 41.0625 55.515625 \nz\n\" id=\"DejaVuSans-114\"/>\n     <path d=\"M 18.3125 70.21875 \nL 18.3125 54.6875 \nL 36.8125 54.6875 \nL 36.8125 47.703125 \nL 18.3125 47.703125 \nL 18.3125 18.015625 \nQ 18.3125 11.328125 20.140625 9.421875 \nQ 21.96875 7.515625 27.59375 7.515625 \nL 36.8125 7.515625 \nL 36.8125 0 \nL 27.59375 0 \nQ 17.1875 0 13.234375 3.875 \nQ 9.28125 7.765625 9.28125 18.015625 \nL 9.28125 47.703125 \nL 2.6875 47.703125 \nL 2.6875 54.6875 \nL 9.28125 54.6875 \nL 9.28125 70.21875 \nz\n\" id=\"DejaVuSans-116\"/>\n     <path d=\"M 9.421875 54.6875 \nL 18.40625 54.6875 \nL 18.40625 0 \nL 9.421875 0 \nz\nM 9.421875 75.984375 \nL 18.40625 75.984375 \nL 18.40625 64.59375 \nL 9.421875 64.59375 \nz\n\" id=\"DejaVuSans-105\"/>\n     <path d=\"M 9.421875 75.984375 \nL 18.40625 75.984375 \nL 18.40625 0 \nL 9.421875 0 \nz\n\" id=\"DejaVuSans-108\"/>\n     <path id=\"DejaVuSans-32\"/>\n     <path d=\"M 34.1875 63.1875 \nL 20.796875 26.90625 \nL 47.609375 26.90625 \nz\nM 28.609375 72.90625 \nL 39.796875 72.90625 \nL 67.578125 0 \nL 57.328125 0 \nL 50.6875 18.703125 \nL 17.828125 18.703125 \nL 11.1875 0 \nL 0.78125 0 \nz\n\" id=\"DejaVuSans-65\"/>\n     <path d=\"M 8.5 21.578125 \nL 8.5 54.6875 \nL 17.484375 54.6875 \nL 17.484375 21.921875 \nQ 17.484375 14.15625 20.5 10.265625 \nQ 23.53125 6.390625 29.59375 6.390625 \nQ 36.859375 6.390625 41.078125 11.03125 \nQ 45.3125 15.671875 45.3125 23.6875 \nL 45.3125 54.6875 \nL 54.296875 54.6875 \nL 54.296875 0 \nL 45.3125 0 \nL 45.3125 8.40625 \nQ 42.046875 3.421875 37.71875 1 \nQ 33.40625 -1.421875 27.6875 -1.421875 \nQ 18.265625 -1.421875 13.375 4.4375 \nQ 8.5 10.296875 8.5 21.578125 \nz\nM 31.109375 56 \nz\n\" id=\"DejaVuSans-117\"/>\n     <path d=\"M 30.609375 48.390625 \nQ 23.390625 48.390625 19.1875 42.75 \nQ 14.984375 37.109375 14.984375 27.296875 \nQ 14.984375 17.484375 19.15625 11.84375 \nQ 23.34375 6.203125 30.609375 6.203125 \nQ 37.796875 6.203125 41.984375 11.859375 \nQ 46.1875 17.53125 46.1875 27.296875 \nQ 46.1875 37.015625 41.984375 42.703125 \nQ 37.796875 48.390625 30.609375 48.390625 \nz\nM 30.609375 56 \nQ 42.328125 56 49.015625 48.375 \nQ 55.71875 40.765625 55.71875 27.296875 \nQ 55.71875 13.875 49.015625 6.21875 \nQ 42.328125 -1.421875 30.609375 -1.421875 \nQ 18.84375 -1.421875 12.171875 6.21875 \nQ 5.515625 13.875 5.515625 27.296875 \nQ 5.515625 40.765625 12.171875 48.375 \nQ 18.84375 56 30.609375 56 \nz\n\" id=\"DejaVuSans-111\"/>\n     <path d=\"M 48.78125 52.59375 \nL 48.78125 44.1875 \nQ 44.96875 46.296875 41.140625 47.34375 \nQ 37.3125 48.390625 33.40625 48.390625 \nQ 24.65625 48.390625 19.8125 42.84375 \nQ 14.984375 37.3125 14.984375 27.296875 \nQ 14.984375 17.28125 19.8125 11.734375 \nQ 24.65625 6.203125 33.40625 6.203125 \nQ 37.3125 6.203125 41.140625 7.25 \nQ 44.96875 8.296875 48.78125 10.40625 \nL 48.78125 2.09375 \nQ 45.015625 0.34375 40.984375 -0.53125 \nQ 36.96875 -1.421875 32.421875 -1.421875 \nQ 20.0625 -1.421875 12.78125 6.34375 \nQ 5.515625 14.109375 5.515625 27.296875 \nQ 5.515625 40.671875 12.859375 48.328125 \nQ 20.21875 56 33.015625 56 \nQ 37.15625 56 41.109375 55.140625 \nQ 45.0625 54.296875 48.78125 52.59375 \nz\n\" id=\"DejaVuSans-99\"/>\n     <path d=\"M 56.203125 29.59375 \nL 56.203125 25.203125 \nL 14.890625 25.203125 \nQ 15.484375 15.921875 20.484375 11.0625 \nQ 25.484375 6.203125 34.421875 6.203125 \nQ 39.59375 6.203125 44.453125 7.46875 \nQ 49.3125 8.734375 54.109375 11.28125 \nL 54.109375 2.78125 \nQ 49.265625 0.734375 44.1875 -0.34375 \nQ 39.109375 -1.421875 33.890625 -1.421875 \nQ 20.796875 -1.421875 13.15625 6.1875 \nQ 5.515625 13.8125 5.515625 26.8125 \nQ 5.515625 40.234375 12.765625 48.109375 \nQ 20.015625 56 32.328125 56 \nQ 43.359375 56 49.78125 48.890625 \nQ 56.203125 41.796875 56.203125 29.59375 \nz\nM 47.21875 32.234375 \nQ 47.125 39.59375 43.09375 43.984375 \nQ 39.0625 48.390625 32.421875 48.390625 \nQ 24.90625 48.390625 20.390625 44.140625 \nQ 15.875 39.890625 15.1875 32.171875 \nz\n\" id=\"DejaVuSans-101\"/>\n     <path d=\"M 54.890625 33.015625 \nL 54.890625 0 \nL 45.90625 0 \nL 45.90625 32.71875 \nQ 45.90625 40.484375 42.875 44.328125 \nQ 39.84375 48.1875 33.796875 48.1875 \nQ 26.515625 48.1875 22.3125 43.546875 \nQ 18.109375 38.921875 18.109375 30.90625 \nL 18.109375 0 \nL 9.078125 0 \nL 9.078125 54.6875 \nL 18.109375 54.6875 \nL 18.109375 46.1875 \nQ 21.34375 51.125 25.703125 53.5625 \nQ 30.078125 56 35.796875 56 \nQ 45.21875 56 50.046875 50.171875 \nQ 54.890625 44.34375 54.890625 33.015625 \nz\n\" id=\"DejaVuSans-110\"/>\n    </defs>\n    <g transform=\"translate(145.362188 16.318125)scale(0.12 -0.12)\">\n     <use xlink:href=\"#DejaVuSans-80\"/>\n     <use x=\"55.802734\" xlink:href=\"#DejaVuSans-97\"/>\n     <use x=\"117.082031\" xlink:href=\"#DejaVuSans-114\"/>\n     <use x=\"158.195312\" xlink:href=\"#DejaVuSans-116\"/>\n     <use x=\"197.404297\" xlink:href=\"#DejaVuSans-105\"/>\n     <use x=\"225.1875\" xlink:href=\"#DejaVuSans-97\"/>\n     <use x=\"286.466797\" xlink:href=\"#DejaVuSans-108\"/>\n     <use x=\"314.25\" xlink:href=\"#DejaVuSans-32\"/>\n     <use x=\"346.037109\" xlink:href=\"#DejaVuSans-65\"/>\n     <use x=\"414.445312\" xlink:href=\"#DejaVuSans-117\"/>\n     <use x=\"477.824219\" xlink:href=\"#DejaVuSans-116\"/>\n     <use x=\"517.033203\" xlink:href=\"#DejaVuSans-111\"/>\n     <use x=\"578.214844\" xlink:href=\"#DejaVuSans-99\"/>\n     <use x=\"633.195312\" xlink:href=\"#DejaVuSans-111\"/>\n     <use x=\"694.376953\" xlink:href=\"#DejaVuSans-114\"/>\n     <use x=\"733.740234\" xlink:href=\"#DejaVuSans-114\"/>\n     <use x=\"772.603516\" xlink:href=\"#DejaVuSans-101\"/>\n     <use x=\"834.126953\" xlink:href=\"#DejaVuSans-108\"/>\n     <use x=\"861.910156\" xlink:href=\"#DejaVuSans-97\"/>\n     <use x=\"923.189453\" xlink:href=\"#DejaVuSans-116\"/>\n     <use x=\"962.398438\" xlink:href=\"#DejaVuSans-105\"/>\n     <use x=\"990.181641\" xlink:href=\"#DejaVuSans-111\"/>\n     <use x=\"1051.363281\" xlink:href=\"#DejaVuSans-110\"/>\n    </g>\n   </g>\n  </g>\n </g>\n <defs>\n  <clipPath id=\"p057778d205\">\n   <rect height=\"217.44\" width=\"334.8\" x=\"44.845313\" y=\"22.318125\"/>\n  </clipPath>\n </defs>\n</svg>\n",
      "image/png": "[encoded data removed]"
     },
     "metadata": {
      "needs_background": "light"
     }
    }
   ],
   "source": [
    "c = combined_df.corr()\n",
    "# ax = sns.heatmap(flights.corr(), annot=True) \n",
    "from statsmodels.graphics.tsaplots import plot_acf, plot_pacf\n",
    "combined_df['pct'] = combined_df['close'].pct_change()\n",
    "# combined_df\n",
    "plot_pacf(combined_df['pct'], lags=10, zero=False);\n",
    "# combined_df['pct'].plot()"
   ]
  },
  {
   "cell_type": "code",
   "execution_count": 18,
   "metadata": {},
   "outputs": [],
   "source": [
    "import seaborn as sns "
   ]
  },
  {
   "cell_type": "code",
   "execution_count": 19,
   "metadata": {},
   "outputs": [
    {
     "output_type": "display_data",
     "data": {
      "text/plain": "<Figure size 432x288 with 2 Axes>",
      "image/svg+xml": "<?xml version=\"1.0\" encoding=\"utf-8\" standalone=\"no\"?>\n<!DOCTYPE svg PUBLIC \"-//W3C//DTD SVG 1.1//EN\"\n  \"http://www.w3.org/Graphics/SVG/1.1/DTD/svg11.dtd\">\n<!-- Created with matplotlib (https://matplotlib.org/) -->\n<svg height=\"252.317344pt\" version=\"1.1\" viewBox=\"0 0 349.43325 252.317344\" width=\"349.43325pt\" xmlns=\"http://www.w3.org/2000/svg\" xmlns:xlink=\"http://www.w3.org/1999/xlink\">\n <defs>\n  <style type=\"text/css\">\n*{stroke-linecap:butt;stroke-linejoin:round;}\n  </style>\n </defs>\n <g id=\"figure_1\">\n  <g id=\"patch_1\">\n   <path d=\"M 0 252.317344 \nL 349.43325 252.317344 \nL 349.43325 0 \nL 0 0 \nz\n\" style=\"fill:none;\"/>\n  </g>\n  <g id=\"axes_1\">\n   <g id=\"patch_2\">\n    <path d=\"M 23.878125 228.439219 \nL 291.718125 228.439219 \nL 291.718125 10.999219 \nL 23.878125 10.999219 \nz\n\" style=\"fill:#ffffff;\"/>\n   </g>\n   <g id=\"QuadMesh_1\">\n    <path clip-path=\"url(#p97f3901fb0)\" d=\"M 23.878125 10.999219 \nL 113.158125 10.999219 \nL 113.158125 83.479219 \nL 23.878125 83.479219 \nL 23.878125 10.999219 \n\" style=\"fill:#faebdd;\"/>\n    <path clip-path=\"url(#p97f3901fb0)\" d=\"M 113.158125 10.999219 \nL 202.438125 10.999219 \nL 202.438125 83.479219 \nL 113.158125 83.479219 \nL 113.158125 10.999219 \n\" style=\"fill:#f6b089;\"/>\n    <path clip-path=\"url(#p97f3901fb0)\" d=\"M 202.438125 10.999219 \nL 291.718125 10.999219 \nL 291.718125 83.479219 \nL 202.438125 83.479219 \nL 202.438125 10.999219 \n\" style=\"fill:#04051a;\"/>\n    <path clip-path=\"url(#p97f3901fb0)\" d=\"M 23.878125 83.479219 \nL 113.158125 83.479219 \nL 113.158125 155.959219 \nL 23.878125 155.959219 \nL 23.878125 83.479219 \n\" style=\"fill:#f6b089;\"/>\n    <path clip-path=\"url(#p97f3901fb0)\" d=\"M 113.158125 83.479219 \nL 202.438125 83.479219 \nL 202.438125 155.959219 \nL 113.158125 155.959219 \nL 113.158125 83.479219 \n\" style=\"fill:#faebdd;\"/>\n    <path clip-path=\"url(#p97f3901fb0)\" d=\"M 202.438125 83.479219 \nL 291.718125 83.479219 \nL 291.718125 155.959219 \nL 202.438125 155.959219 \nL 202.438125 83.479219 \n\" style=\"fill:#03051a;\"/>\n    <path clip-path=\"url(#p97f3901fb0)\" d=\"M 23.878125 155.959219 \nL 113.158125 155.959219 \nL 113.158125 228.439219 \nL 23.878125 228.439219 \nL 23.878125 155.959219 \n\" style=\"fill:#04051a;\"/>\n    <path clip-path=\"url(#p97f3901fb0)\" d=\"M 113.158125 155.959219 \nL 202.438125 155.959219 \nL 202.438125 228.439219 \nL 113.158125 228.439219 \nL 113.158125 155.959219 \n\" style=\"fill:#03051a;\"/>\n    <path clip-path=\"url(#p97f3901fb0)\" d=\"M 202.438125 155.959219 \nL 291.718125 155.959219 \nL 291.718125 228.439219 \nL 202.438125 228.439219 \nL 202.438125 155.959219 \n\" style=\"fill:#faebdd;\"/>\n   </g>\n   <g id=\"matplotlib.axis_1\">\n    <g id=\"xtick_1\">\n     <g id=\"line2d_1\">\n      <defs>\n       <path d=\"M 0 0 \nL 0 3.5 \n\" id=\"m4b36e64752\" style=\"stroke:#000000;stroke-width:0.8;\"/>\n      </defs>\n      <g>\n       <use style=\"stroke:#000000;stroke-width:0.8;\" x=\"68.518125\" xlink:href=\"#m4b36e64752\" y=\"228.439219\"/>\n      </g>\n     </g>\n     <g id=\"text_1\">\n      <!-- positive -->\n      <defs>\n       <path d=\"M 18.109375 8.203125 \nL 18.109375 -20.796875 \nL 9.078125 -20.796875 \nL 9.078125 54.6875 \nL 18.109375 54.6875 \nL 18.109375 46.390625 \nQ 20.953125 51.265625 25.265625 53.625 \nQ 29.59375 56 35.59375 56 \nQ 45.5625 56 51.78125 48.09375 \nQ 58.015625 40.1875 58.015625 27.296875 \nQ 58.015625 14.40625 51.78125 6.484375 \nQ 45.5625 -1.421875 35.59375 -1.421875 \nQ 29.59375 -1.421875 25.265625 0.953125 \nQ 20.953125 3.328125 18.109375 8.203125 \nz\nM 48.6875 27.296875 \nQ 48.6875 37.203125 44.609375 42.84375 \nQ 40.53125 48.484375 33.40625 48.484375 \nQ 26.265625 48.484375 22.1875 42.84375 \nQ 18.109375 37.203125 18.109375 27.296875 \nQ 18.109375 17.390625 22.1875 11.75 \nQ 26.265625 6.109375 33.40625 6.109375 \nQ 40.53125 6.109375 44.609375 11.75 \nQ 48.6875 17.390625 48.6875 27.296875 \nz\n\" id=\"DejaVuSans-112\"/>\n       <path d=\"M 30.609375 48.390625 \nQ 23.390625 48.390625 19.1875 42.75 \nQ 14.984375 37.109375 14.984375 27.296875 \nQ 14.984375 17.484375 19.15625 11.84375 \nQ 23.34375 6.203125 30.609375 6.203125 \nQ 37.796875 6.203125 41.984375 11.859375 \nQ 46.1875 17.53125 46.1875 27.296875 \nQ 46.1875 37.015625 41.984375 42.703125 \nQ 37.796875 48.390625 30.609375 48.390625 \nz\nM 30.609375 56 \nQ 42.328125 56 49.015625 48.375 \nQ 55.71875 40.765625 55.71875 27.296875 \nQ 55.71875 13.875 49.015625 6.21875 \nQ 42.328125 -1.421875 30.609375 -1.421875 \nQ 18.84375 -1.421875 12.171875 6.21875 \nQ 5.515625 13.875 5.515625 27.296875 \nQ 5.515625 40.765625 12.171875 48.375 \nQ 18.84375 56 30.609375 56 \nz\n\" id=\"DejaVuSans-111\"/>\n       <path d=\"M 44.28125 53.078125 \nL 44.28125 44.578125 \nQ 40.484375 46.53125 36.375 47.5 \nQ 32.28125 48.484375 27.875 48.484375 \nQ 21.1875 48.484375 17.84375 46.4375 \nQ 14.5 44.390625 14.5 40.28125 \nQ 14.5 37.15625 16.890625 35.375 \nQ 19.28125 33.59375 26.515625 31.984375 \nL 29.59375 31.296875 \nQ 39.15625 29.25 43.1875 25.515625 \nQ 47.21875 21.78125 47.21875 15.09375 \nQ 47.21875 7.46875 41.1875 3.015625 \nQ 35.15625 -1.421875 24.609375 -1.421875 \nQ 20.21875 -1.421875 15.453125 -0.5625 \nQ 10.6875 0.296875 5.421875 2 \nL 5.421875 11.28125 \nQ 10.40625 8.6875 15.234375 7.390625 \nQ 20.0625 6.109375 24.8125 6.109375 \nQ 31.15625 6.109375 34.5625 8.28125 \nQ 37.984375 10.453125 37.984375 14.40625 \nQ 37.984375 18.0625 35.515625 20.015625 \nQ 33.0625 21.96875 24.703125 23.78125 \nL 21.578125 24.515625 \nQ 13.234375 26.265625 9.515625 29.90625 \nQ 5.8125 33.546875 5.8125 39.890625 \nQ 5.8125 47.609375 11.28125 51.796875 \nQ 16.75 56 26.8125 56 \nQ 31.78125 56 36.171875 55.265625 \nQ 40.578125 54.546875 44.28125 53.078125 \nz\n\" id=\"DejaVuSans-115\"/>\n       <path d=\"M 9.421875 54.6875 \nL 18.40625 54.6875 \nL 18.40625 0 \nL 9.421875 0 \nz\nM 9.421875 75.984375 \nL 18.40625 75.984375 \nL 18.40625 64.59375 \nL 9.421875 64.59375 \nz\n\" id=\"DejaVuSans-105\"/>\n       <path d=\"M 18.3125 70.21875 \nL 18.3125 54.6875 \nL 36.8125 54.6875 \nL 36.8125 47.703125 \nL 18.3125 47.703125 \nL 18.3125 18.015625 \nQ 18.3125 11.328125 20.140625 9.421875 \nQ 21.96875 7.515625 27.59375 7.515625 \nL 36.8125 7.515625 \nL 36.8125 0 \nL 27.59375 0 \nQ 17.1875 0 13.234375 3.875 \nQ 9.28125 7.765625 9.28125 18.015625 \nL 9.28125 47.703125 \nL 2.6875 47.703125 \nL 2.6875 54.6875 \nL 9.28125 54.6875 \nL 9.28125 70.21875 \nz\n\" id=\"DejaVuSans-116\"/>\n       <path d=\"M 2.984375 54.6875 \nL 12.5 54.6875 \nL 29.59375 8.796875 \nL 46.6875 54.6875 \nL 56.203125 54.6875 \nL 35.6875 0 \nL 23.484375 0 \nz\n\" id=\"DejaVuSans-118\"/>\n       <path d=\"M 56.203125 29.59375 \nL 56.203125 25.203125 \nL 14.890625 25.203125 \nQ 15.484375 15.921875 20.484375 11.0625 \nQ 25.484375 6.203125 34.421875 6.203125 \nQ 39.59375 6.203125 44.453125 7.46875 \nQ 49.3125 8.734375 54.109375 11.28125 \nL 54.109375 2.78125 \nQ 49.265625 0.734375 44.1875 -0.34375 \nQ 39.109375 -1.421875 33.890625 -1.421875 \nQ 20.796875 -1.421875 13.15625 6.1875 \nQ 5.515625 13.8125 5.515625 26.8125 \nQ 5.515625 40.234375 12.765625 48.109375 \nQ 20.015625 56 32.328125 56 \nQ 43.359375 56 49.78125 48.890625 \nQ 56.203125 41.796875 56.203125 29.59375 \nz\nM 47.21875 32.234375 \nQ 47.125 39.59375 43.09375 43.984375 \nQ 39.0625 48.390625 32.421875 48.390625 \nQ 24.90625 48.390625 20.390625 44.140625 \nQ 15.875 39.890625 15.1875 32.171875 \nz\n\" id=\"DejaVuSans-101\"/>\n      </defs>\n      <g transform=\"translate(48.905625 243.037656)scale(0.1 -0.1)\">\n       <use xlink:href=\"#DejaVuSans-112\"/>\n       <use x=\"63.476562\" xlink:href=\"#DejaVuSans-111\"/>\n       <use x=\"124.658203\" xlink:href=\"#DejaVuSans-115\"/>\n       <use x=\"176.757812\" xlink:href=\"#DejaVuSans-105\"/>\n       <use x=\"204.541016\" xlink:href=\"#DejaVuSans-116\"/>\n       <use x=\"243.75\" xlink:href=\"#DejaVuSans-105\"/>\n       <use x=\"271.533203\" xlink:href=\"#DejaVuSans-118\"/>\n       <use x=\"330.712891\" xlink:href=\"#DejaVuSans-101\"/>\n      </g>\n     </g>\n    </g>\n    <g id=\"xtick_2\">\n     <g id=\"line2d_2\">\n      <g>\n       <use style=\"stroke:#000000;stroke-width:0.8;\" x=\"157.798125\" xlink:href=\"#m4b36e64752\" y=\"228.439219\"/>\n      </g>\n     </g>\n     <g id=\"text_2\">\n      <!-- negative -->\n      <defs>\n       <path d=\"M 54.890625 33.015625 \nL 54.890625 0 \nL 45.90625 0 \nL 45.90625 32.71875 \nQ 45.90625 40.484375 42.875 44.328125 \nQ 39.84375 48.1875 33.796875 48.1875 \nQ 26.515625 48.1875 22.3125 43.546875 \nQ 18.109375 38.921875 18.109375 30.90625 \nL 18.109375 0 \nL 9.078125 0 \nL 9.078125 54.6875 \nL 18.109375 54.6875 \nL 18.109375 46.1875 \nQ 21.34375 51.125 25.703125 53.5625 \nQ 30.078125 56 35.796875 56 \nQ 45.21875 56 50.046875 50.171875 \nQ 54.890625 44.34375 54.890625 33.015625 \nz\n\" id=\"DejaVuSans-110\"/>\n       <path d=\"M 45.40625 27.984375 \nQ 45.40625 37.75 41.375 43.109375 \nQ 37.359375 48.484375 30.078125 48.484375 \nQ 22.859375 48.484375 18.828125 43.109375 \nQ 14.796875 37.75 14.796875 27.984375 \nQ 14.796875 18.265625 18.828125 12.890625 \nQ 22.859375 7.515625 30.078125 7.515625 \nQ 37.359375 7.515625 41.375 12.890625 \nQ 45.40625 18.265625 45.40625 27.984375 \nz\nM 54.390625 6.78125 \nQ 54.390625 -7.171875 48.1875 -13.984375 \nQ 42 -20.796875 29.203125 -20.796875 \nQ 24.46875 -20.796875 20.265625 -20.09375 \nQ 16.0625 -19.390625 12.109375 -17.921875 \nL 12.109375 -9.1875 \nQ 16.0625 -11.328125 19.921875 -12.34375 \nQ 23.78125 -13.375 27.78125 -13.375 \nQ 36.625 -13.375 41.015625 -8.765625 \nQ 45.40625 -4.15625 45.40625 5.171875 \nL 45.40625 9.625 \nQ 42.625 4.78125 38.28125 2.390625 \nQ 33.9375 0 27.875 0 \nQ 17.828125 0 11.671875 7.65625 \nQ 5.515625 15.328125 5.515625 27.984375 \nQ 5.515625 40.671875 11.671875 48.328125 \nQ 17.828125 56 27.875 56 \nQ 33.9375 56 38.28125 53.609375 \nQ 42.625 51.21875 45.40625 46.390625 \nL 45.40625 54.6875 \nL 54.390625 54.6875 \nz\n\" id=\"DejaVuSans-103\"/>\n       <path d=\"M 34.28125 27.484375 \nQ 23.390625 27.484375 19.1875 25 \nQ 14.984375 22.515625 14.984375 16.5 \nQ 14.984375 11.71875 18.140625 8.90625 \nQ 21.296875 6.109375 26.703125 6.109375 \nQ 34.1875 6.109375 38.703125 11.40625 \nQ 43.21875 16.703125 43.21875 25.484375 \nL 43.21875 27.484375 \nz\nM 52.203125 31.203125 \nL 52.203125 0 \nL 43.21875 0 \nL 43.21875 8.296875 \nQ 40.140625 3.328125 35.546875 0.953125 \nQ 30.953125 -1.421875 24.3125 -1.421875 \nQ 15.921875 -1.421875 10.953125 3.296875 \nQ 6 8.015625 6 15.921875 \nQ 6 25.140625 12.171875 29.828125 \nQ 18.359375 34.515625 30.609375 34.515625 \nL 43.21875 34.515625 \nL 43.21875 35.40625 \nQ 43.21875 41.609375 39.140625 45 \nQ 35.0625 48.390625 27.6875 48.390625 \nQ 23 48.390625 18.546875 47.265625 \nQ 14.109375 46.140625 10.015625 43.890625 \nL 10.015625 52.203125 \nQ 14.9375 54.109375 19.578125 55.046875 \nQ 24.21875 56 28.609375 56 \nQ 40.484375 56 46.34375 49.84375 \nQ 52.203125 43.703125 52.203125 31.203125 \nz\n\" id=\"DejaVuSans-97\"/>\n      </defs>\n      <g transform=\"translate(135.929375 243.037656)scale(0.1 -0.1)\">\n       <use xlink:href=\"#DejaVuSans-110\"/>\n       <use x=\"63.378906\" xlink:href=\"#DejaVuSans-101\"/>\n       <use x=\"124.902344\" xlink:href=\"#DejaVuSans-103\"/>\n       <use x=\"188.378906\" xlink:href=\"#DejaVuSans-97\"/>\n       <use x=\"249.658203\" xlink:href=\"#DejaVuSans-116\"/>\n       <use x=\"288.867188\" xlink:href=\"#DejaVuSans-105\"/>\n       <use x=\"316.650391\" xlink:href=\"#DejaVuSans-118\"/>\n       <use x=\"375.830078\" xlink:href=\"#DejaVuSans-101\"/>\n      </g>\n     </g>\n    </g>\n    <g id=\"xtick_3\">\n     <g id=\"line2d_3\">\n      <g>\n       <use style=\"stroke:#000000;stroke-width:0.8;\" x=\"247.078125\" xlink:href=\"#m4b36e64752\" y=\"228.439219\"/>\n      </g>\n     </g>\n     <g id=\"text_3\">\n      <!-- close -->\n      <defs>\n       <path d=\"M 48.78125 52.59375 \nL 48.78125 44.1875 \nQ 44.96875 46.296875 41.140625 47.34375 \nQ 37.3125 48.390625 33.40625 48.390625 \nQ 24.65625 48.390625 19.8125 42.84375 \nQ 14.984375 37.3125 14.984375 27.296875 \nQ 14.984375 17.28125 19.8125 11.734375 \nQ 24.65625 6.203125 33.40625 6.203125 \nQ 37.3125 6.203125 41.140625 7.25 \nQ 44.96875 8.296875 48.78125 10.40625 \nL 48.78125 2.09375 \nQ 45.015625 0.34375 40.984375 -0.53125 \nQ 36.96875 -1.421875 32.421875 -1.421875 \nQ 20.0625 -1.421875 12.78125 6.34375 \nQ 5.515625 14.109375 5.515625 27.296875 \nQ 5.515625 40.671875 12.859375 48.328125 \nQ 20.21875 56 33.015625 56 \nQ 37.15625 56 41.109375 55.140625 \nQ 45.0625 54.296875 48.78125 52.59375 \nz\n\" id=\"DejaVuSans-99\"/>\n       <path d=\"M 9.421875 75.984375 \nL 18.40625 75.984375 \nL 18.40625 0 \nL 9.421875 0 \nz\n\" id=\"DejaVuSans-108\"/>\n      </defs>\n      <g transform=\"translate(234.199219 243.037656)scale(0.1 -0.1)\">\n       <use xlink:href=\"#DejaVuSans-99\"/>\n       <use x=\"54.980469\" xlink:href=\"#DejaVuSans-108\"/>\n       <use x=\"82.763672\" xlink:href=\"#DejaVuSans-111\"/>\n       <use x=\"143.945312\" xlink:href=\"#DejaVuSans-115\"/>\n       <use x=\"196.044922\" xlink:href=\"#DejaVuSans-101\"/>\n      </g>\n     </g>\n    </g>\n   </g>\n   <g id=\"matplotlib.axis_2\">\n    <g id=\"ytick_1\">\n     <g id=\"line2d_4\">\n      <defs>\n       <path d=\"M 0 0 \nL -3.5 0 \n\" id=\"m8521794f3f\" style=\"stroke:#000000;stroke-width:0.8;\"/>\n      </defs>\n      <g>\n       <use style=\"stroke:#000000;stroke-width:0.8;\" x=\"23.878125\" xlink:href=\"#m8521794f3f\" y=\"47.239219\"/>\n      </g>\n     </g>\n     <g id=\"text_4\">\n      <!-- positive -->\n      <g transform=\"translate(14.798438 82.665)rotate(-90)scale(0.1 -0.1)\">\n       <use xlink:href=\"#DejaVuSans-112\"/>\n       <use x=\"63.476562\" xlink:href=\"#DejaVuSans-111\"/>\n       <use x=\"124.658203\" xlink:href=\"#DejaVuSans-115\"/>\n       <use x=\"176.757812\" xlink:href=\"#DejaVuSans-105\"/>\n       <use x=\"204.541016\" xlink:href=\"#DejaVuSans-116\"/>\n       <use x=\"243.75\" xlink:href=\"#DejaVuSans-105\"/>\n       <use x=\"271.533203\" xlink:href=\"#DejaVuSans-118\"/>\n       <use x=\"330.712891\" xlink:href=\"#DejaVuSans-101\"/>\n      </g>\n     </g>\n    </g>\n    <g id=\"ytick_2\">\n     <g id=\"line2d_5\">\n      <g>\n       <use style=\"stroke:#000000;stroke-width:0.8;\" x=\"23.878125\" xlink:href=\"#m8521794f3f\" y=\"119.719219\"/>\n      </g>\n     </g>\n     <g id=\"text_5\">\n      <!-- negative -->\n      <g transform=\"translate(14.798438 159.6575)rotate(-90)scale(0.1 -0.1)\">\n       <use xlink:href=\"#DejaVuSans-110\"/>\n       <use x=\"63.378906\" xlink:href=\"#DejaVuSans-101\"/>\n       <use x=\"124.902344\" xlink:href=\"#DejaVuSans-103\"/>\n       <use x=\"188.378906\" xlink:href=\"#DejaVuSans-97\"/>\n       <use x=\"249.658203\" xlink:href=\"#DejaVuSans-116\"/>\n       <use x=\"288.867188\" xlink:href=\"#DejaVuSans-105\"/>\n       <use x=\"316.650391\" xlink:href=\"#DejaVuSans-118\"/>\n       <use x=\"375.830078\" xlink:href=\"#DejaVuSans-101\"/>\n      </g>\n     </g>\n    </g>\n    <g id=\"ytick_3\">\n     <g id=\"line2d_6\">\n      <g>\n       <use style=\"stroke:#000000;stroke-width:0.8;\" x=\"23.878125\" xlink:href=\"#m8521794f3f\" y=\"192.199219\"/>\n      </g>\n     </g>\n     <g id=\"text_6\">\n      <!-- close -->\n      <g transform=\"translate(14.798438 214.157812)rotate(-90)scale(0.1 -0.1)\">\n       <use xlink:href=\"#DejaVuSans-99\"/>\n       <use x=\"54.980469\" xlink:href=\"#DejaVuSans-108\"/>\n       <use x=\"82.763672\" xlink:href=\"#DejaVuSans-111\"/>\n       <use x=\"143.945312\" xlink:href=\"#DejaVuSans-115\"/>\n       <use x=\"196.044922\" xlink:href=\"#DejaVuSans-101\"/>\n      </g>\n     </g>\n    </g>\n   </g>\n   <g id=\"text_7\">\n    <!-- 1 -->\n    <defs>\n     <path d=\"M 12.40625 8.296875 \nL 28.515625 8.296875 \nL 28.515625 63.921875 \nL 10.984375 60.40625 \nL 10.984375 69.390625 \nL 28.421875 72.90625 \nL 38.28125 72.90625 \nL 38.28125 8.296875 \nL 54.390625 8.296875 \nL 54.390625 0 \nL 12.40625 0 \nz\n\" id=\"DejaVuSans-49\"/>\n    </defs>\n    <g style=\"fill:#262626;\" transform=\"translate(65.336875 49.998594)scale(0.1 -0.1)\">\n     <use xlink:href=\"#DejaVuSans-49\"/>\n    </g>\n   </g>\n   <g id=\"text_8\">\n    <!-- 0.85 -->\n    <defs>\n     <path d=\"M 31.78125 66.40625 \nQ 24.171875 66.40625 20.328125 58.90625 \nQ 16.5 51.421875 16.5 36.375 \nQ 16.5 21.390625 20.328125 13.890625 \nQ 24.171875 6.390625 31.78125 6.390625 \nQ 39.453125 6.390625 43.28125 13.890625 \nQ 47.125 21.390625 47.125 36.375 \nQ 47.125 51.421875 43.28125 58.90625 \nQ 39.453125 66.40625 31.78125 66.40625 \nz\nM 31.78125 74.21875 \nQ 44.046875 74.21875 50.515625 64.515625 \nQ 56.984375 54.828125 56.984375 36.375 \nQ 56.984375 17.96875 50.515625 8.265625 \nQ 44.046875 -1.421875 31.78125 -1.421875 \nQ 19.53125 -1.421875 13.0625 8.265625 \nQ 6.59375 17.96875 6.59375 36.375 \nQ 6.59375 54.828125 13.0625 64.515625 \nQ 19.53125 74.21875 31.78125 74.21875 \nz\n\" id=\"DejaVuSans-48\"/>\n     <path d=\"M 10.6875 12.40625 \nL 21 12.40625 \nL 21 0 \nL 10.6875 0 \nz\n\" id=\"DejaVuSans-46\"/>\n     <path d=\"M 31.78125 34.625 \nQ 24.75 34.625 20.71875 30.859375 \nQ 16.703125 27.09375 16.703125 20.515625 \nQ 16.703125 13.921875 20.71875 10.15625 \nQ 24.75 6.390625 31.78125 6.390625 \nQ 38.8125 6.390625 42.859375 10.171875 \nQ 46.921875 13.96875 46.921875 20.515625 \nQ 46.921875 27.09375 42.890625 30.859375 \nQ 38.875 34.625 31.78125 34.625 \nz\nM 21.921875 38.8125 \nQ 15.578125 40.375 12.03125 44.71875 \nQ 8.5 49.078125 8.5 55.328125 \nQ 8.5 64.0625 14.71875 69.140625 \nQ 20.953125 74.21875 31.78125 74.21875 \nQ 42.671875 74.21875 48.875 69.140625 \nQ 55.078125 64.0625 55.078125 55.328125 \nQ 55.078125 49.078125 51.53125 44.71875 \nQ 48 40.375 41.703125 38.8125 \nQ 48.828125 37.15625 52.796875 32.3125 \nQ 56.78125 27.484375 56.78125 20.515625 \nQ 56.78125 9.90625 50.3125 4.234375 \nQ 43.84375 -1.421875 31.78125 -1.421875 \nQ 19.734375 -1.421875 13.25 4.234375 \nQ 6.78125 9.90625 6.78125 20.515625 \nQ 6.78125 27.484375 10.78125 32.3125 \nQ 14.796875 37.15625 21.921875 38.8125 \nz\nM 18.3125 54.390625 \nQ 18.3125 48.734375 21.84375 45.5625 \nQ 25.390625 42.390625 31.78125 42.390625 \nQ 38.140625 42.390625 41.71875 45.5625 \nQ 45.3125 48.734375 45.3125 54.390625 \nQ 45.3125 60.0625 41.71875 63.234375 \nQ 38.140625 66.40625 31.78125 66.40625 \nQ 25.390625 66.40625 21.84375 63.234375 \nQ 18.3125 60.0625 18.3125 54.390625 \nz\n\" id=\"DejaVuSans-56\"/>\n     <path d=\"M 10.796875 72.90625 \nL 49.515625 72.90625 \nL 49.515625 64.59375 \nL 19.828125 64.59375 \nL 19.828125 46.734375 \nQ 21.96875 47.46875 24.109375 47.828125 \nQ 26.265625 48.1875 28.421875 48.1875 \nQ 40.625 48.1875 47.75 41.5 \nQ 54.890625 34.8125 54.890625 23.390625 \nQ 54.890625 11.625 47.5625 5.09375 \nQ 40.234375 -1.421875 26.90625 -1.421875 \nQ 22.3125 -1.421875 17.546875 -0.640625 \nQ 12.796875 0.140625 7.71875 1.703125 \nL 7.71875 11.625 \nQ 12.109375 9.234375 16.796875 8.0625 \nQ 21.484375 6.890625 26.703125 6.890625 \nQ 35.15625 6.890625 40.078125 11.328125 \nQ 45.015625 15.765625 45.015625 23.390625 \nQ 45.015625 31 40.078125 35.4375 \nQ 35.15625 39.890625 26.703125 39.890625 \nQ 22.75 39.890625 18.8125 39.015625 \nQ 14.890625 38.140625 10.796875 36.28125 \nz\n\" id=\"DejaVuSans-53\"/>\n    </defs>\n    <g style=\"fill:#262626;\" transform=\"translate(146.665313 49.998594)scale(0.1 -0.1)\">\n     <use xlink:href=\"#DejaVuSans-48\"/>\n     <use x=\"63.623047\" xlink:href=\"#DejaVuSans-46\"/>\n     <use x=\"95.410156\" xlink:href=\"#DejaVuSans-56\"/>\n     <use x=\"159.033203\" xlink:href=\"#DejaVuSans-53\"/>\n    </g>\n   </g>\n   <g id=\"text_9\">\n    <!-- 0.033 -->\n    <defs>\n     <path d=\"M 40.578125 39.3125 \nQ 47.65625 37.796875 51.625 33 \nQ 55.609375 28.21875 55.609375 21.1875 \nQ 55.609375 10.40625 48.1875 4.484375 \nQ 40.765625 -1.421875 27.09375 -1.421875 \nQ 22.515625 -1.421875 17.65625 -0.515625 \nQ 12.796875 0.390625 7.625 2.203125 \nL 7.625 11.71875 \nQ 11.71875 9.328125 16.59375 8.109375 \nQ 21.484375 6.890625 26.8125 6.890625 \nQ 36.078125 6.890625 40.9375 10.546875 \nQ 45.796875 14.203125 45.796875 21.1875 \nQ 45.796875 27.640625 41.28125 31.265625 \nQ 36.765625 34.90625 28.71875 34.90625 \nL 20.21875 34.90625 \nL 20.21875 43.015625 \nL 29.109375 43.015625 \nQ 36.375 43.015625 40.234375 45.921875 \nQ 44.09375 48.828125 44.09375 54.296875 \nQ 44.09375 59.90625 40.109375 62.90625 \nQ 36.140625 65.921875 28.71875 65.921875 \nQ 24.65625 65.921875 20.015625 65.03125 \nQ 15.375 64.15625 9.8125 62.3125 \nL 9.8125 71.09375 \nQ 15.4375 72.65625 20.34375 73.4375 \nQ 25.25 74.21875 29.59375 74.21875 \nQ 40.828125 74.21875 47.359375 69.109375 \nQ 53.90625 64.015625 53.90625 55.328125 \nQ 53.90625 49.265625 50.4375 45.09375 \nQ 46.96875 40.921875 40.578125 39.3125 \nz\n\" id=\"DejaVuSans-51\"/>\n    </defs>\n    <g style=\"fill:#ffffff;\" transform=\"translate(232.764062 49.998594)scale(0.1 -0.1)\">\n     <use xlink:href=\"#DejaVuSans-48\"/>\n     <use x=\"63.623047\" xlink:href=\"#DejaVuSans-46\"/>\n     <use x=\"95.410156\" xlink:href=\"#DejaVuSans-48\"/>\n     <use x=\"159.033203\" xlink:href=\"#DejaVuSans-51\"/>\n     <use x=\"222.65625\" xlink:href=\"#DejaVuSans-51\"/>\n    </g>\n   </g>\n   <g id=\"text_10\">\n    <!-- 0.85 -->\n    <g style=\"fill:#262626;\" transform=\"translate(57.385313 122.478594)scale(0.1 -0.1)\">\n     <use xlink:href=\"#DejaVuSans-48\"/>\n     <use x=\"63.623047\" xlink:href=\"#DejaVuSans-46\"/>\n     <use x=\"95.410156\" xlink:href=\"#DejaVuSans-56\"/>\n     <use x=\"159.033203\" xlink:href=\"#DejaVuSans-53\"/>\n    </g>\n   </g>\n   <g id=\"text_11\">\n    <!-- 1 -->\n    <g style=\"fill:#262626;\" transform=\"translate(154.616875 122.478594)scale(0.1 -0.1)\">\n     <use xlink:href=\"#DejaVuSans-49\"/>\n    </g>\n   </g>\n   <g id=\"text_12\">\n    <!-- 0.028 -->\n    <defs>\n     <path d=\"M 19.1875 8.296875 \nL 53.609375 8.296875 \nL 53.609375 0 \nL 7.328125 0 \nL 7.328125 8.296875 \nQ 12.9375 14.109375 22.625 23.890625 \nQ 32.328125 33.6875 34.8125 36.53125 \nQ 39.546875 41.84375 41.421875 45.53125 \nQ 43.3125 49.21875 43.3125 52.78125 \nQ 43.3125 58.59375 39.234375 62.25 \nQ 35.15625 65.921875 28.609375 65.921875 \nQ 23.96875 65.921875 18.8125 64.3125 \nQ 13.671875 62.703125 7.8125 59.421875 \nL 7.8125 69.390625 \nQ 13.765625 71.78125 18.9375 73 \nQ 24.125 74.21875 28.421875 74.21875 \nQ 39.75 74.21875 46.484375 68.546875 \nQ 53.21875 62.890625 53.21875 53.421875 \nQ 53.21875 48.921875 51.53125 44.890625 \nQ 49.859375 40.875 45.40625 35.40625 \nQ 44.1875 33.984375 37.640625 27.21875 \nQ 31.109375 20.453125 19.1875 8.296875 \nz\n\" id=\"DejaVuSans-50\"/>\n    </defs>\n    <g style=\"fill:#ffffff;\" transform=\"translate(232.764062 122.478594)scale(0.1 -0.1)\">\n     <use xlink:href=\"#DejaVuSans-48\"/>\n     <use x=\"63.623047\" xlink:href=\"#DejaVuSans-46\"/>\n     <use x=\"95.410156\" xlink:href=\"#DejaVuSans-48\"/>\n     <use x=\"159.033203\" xlink:href=\"#DejaVuSans-50\"/>\n     <use x=\"222.65625\" xlink:href=\"#DejaVuSans-56\"/>\n    </g>\n   </g>\n   <g id=\"text_13\">\n    <!-- 0.033 -->\n    <g style=\"fill:#ffffff;\" transform=\"translate(54.204063 194.958594)scale(0.1 -0.1)\">\n     <use xlink:href=\"#DejaVuSans-48\"/>\n     <use x=\"63.623047\" xlink:href=\"#DejaVuSans-46\"/>\n     <use x=\"95.410156\" xlink:href=\"#DejaVuSans-48\"/>\n     <use x=\"159.033203\" xlink:href=\"#DejaVuSans-51\"/>\n     <use x=\"222.65625\" xlink:href=\"#DejaVuSans-51\"/>\n    </g>\n   </g>\n   <g id=\"text_14\">\n    <!-- 0.028 -->\n    <g style=\"fill:#ffffff;\" transform=\"translate(143.484063 194.958594)scale(0.1 -0.1)\">\n     <use xlink:href=\"#DejaVuSans-48\"/>\n     <use x=\"63.623047\" xlink:href=\"#DejaVuSans-46\"/>\n     <use x=\"95.410156\" xlink:href=\"#DejaVuSans-48\"/>\n     <use x=\"159.033203\" xlink:href=\"#DejaVuSans-50\"/>\n     <use x=\"222.65625\" xlink:href=\"#DejaVuSans-56\"/>\n    </g>\n   </g>\n   <g id=\"text_15\">\n    <!-- 1 -->\n    <g style=\"fill:#262626;\" transform=\"translate(243.896875 194.958594)scale(0.1 -0.1)\">\n     <use xlink:href=\"#DejaVuSans-49\"/>\n    </g>\n   </g>\n  </g>\n  <g id=\"axes_2\">\n   <g id=\"patch_3\">\n    <path clip-path=\"url(#p0ee2e725ae)\" d=\"M 308.458125 228.439219 \nL 308.458125 227.589844 \nL 308.458125 11.848594 \nL 308.458125 10.999219 \nL 319.330125 10.999219 \nL 319.330125 11.848594 \nL 319.330125 227.589844 \nL 319.330125 228.439219 \nz\n\" style=\"fill:#ffffff;stroke:#ffffff;stroke-linejoin:miter;stroke-width:0.01;\"/>\n   </g>\n   <image height=\"217\" id=\"image8cd4a91351\" transform=\"scale(1 -1)translate(0 -217)\" width=\"11\" x=\"308\" xlink:href=\"data:image/png;base64,\niVBORw0KGgoAAAANSUhEUgAAAAsAAADZCAYAAAD2WsoCAAAABHNCSVQICAgIfAhkiAAAAV9JREFUaIHVmtsNAzEIwHjdEt1/zl5XwB+WaL4RMoakuag5z+eN5ZrM3MbS4ADBXSVlLq3AIhgoM7LhYRzx3OnZODF1qECxKTcym+3WbGgYE2g29sucDa3dEGO/zJOfBI82SMyG125vW61D6fB76qANgCGq05iRjSPMCIPtbpKZFbj+PPhbGySY2PAw5gYGazdhHoRxxIaGMe8+tbgH6wYGspFhMcMCAUYzZhIMRIvqEpwF0yS4SDDCgJnXsTFdXymzWCA47BhzNbABmQEGUifaGG02ELOmrsBVhmGENxteMLj3kMceqo5lBjdzlhncCyYIhsfMMMDPJsxMnixQZhhM3us0G0GeDT0bSWxEt4SBmuJ5ztEKFNtNMqM9CD55VRukgx4GssHOOtRBSx3c3RqGVyDK3Gj4bzCzdqN51jZs3pg60QYp8MbwZz9SZnP4iWfSbvQviysFsnZrZ51V4A9keCojHT7iJgAAAABJRU5ErkJggg==\" y=\"-11\"/>\n   <g id=\"matplotlib.axis_3\"/>\n   <g id=\"matplotlib.axis_4\">\n    <g id=\"ytick_4\">\n     <g id=\"line2d_7\">\n      <defs>\n       <path d=\"M 0 0 \nL 3.5 0 \n\" id=\"mf34281aaa4\" style=\"stroke:#000000;stroke-width:0.8;\"/>\n      </defs>\n      <g>\n       <use style=\"stroke:#000000;stroke-width:0.8;\" x=\"319.330125\" xlink:href=\"#mf34281aaa4\" y=\"189.999981\"/>\n      </g>\n     </g>\n     <g id=\"text_16\">\n      <!-- 0.2 -->\n      <g transform=\"translate(326.330125 193.7992)scale(0.1 -0.1)\">\n       <use xlink:href=\"#DejaVuSans-48\"/>\n       <use x=\"63.623047\" xlink:href=\"#DejaVuSans-46\"/>\n       <use x=\"95.410156\" xlink:href=\"#DejaVuSans-50\"/>\n      </g>\n     </g>\n    </g>\n    <g id=\"ytick_5\">\n     <g id=\"line2d_8\">\n      <g>\n       <use style=\"stroke:#000000;stroke-width:0.8;\" x=\"319.330125\" xlink:href=\"#mf34281aaa4\" y=\"145.249791\"/>\n      </g>\n     </g>\n     <g id=\"text_17\">\n      <!-- 0.4 -->\n      <defs>\n       <path d=\"M 37.796875 64.3125 \nL 12.890625 25.390625 \nL 37.796875 25.390625 \nz\nM 35.203125 72.90625 \nL 47.609375 72.90625 \nL 47.609375 25.390625 \nL 58.015625 25.390625 \nL 58.015625 17.1875 \nL 47.609375 17.1875 \nL 47.609375 0 \nL 37.796875 0 \nL 37.796875 17.1875 \nL 4.890625 17.1875 \nL 4.890625 26.703125 \nz\n\" id=\"DejaVuSans-52\"/>\n      </defs>\n      <g transform=\"translate(326.330125 149.049009)scale(0.1 -0.1)\">\n       <use xlink:href=\"#DejaVuSans-48\"/>\n       <use x=\"63.623047\" xlink:href=\"#DejaVuSans-46\"/>\n       <use x=\"95.410156\" xlink:href=\"#DejaVuSans-52\"/>\n      </g>\n     </g>\n    </g>\n    <g id=\"ytick_6\">\n     <g id=\"line2d_9\">\n      <g>\n       <use style=\"stroke:#000000;stroke-width:0.8;\" x=\"319.330125\" xlink:href=\"#mf34281aaa4\" y=\"100.4996\"/>\n      </g>\n     </g>\n     <g id=\"text_18\">\n      <!-- 0.6 -->\n      <defs>\n       <path d=\"M 33.015625 40.375 \nQ 26.375 40.375 22.484375 35.828125 \nQ 18.609375 31.296875 18.609375 23.390625 \nQ 18.609375 15.53125 22.484375 10.953125 \nQ 26.375 6.390625 33.015625 6.390625 \nQ 39.65625 6.390625 43.53125 10.953125 \nQ 47.40625 15.53125 47.40625 23.390625 \nQ 47.40625 31.296875 43.53125 35.828125 \nQ 39.65625 40.375 33.015625 40.375 \nz\nM 52.59375 71.296875 \nL 52.59375 62.3125 \nQ 48.875 64.0625 45.09375 64.984375 \nQ 41.3125 65.921875 37.59375 65.921875 \nQ 27.828125 65.921875 22.671875 59.328125 \nQ 17.53125 52.734375 16.796875 39.40625 \nQ 19.671875 43.65625 24.015625 45.921875 \nQ 28.375 48.1875 33.59375 48.1875 \nQ 44.578125 48.1875 50.953125 41.515625 \nQ 57.328125 34.859375 57.328125 23.390625 \nQ 57.328125 12.15625 50.6875 5.359375 \nQ 44.046875 -1.421875 33.015625 -1.421875 \nQ 20.359375 -1.421875 13.671875 8.265625 \nQ 6.984375 17.96875 6.984375 36.375 \nQ 6.984375 53.65625 15.1875 63.9375 \nQ 23.390625 74.21875 37.203125 74.21875 \nQ 40.921875 74.21875 44.703125 73.484375 \nQ 48.484375 72.75 52.59375 71.296875 \nz\n\" id=\"DejaVuSans-54\"/>\n      </defs>\n      <g transform=\"translate(326.330125 104.298819)scale(0.1 -0.1)\">\n       <use xlink:href=\"#DejaVuSans-48\"/>\n       <use x=\"63.623047\" xlink:href=\"#DejaVuSans-46\"/>\n       <use x=\"95.410156\" xlink:href=\"#DejaVuSans-54\"/>\n      </g>\n     </g>\n    </g>\n    <g id=\"ytick_7\">\n     <g id=\"line2d_10\">\n      <g>\n       <use style=\"stroke:#000000;stroke-width:0.8;\" x=\"319.330125\" xlink:href=\"#mf34281aaa4\" y=\"55.749409\"/>\n      </g>\n     </g>\n     <g id=\"text_19\">\n      <!-- 0.8 -->\n      <g transform=\"translate(326.330125 59.548628)scale(0.1 -0.1)\">\n       <use xlink:href=\"#DejaVuSans-48\"/>\n       <use x=\"63.623047\" xlink:href=\"#DejaVuSans-46\"/>\n       <use x=\"95.410156\" xlink:href=\"#DejaVuSans-56\"/>\n      </g>\n     </g>\n    </g>\n    <g id=\"ytick_8\">\n     <g id=\"line2d_11\">\n      <g>\n       <use style=\"stroke:#000000;stroke-width:0.8;\" x=\"319.330125\" xlink:href=\"#mf34281aaa4\" y=\"10.999219\"/>\n      </g>\n     </g>\n     <g id=\"text_20\">\n      <!-- 1.0 -->\n      <g transform=\"translate(326.330125 14.798437)scale(0.1 -0.1)\">\n       <use xlink:href=\"#DejaVuSans-49\"/>\n       <use x=\"63.623047\" xlink:href=\"#DejaVuSans-46\"/>\n       <use x=\"95.410156\" xlink:href=\"#DejaVuSans-48\"/>\n      </g>\n     </g>\n    </g>\n   </g>\n   <g id=\"patch_4\">\n    <path d=\"M 308.458125 228.439219 \nL 308.458125 227.589844 \nL 308.458125 11.848594 \nL 308.458125 10.999219 \nL 319.330125 10.999219 \nL 319.330125 11.848594 \nL 319.330125 227.589844 \nL 319.330125 228.439219 \nz\n\" style=\"fill:none;\"/>\n   </g>\n  </g>\n </g>\n <defs>\n  <clipPath id=\"p97f3901fb0\">\n   <rect height=\"217.44\" width=\"267.84\" x=\"23.878125\" y=\"10.999219\"/>\n  </clipPath>\n  <clipPath id=\"p0ee2e725ae\">\n   <rect height=\"217.44\" width=\"10.872\" x=\"308.458125\" y=\"10.999219\"/>\n  </clipPath>\n </defs>\n</svg>\n",
      "image/png": "[encoded data removed]"
     },
     "metadata": {
      "needs_background": "light"
     }
    }
   ],
   "source": [
    "# combined_df\n",
    "corr_df = combined_df[['positive','negative','close']]\n",
    "\n",
    "# 1. replace close with pctChange Up/Down 1 or -1\n",
    "# 2. scale all other columns to betweeb 0 and 1\n",
    "# 3. start with 1 lag 15 mins\n",
    "\n",
    "# 4. Train models on that - Okena, Sam, Paul, Raj\n",
    "# 5. Wordcloud - Nimo\n",
    "\n",
    "\n",
    "ax = sns.heatmap(corr_df.corr(), annot=True) "
   ]
  },
  {
   "cell_type": "code",
   "execution_count": 20,
   "metadata": {},
   "outputs": [],
   "source": [
    "def crosscorr(datax, datay, lag=0):\n",
    "    \"\"\" Lag-N cross correlation. \n",
    "    Parameters\n",
    "    ----------\n",
    "    lag : int, default 0\n",
    "    datax, datay : pandas.Series objects of equal length\n",
    "\n",
    "    Returns\n",
    "    ----------\n",
    "    crosscorr : float\n",
    "    \"\"\"\n",
    "    return datax.corr(datay.shift(lag))"
   ]
  },
  {
   "cell_type": "code",
   "execution_count": 21,
   "metadata": {},
   "outputs": [
    {
     "output_type": "execute_result",
     "data": {
      "text/plain": [
       "[0.026252393107372114,\n",
       " -0.017207200914962435,\n",
       " 0.07306378863452806,\n",
       " -0.06476196174447098,\n",
       " 0.02754556984140993,\n",
       " -0.010265409178510737,\n",
       " -0.06004254260235032,\n",
       " -0.04832726578221767,\n",
       " 0.008862422490055108,\n",
       " -0.0216029955284507,\n",
       " -0.029922218776448222,\n",
       " 0.030282478157341745]"
      ]
     },
     "metadata": {},
     "execution_count": 21
    }
   ],
   "source": [
    "corr_df = [crosscorr(tweet_tone_with_dummies_df['positive'], pfizer_df['close'].pct_change(), lag=i) for i in range(12)]\n",
    "#  corr_df\n",
    "corr_df\n",
    "# ax = sns.heatmap(corr_df, annot=True) "
   ]
  },
  {
   "source": [
    "## Lag of 2 seems to be best"
   ],
   "cell_type": "markdown",
   "metadata": {}
  },
  {
   "cell_type": "code",
   "execution_count": 24,
   "metadata": {},
   "outputs": [
    {
     "output_type": "execute_result",
     "data": {
      "text/plain": [
       "                                          user_name            user_location  \\\n",
       "date                                                                           \n",
       "2020-08-09 21:21:00                          Ashwin                 India 🇮🇳   \n",
       "2020-08-09 21:29:00                   K. Kartik Rao  Mumbai and Nagpur India   \n",
       "2020-08-09 22:55:00  Mac Patrick (Road Hater) Henry    German Bundesrepublik   \n",
       "2020-08-10 00:15:00                      lydia Bell                   Earth    \n",
       "2020-08-10 02:56:00                 Lou Ann Donovan              Kansas, USA   \n",
       "...                                             ...                      ...   \n",
       "2021-02-18 23:58:25               Kathleen Coughlin            San Diego, CA   \n",
       "2021-02-18 23:58:41                     Rob Weisman                   Boston   \n",
       "2021-02-18 23:59:37                     Jules Doyle                  Chicago   \n",
       "2021-02-18 23:59:50                  Bradley Mathys         Montréal, Québec   \n",
       "2021-02-18 23:59:55                 sir crankypants      South Carolina, USA   \n",
       "\n",
       "                     user_followers user_friends user_favourites  \\\n",
       "date                                                               \n",
       "2020-08-09 21:21:00            89.0         3108            6780   \n",
       "2020-08-09 21:29:00           225.0          257           25362   \n",
       "2020-08-09 22:55:00           338.0          277           28305   \n",
       "2020-08-10 00:15:00          2038.0         1105           63422   \n",
       "2020-08-10 02:56:00          4365.0         4581            2505   \n",
       "...                             ...          ...             ...   \n",
       "2021-02-18 23:58:25           188.0          315            1668   \n",
       "2021-02-18 23:58:41          3678.0          780             574   \n",
       "2021-02-18 23:59:37           799.0         2467          112893   \n",
       "2021-02-18 23:59:50            18.0          143             160   \n",
       "2021-02-18 23:59:55           215.0          617            8905   \n",
       "\n",
       "                                                                  text  \\\n",
       "date                                                                     \n",
       "2020-08-09 21:21:00  Huge Thanks And Best Wishes With @SerumInstInd...   \n",
       "2020-08-09 21:29:00                   Any update of #CovidVaccine ????   \n",
       "2020-08-09 22:55:00  From a private frontline COVID nurses group to...   \n",
       "2020-08-10 00:15:00  So you want the whole world to take a #covidva...   \n",
       "2020-08-10 02:56:00  Watch to learn about the Phase 3 clinical tria...   \n",
       "...                                                                ...   \n",
       "2021-02-18 23:58:25  Of course they did❗️ \\n\\n#SoulsToThePolls\\n#Bl...   \n",
       "2021-02-18 23:58:41  Feds tell MA officials #COVIDVaccine shipments...   \n",
       "2021-02-18 23:59:37  The #nightlynews is essentially 30 minutes of ...   \n",
       "2021-02-18 23:59:50  Woohoo! First dose of Moderna is done. Feels g...   \n",
       "2021-02-18 23:59:55  \"I don't want to be a guinea pig, my life's to...   \n",
       "\n",
       "                     compound  positive  negative  neutral user_verified  \\\n",
       "date                                                                       \n",
       "2020-08-09 21:21:00    0.9169     0.517     0.000    0.483         False   \n",
       "2020-08-09 21:29:00    0.0000     0.000     0.000    1.000         False   \n",
       "2020-08-09 22:55:00    0.0000     0.000     0.000    1.000         False   \n",
       "2020-08-10 00:15:00    0.0745     0.058     0.000    0.942         False   \n",
       "2020-08-10 02:56:00    0.0000     0.000     0.000    1.000         False   \n",
       "...                       ...       ...       ...      ...           ...   \n",
       "2021-02-18 23:58:25    0.0000     0.000     0.000    1.000         False   \n",
       "2021-02-18 23:58:41   -0.2263     0.000     0.128    0.872         False   \n",
       "2021-02-18 23:59:37   -0.2263     0.000     0.101    0.899         False   \n",
       "2021-02-18 23:59:50    0.7772     0.430     0.000    0.570         False   \n",
       "2021-02-18 23:59:55    0.1476     0.078     0.053    0.869         False   \n",
       "\n",
       "                                  source  \n",
       "date                                      \n",
       "2020-08-09 21:21:00  Twitter for Android  \n",
       "2020-08-09 21:29:00  Twitter for Android  \n",
       "2020-08-09 22:55:00      Twitter Web App  \n",
       "2020-08-10 00:15:00   Twitter for iPhone  \n",
       "2020-08-10 02:56:00   Twitter for iPhone  \n",
       "...                                  ...  \n",
       "2021-02-18 23:58:25   Twitter for iPhone  \n",
       "2021-02-18 23:58:41      Twitter Web App  \n",
       "2021-02-18 23:59:37   Twitter for iPhone  \n",
       "2021-02-18 23:59:50  Twitter for Android  \n",
       "2021-02-18 23:59:55  Twitter for Android  \n",
       "\n",
       "[109323 rows x 12 columns]"
      ],
      "text/html": "<div>\n<style scoped>\n    .dataframe tbody tr th:only-of-type {\n        vertical-align: middle;\n    }\n\n    .dataframe tbody tr th {\n        vertical-align: top;\n    }\n\n    .dataframe thead th {\n        text-align: right;\n    }\n</style>\n<table border=\"1\" class=\"dataframe\">\n  <thead>\n    <tr style=\"text-align: right;\">\n      <th></th>\n      <th>user_name</th>\n      <th>user_location</th>\n      <th>user_followers</th>\n      <th>user_friends</th>\n      <th>user_favourites</th>\n      <th>text</th>\n      <th>compound</th>\n      <th>positive</th>\n      <th>negative</th>\n      <th>neutral</th>\n      <th>user_verified</th>\n      <th>source</th>\n    </tr>\n    <tr>\n      <th>date</th>\n      <th></th>\n      <th></th>\n      <th></th>\n      <th></th>\n      <th></th>\n      <th></th>\n      <th></th>\n      <th></th>\n      <th></th>\n      <th></th>\n      <th></th>\n      <th></th>\n    </tr>\n  </thead>\n  <tbody>\n    <tr>\n      <th>2020-08-09 21:21:00</th>\n      <td>Ashwin</td>\n      <td>India 🇮🇳</td>\n      <td>89.0</td>\n      <td>3108</td>\n      <td>6780</td>\n      <td>Huge Thanks And Best Wishes With @SerumInstInd...</td>\n      <td>0.9169</td>\n      <td>0.517</td>\n      <td>0.000</td>\n      <td>0.483</td>\n      <td>False</td>\n      <td>Twitter for Android</td>\n    </tr>\n    <tr>\n      <th>2020-08-09 21:29:00</th>\n      <td>K. Kartik Rao</td>\n      <td>Mumbai and Nagpur India</td>\n      <td>225.0</td>\n      <td>257</td>\n      <td>25362</td>\n      <td>Any update of #CovidVaccine ????</td>\n      <td>0.0000</td>\n      <td>0.000</td>\n      <td>0.000</td>\n      <td>1.000</td>\n      <td>False</td>\n      <td>Twitter for Android</td>\n    </tr>\n    <tr>\n      <th>2020-08-09 22:55:00</th>\n      <td>Mac Patrick (Road Hater) Henry</td>\n      <td>German Bundesrepublik</td>\n      <td>338.0</td>\n      <td>277</td>\n      <td>28305</td>\n      <td>From a private frontline COVID nurses group to...</td>\n      <td>0.0000</td>\n      <td>0.000</td>\n      <td>0.000</td>\n      <td>1.000</td>\n      <td>False</td>\n      <td>Twitter Web App</td>\n    </tr>\n    <tr>\n      <th>2020-08-10 00:15:00</th>\n      <td>lydia Bell</td>\n      <td>Earth</td>\n      <td>2038.0</td>\n      <td>1105</td>\n      <td>63422</td>\n      <td>So you want the whole world to take a #covidva...</td>\n      <td>0.0745</td>\n      <td>0.058</td>\n      <td>0.000</td>\n      <td>0.942</td>\n      <td>False</td>\n      <td>Twitter for iPhone</td>\n    </tr>\n    <tr>\n      <th>2020-08-10 02:56:00</th>\n      <td>Lou Ann Donovan</td>\n      <td>Kansas, USA</td>\n      <td>4365.0</td>\n      <td>4581</td>\n      <td>2505</td>\n      <td>Watch to learn about the Phase 3 clinical tria...</td>\n      <td>0.0000</td>\n      <td>0.000</td>\n      <td>0.000</td>\n      <td>1.000</td>\n      <td>False</td>\n      <td>Twitter for iPhone</td>\n    </tr>\n    <tr>\n      <th>...</th>\n      <td>...</td>\n      <td>...</td>\n      <td>...</td>\n      <td>...</td>\n      <td>...</td>\n      <td>...</td>\n      <td>...</td>\n      <td>...</td>\n      <td>...</td>\n      <td>...</td>\n      <td>...</td>\n      <td>...</td>\n    </tr>\n    <tr>\n      <th>2021-02-18 23:58:25</th>\n      <td>Kathleen Coughlin</td>\n      <td>San Diego, CA</td>\n      <td>188.0</td>\n      <td>315</td>\n      <td>1668</td>\n      <td>Of course they did❗️ \\n\\n#SoulsToThePolls\\n#Bl...</td>\n      <td>0.0000</td>\n      <td>0.000</td>\n      <td>0.000</td>\n      <td>1.000</td>\n      <td>False</td>\n      <td>Twitter for iPhone</td>\n    </tr>\n    <tr>\n      <th>2021-02-18 23:58:41</th>\n      <td>Rob Weisman</td>\n      <td>Boston</td>\n      <td>3678.0</td>\n      <td>780</td>\n      <td>574</td>\n      <td>Feds tell MA officials #COVIDVaccine shipments...</td>\n      <td>-0.2263</td>\n      <td>0.000</td>\n      <td>0.128</td>\n      <td>0.872</td>\n      <td>False</td>\n      <td>Twitter Web App</td>\n    </tr>\n    <tr>\n      <th>2021-02-18 23:59:37</th>\n      <td>Jules Doyle</td>\n      <td>Chicago</td>\n      <td>799.0</td>\n      <td>2467</td>\n      <td>112893</td>\n      <td>The #nightlynews is essentially 30 minutes of ...</td>\n      <td>-0.2263</td>\n      <td>0.000</td>\n      <td>0.101</td>\n      <td>0.899</td>\n      <td>False</td>\n      <td>Twitter for iPhone</td>\n    </tr>\n    <tr>\n      <th>2021-02-18 23:59:50</th>\n      <td>Bradley Mathys</td>\n      <td>Montréal, Québec</td>\n      <td>18.0</td>\n      <td>143</td>\n      <td>160</td>\n      <td>Woohoo! First dose of Moderna is done. Feels g...</td>\n      <td>0.7772</td>\n      <td>0.430</td>\n      <td>0.000</td>\n      <td>0.570</td>\n      <td>False</td>\n      <td>Twitter for Android</td>\n    </tr>\n    <tr>\n      <th>2021-02-18 23:59:55</th>\n      <td>sir crankypants</td>\n      <td>South Carolina, USA</td>\n      <td>215.0</td>\n      <td>617</td>\n      <td>8905</td>\n      <td>\"I don't want to be a guinea pig, my life's to...</td>\n      <td>0.1476</td>\n      <td>0.078</td>\n      <td>0.053</td>\n      <td>0.869</td>\n      <td>False</td>\n      <td>Twitter for Android</td>\n    </tr>\n  </tbody>\n</table>\n<p>109323 rows × 12 columns</p>\n</div>"
     },
     "metadata": {},
     "execution_count": 24
    }
   ],
   "source": [
    "# Shifting tweets by 2 (30 mins) because that seems to correlate best with stock prices\n",
    "shifted_tweet_tone_df = tweet_tone_df.shift(2).dropna()\n",
    "shifted_tweet_tone_df"
   ]
  },
  {
   "cell_type": "code",
   "execution_count": null,
   "metadata": {},
   "outputs": [],
   "source": []
  }
 ]
}