{
 "metadata": {
  "language_info": {
   "codemirror_mode": {
    "name": "ipython",
    "version": 3
   },
   "file_extension": ".py",
   "mimetype": "text/x-python",
   "name": "python",
   "nbconvert_exporter": "python",
   "pygments_lexer": "ipython3",
   "version": "3.7.9-final"
  },
  "orig_nbformat": 2,
  "kernelspec": {
   "name": "python3",
   "display_name": "Python 3.7.9 64-bit ('p37env': conda)",
   "metadata": {
    "interpreter": {
     "hash": "88d86be733a9a448ab4216705ec79d5515b5f923491cd63b6a11efb829921b60"
    }
   }
  }
 },
 "nbformat": 4,
 "nbformat_minor": 2,
 "cells": [
  {
   "cell_type": "code",
   "execution_count": 1,
   "metadata": {},
   "outputs": [],
   "source": [
    "import tweepy\n",
    "import csv\n",
    "import pandas as pd\n",
    "\n",
    "from nltk.corpus import stopwords, reuters\n",
    "from nltk.tokenize import word_tokenize\n",
    "from nltk.stem import WordNetLemmatizer\n",
    "from wordcloud import WordCloud\n",
    "import re\n",
    "import matplotlib.pyplot as plt\n",
    "import datetime\n",
    "all_tweets = []"
   ]
  },
  {
   "cell_type": "code",
   "execution_count": 2,
   "metadata": {},
   "outputs": [],
   "source": [
    "def load_vaccine_csv():\n",
    "    df = pd.read_csv('./covidvaccine.csv')\n",
    "    df = df[['user_location','user_followers',\t'user_friends',\t'user_favourites',\t'user_verified',\t'date',\t'text',\t'source']]\n",
    "    \n",
    "    # '18-08-2020 12:55'\n",
    "    # df.index = pd.to_datetime(df['date'])\n",
    "    # for managebility we remove the hashtag, but it might have a future use-case\n",
    "    # is_retweet is all False in this dataset\n",
    "    # df = df[df['is_retweet'] == False]\n",
    "    # df = df.dropna()\n",
    "    return df"
   ]
  },
  {
   "cell_type": "code",
   "execution_count": null,
   "metadata": {},
   "outputs": [],
   "source": []
  },
  {
   "cell_type": "code",
   "execution_count": 3,
   "metadata": {},
   "outputs": [],
   "source": [
    "def try_parse(dateString):\n",
    "    # return dateString\n",
    "    # print(dateString)\n",
    "    try:\n",
    "        return datetime.datetime.strptime(dateString, '%Y-%m-%d %H:%M:%S')\n",
    "    except Exception as e:\n",
    "        try:\n",
    "            return datetime.datetime.strptime(dateString, '%Y-%m-%d %H:%M')\n",
    "        except Exception as e:\n",
    "            try:\n",
    "                return datetime.datetime.strptime(dateString, '%d-%m-%Y %H:%M')\n",
    "            except Exception as e:\n",
    "                return datetime.datetime.strptime(dateString, '%d-%m-%Y %H:%M:%S')\n"
   ]
  },
  {
   "cell_type": "code",
   "execution_count": 4,
   "metadata": {
    "tags": []
   },
   "outputs": [
    {
     "output_type": "execute_result",
     "data": {
      "text/plain": [
       "                    user_location  user_followers user_friends  \\\n",
       "0                           Assam            64.0           11   \n",
       "1                             NaN             1.0           17   \n",
       "2                             NaN           143.0          566   \n",
       "3                             NaN            29.0           25   \n",
       "4       Adelaide, South Australia            83.0          497   \n",
       "...                           ...             ...          ...   \n",
       "354385          San Francisco, CA             0.0           83   \n",
       "354386                    Jakarta          2954.0         1023   \n",
       "354387                      India          1771.0          270   \n",
       "354388               Pennsylvania          1191.0           44   \n",
       "354389                        NaN           655.0          709   \n",
       "\n",
       "       user_favourites user_verified                date  \\\n",
       "0                  110         False 2020-08-18 12:55:00   \n",
       "1                    0         False 2020-08-18 12:55:00   \n",
       "2                    8         False 2020-08-18 12:46:00   \n",
       "3                  620         False 2020-08-18 12:45:00   \n",
       "4                10737         False 2020-08-18 12:45:00   \n",
       "...                ...           ...                 ...   \n",
       "354385               0         False 2021-02-15 00:01:02   \n",
       "354386               2         False 2021-02-15 00:00:56   \n",
       "354387              65         False 2021-02-15 00:00:56   \n",
       "354388              44         False 2021-02-15 00:00:09   \n",
       "354389              86         False 2021-02-15 00:00:01   \n",
       "\n",
       "                                                     text  \\\n",
       "0       Australia to Manufacture Covid-19 Vaccine and ...   \n",
       "1       #CoronavirusVaccine #CoronaVaccine #CovidVacci...   \n",
       "2       Deaths due to COVID-19 in Affected Countries\\n...   \n",
       "3       @Team_Subhashree @subhashreesotwe @iamrajchoco...   \n",
       "4       @michellegrattan @ConversationEDU This is what...   \n",
       "...                                                   ...   \n",
       "354385  I called my lola to wish her a Happy Valentine...   \n",
       "354386  Cambodia’s Ministry of Health approves emergen...   \n",
       "354387  Cambodia’s Ministry of Health approves emergen...   \n",
       "354388  Thanks for helping us get the word out, @abc27...   \n",
       "354389  Cambodia’s Ministry of Health approves emergen...   \n",
       "\n",
       "                     source                 xxx  \n",
       "0           Twitter Web App 2020-08-18 12:55:00  \n",
       "1       Twitter for Android 2020-08-18 12:55:00  \n",
       "2           Twitter Web App 2020-08-18 12:46:00  \n",
       "3       Twitter for Android 2020-08-18 12:45:00  \n",
       "4           Twitter Web App 2020-08-18 12:45:00  \n",
       "...                     ...                 ...  \n",
       "354385   Twitter for iPhone 2021-02-15 00:01:02  \n",
       "354386       SocialPilot.co 2021-02-15 00:00:56  \n",
       "354387       SocialPilot.co 2021-02-15 00:00:56  \n",
       "354388      Twitter Web App 2021-02-15 00:00:09  \n",
       "354389            TweetDeck 2021-02-15 00:00:01  \n",
       "\n",
       "[137477 rows x 9 columns]"
      ],
      "text/html": "<div>\n<style scoped>\n    .dataframe tbody tr th:only-of-type {\n        vertical-align: middle;\n    }\n\n    .dataframe tbody tr th {\n        vertical-align: top;\n    }\n\n    .dataframe thead th {\n        text-align: right;\n    }\n</style>\n<table border=\"1\" class=\"dataframe\">\n  <thead>\n    <tr style=\"text-align: right;\">\n      <th></th>\n      <th>user_location</th>\n      <th>user_followers</th>\n      <th>user_friends</th>\n      <th>user_favourites</th>\n      <th>user_verified</th>\n      <th>date</th>\n      <th>text</th>\n      <th>source</th>\n      <th>xxx</th>\n    </tr>\n  </thead>\n  <tbody>\n    <tr>\n      <th>0</th>\n      <td>Assam</td>\n      <td>64.0</td>\n      <td>11</td>\n      <td>110</td>\n      <td>False</td>\n      <td>2020-08-18 12:55:00</td>\n      <td>Australia to Manufacture Covid-19 Vaccine and ...</td>\n      <td>Twitter Web App</td>\n      <td>2020-08-18 12:55:00</td>\n    </tr>\n    <tr>\n      <th>1</th>\n      <td>NaN</td>\n      <td>1.0</td>\n      <td>17</td>\n      <td>0</td>\n      <td>False</td>\n      <td>2020-08-18 12:55:00</td>\n      <td>#CoronavirusVaccine #CoronaVaccine #CovidVacci...</td>\n      <td>Twitter for Android</td>\n      <td>2020-08-18 12:55:00</td>\n    </tr>\n    <tr>\n      <th>2</th>\n      <td>NaN</td>\n      <td>143.0</td>\n      <td>566</td>\n      <td>8</td>\n      <td>False</td>\n      <td>2020-08-18 12:46:00</td>\n      <td>Deaths due to COVID-19 in Affected Countries\\n...</td>\n      <td>Twitter Web App</td>\n      <td>2020-08-18 12:46:00</td>\n    </tr>\n    <tr>\n      <th>3</th>\n      <td>NaN</td>\n      <td>29.0</td>\n      <td>25</td>\n      <td>620</td>\n      <td>False</td>\n      <td>2020-08-18 12:45:00</td>\n      <td>@Team_Subhashree @subhashreesotwe @iamrajchoco...</td>\n      <td>Twitter for Android</td>\n      <td>2020-08-18 12:45:00</td>\n    </tr>\n    <tr>\n      <th>4</th>\n      <td>Adelaide, South Australia</td>\n      <td>83.0</td>\n      <td>497</td>\n      <td>10737</td>\n      <td>False</td>\n      <td>2020-08-18 12:45:00</td>\n      <td>@michellegrattan @ConversationEDU This is what...</td>\n      <td>Twitter Web App</td>\n      <td>2020-08-18 12:45:00</td>\n    </tr>\n    <tr>\n      <th>...</th>\n      <td>...</td>\n      <td>...</td>\n      <td>...</td>\n      <td>...</td>\n      <td>...</td>\n      <td>...</td>\n      <td>...</td>\n      <td>...</td>\n      <td>...</td>\n    </tr>\n    <tr>\n      <th>354385</th>\n      <td>San Francisco, CA</td>\n      <td>0.0</td>\n      <td>83</td>\n      <td>0</td>\n      <td>False</td>\n      <td>2021-02-15 00:01:02</td>\n      <td>I called my lola to wish her a Happy Valentine...</td>\n      <td>Twitter for iPhone</td>\n      <td>2021-02-15 00:01:02</td>\n    </tr>\n    <tr>\n      <th>354386</th>\n      <td>Jakarta</td>\n      <td>2954.0</td>\n      <td>1023</td>\n      <td>2</td>\n      <td>False</td>\n      <td>2021-02-15 00:00:56</td>\n      <td>Cambodia’s Ministry of Health approves emergen...</td>\n      <td>SocialPilot.co</td>\n      <td>2021-02-15 00:00:56</td>\n    </tr>\n    <tr>\n      <th>354387</th>\n      <td>India</td>\n      <td>1771.0</td>\n      <td>270</td>\n      <td>65</td>\n      <td>False</td>\n      <td>2021-02-15 00:00:56</td>\n      <td>Cambodia’s Ministry of Health approves emergen...</td>\n      <td>SocialPilot.co</td>\n      <td>2021-02-15 00:00:56</td>\n    </tr>\n    <tr>\n      <th>354388</th>\n      <td>Pennsylvania</td>\n      <td>1191.0</td>\n      <td>44</td>\n      <td>44</td>\n      <td>False</td>\n      <td>2021-02-15 00:00:09</td>\n      <td>Thanks for helping us get the word out, @abc27...</td>\n      <td>Twitter Web App</td>\n      <td>2021-02-15 00:00:09</td>\n    </tr>\n    <tr>\n      <th>354389</th>\n      <td>NaN</td>\n      <td>655.0</td>\n      <td>709</td>\n      <td>86</td>\n      <td>False</td>\n      <td>2021-02-15 00:00:01</td>\n      <td>Cambodia’s Ministry of Health approves emergen...</td>\n      <td>TweetDeck</td>\n      <td>2021-02-15 00:00:01</td>\n    </tr>\n  </tbody>\n</table>\n<p>137477 rows × 9 columns</p>\n</div>"
     },
     "metadata": {},
     "execution_count": 4
    }
   ],
   "source": [
    "# 354390\n",
    "# 354390\n",
    "# 216910\n",
    "df = load_vaccine_csv()\n",
    "# df.index = pd.to_datetime(df.date, errors='coerce')\n",
    "\n",
    "#18-08-2020 12:55\n",
    "df = df[df.date.notnull()]\n",
    "df = df[df.date.str.contains(\"-\")]\n",
    "\n",
    "df['date'] = df['date'].apply(lambda t: try_parse(t))\n",
    "df['xxx'] = pd.to_datetime(df['date'], format='%d-%m-%Y %H:%M')\n",
    "# df = df[df.date.isnull()]\n",
    "\n",
    "df = df.sort_index()\n",
    "df"
   ]
  },
  {
   "cell_type": "code",
   "execution_count": 5,
   "metadata": {},
   "outputs": [
    {
     "output_type": "execute_result",
     "data": {
      "text/plain": [
       "                            user_location  user_followers user_friends  \\\n",
       "0                                   Assam            64.0           11   \n",
       "4               Adelaide, South Australia            83.0          497   \n",
       "6                        Hyderabad, India           918.0         2561   \n",
       "7             The Great Pacific Northwest          2321.0         3236   \n",
       "8                    Washington, DC 20009         19091.0        20986   \n",
       "...                                   ...             ...          ...   \n",
       "354384  Yorkshire and The Humber, England          5245.0         1296   \n",
       "354385                  San Francisco, CA             0.0           83   \n",
       "354386                            Jakarta          2954.0         1023   \n",
       "354387                              India          1771.0          270   \n",
       "354388                       Pennsylvania          1191.0           44   \n",
       "\n",
       "       user_favourites user_verified                date  \\\n",
       "0                  110         False 2020-08-18 12:55:00   \n",
       "4                10737         False 2020-08-18 12:45:00   \n",
       "6                31837         False 2020-08-18 12:34:00   \n",
       "7               264351         False 2020-08-18 12:30:00   \n",
       "8               128119         False 2020-08-18 12:15:00   \n",
       "...                ...           ...                 ...   \n",
       "354384           25625         False 2021-02-15 00:03:11   \n",
       "354385               0         False 2021-02-15 00:01:02   \n",
       "354386               2         False 2021-02-15 00:00:56   \n",
       "354387              65         False 2021-02-15 00:00:56   \n",
       "354388              44         False 2021-02-15 00:00:09   \n",
       "\n",
       "                                                     text  \\\n",
       "0       Australia to Manufacture Covid-19 Vaccine and ...   \n",
       "4       @michellegrattan @ConversationEDU This is what...   \n",
       "6       @PrivilRodrigues @yatish57 @deepkaranahuja @sh...   \n",
       "7       @MSNBC Well, let’s qualify that: would anyone ...   \n",
       "8       Most countries, without the ability to make #V...   \n",
       "...                                                   ...   \n",
       "354384  After weeks away now dipping in lightly &amp; ...   \n",
       "354385  I called my lola to wish her a Happy Valentine...   \n",
       "354386  Cambodia’s Ministry of Health approves emergen...   \n",
       "354387  Cambodia’s Ministry of Health approves emergen...   \n",
       "354388  Thanks for helping us get the word out, @abc27...   \n",
       "\n",
       "                     source                 xxx  \n",
       "0           Twitter Web App 2020-08-18 12:55:00  \n",
       "4           Twitter Web App 2020-08-18 12:45:00  \n",
       "6       Twitter for Android 2020-08-18 12:34:00  \n",
       "7        Twitter for iPhone 2020-08-18 12:30:00  \n",
       "8            Hootsuite Inc. 2020-08-18 12:15:00  \n",
       "...                     ...                 ...  \n",
       "354384   Twitter for iPhone 2021-02-15 00:03:11  \n",
       "354385   Twitter for iPhone 2021-02-15 00:01:02  \n",
       "354386       SocialPilot.co 2021-02-15 00:00:56  \n",
       "354387       SocialPilot.co 2021-02-15 00:00:56  \n",
       "354388      Twitter Web App 2021-02-15 00:00:09  \n",
       "\n",
       "[109325 rows x 9 columns]"
      ],
      "text/html": "<div>\n<style scoped>\n    .dataframe tbody tr th:only-of-type {\n        vertical-align: middle;\n    }\n\n    .dataframe tbody tr th {\n        vertical-align: top;\n    }\n\n    .dataframe thead th {\n        text-align: right;\n    }\n</style>\n<table border=\"1\" class=\"dataframe\">\n  <thead>\n    <tr style=\"text-align: right;\">\n      <th></th>\n      <th>user_location</th>\n      <th>user_followers</th>\n      <th>user_friends</th>\n      <th>user_favourites</th>\n      <th>user_verified</th>\n      <th>date</th>\n      <th>text</th>\n      <th>source</th>\n      <th>xxx</th>\n    </tr>\n  </thead>\n  <tbody>\n    <tr>\n      <th>0</th>\n      <td>Assam</td>\n      <td>64.0</td>\n      <td>11</td>\n      <td>110</td>\n      <td>False</td>\n      <td>2020-08-18 12:55:00</td>\n      <td>Australia to Manufacture Covid-19 Vaccine and ...</td>\n      <td>Twitter Web App</td>\n      <td>2020-08-18 12:55:00</td>\n    </tr>\n    <tr>\n      <th>4</th>\n      <td>Adelaide, South Australia</td>\n      <td>83.0</td>\n      <td>497</td>\n      <td>10737</td>\n      <td>False</td>\n      <td>2020-08-18 12:45:00</td>\n      <td>@michellegrattan @ConversationEDU This is what...</td>\n      <td>Twitter Web App</td>\n      <td>2020-08-18 12:45:00</td>\n    </tr>\n    <tr>\n      <th>6</th>\n      <td>Hyderabad, India</td>\n      <td>918.0</td>\n      <td>2561</td>\n      <td>31837</td>\n      <td>False</td>\n      <td>2020-08-18 12:34:00</td>\n      <td>@PrivilRodrigues @yatish57 @deepkaranahuja @sh...</td>\n      <td>Twitter for Android</td>\n      <td>2020-08-18 12:34:00</td>\n    </tr>\n    <tr>\n      <th>7</th>\n      <td>The Great Pacific Northwest</td>\n      <td>2321.0</td>\n      <td>3236</td>\n      <td>264351</td>\n      <td>False</td>\n      <td>2020-08-18 12:30:00</td>\n      <td>@MSNBC Well, let’s qualify that: would anyone ...</td>\n      <td>Twitter for iPhone</td>\n      <td>2020-08-18 12:30:00</td>\n    </tr>\n    <tr>\n      <th>8</th>\n      <td>Washington, DC 20009</td>\n      <td>19091.0</td>\n      <td>20986</td>\n      <td>128119</td>\n      <td>False</td>\n      <td>2020-08-18 12:15:00</td>\n      <td>Most countries, without the ability to make #V...</td>\n      <td>Hootsuite Inc.</td>\n      <td>2020-08-18 12:15:00</td>\n    </tr>\n    <tr>\n      <th>...</th>\n      <td>...</td>\n      <td>...</td>\n      <td>...</td>\n      <td>...</td>\n      <td>...</td>\n      <td>...</td>\n      <td>...</td>\n      <td>...</td>\n      <td>...</td>\n    </tr>\n    <tr>\n      <th>354384</th>\n      <td>Yorkshire and The Humber, England</td>\n      <td>5245.0</td>\n      <td>1296</td>\n      <td>25625</td>\n      <td>False</td>\n      <td>2021-02-15 00:03:11</td>\n      <td>After weeks away now dipping in lightly &amp;amp; ...</td>\n      <td>Twitter for iPhone</td>\n      <td>2021-02-15 00:03:11</td>\n    </tr>\n    <tr>\n      <th>354385</th>\n      <td>San Francisco, CA</td>\n      <td>0.0</td>\n      <td>83</td>\n      <td>0</td>\n      <td>False</td>\n      <td>2021-02-15 00:01:02</td>\n      <td>I called my lola to wish her a Happy Valentine...</td>\n      <td>Twitter for iPhone</td>\n      <td>2021-02-15 00:01:02</td>\n    </tr>\n    <tr>\n      <th>354386</th>\n      <td>Jakarta</td>\n      <td>2954.0</td>\n      <td>1023</td>\n      <td>2</td>\n      <td>False</td>\n      <td>2021-02-15 00:00:56</td>\n      <td>Cambodia’s Ministry of Health approves emergen...</td>\n      <td>SocialPilot.co</td>\n      <td>2021-02-15 00:00:56</td>\n    </tr>\n    <tr>\n      <th>354387</th>\n      <td>India</td>\n      <td>1771.0</td>\n      <td>270</td>\n      <td>65</td>\n      <td>False</td>\n      <td>2021-02-15 00:00:56</td>\n      <td>Cambodia’s Ministry of Health approves emergen...</td>\n      <td>SocialPilot.co</td>\n      <td>2021-02-15 00:00:56</td>\n    </tr>\n    <tr>\n      <th>354388</th>\n      <td>Pennsylvania</td>\n      <td>1191.0</td>\n      <td>44</td>\n      <td>44</td>\n      <td>False</td>\n      <td>2021-02-15 00:00:09</td>\n      <td>Thanks for helping us get the word out, @abc27...</td>\n      <td>Twitter Web App</td>\n      <td>2021-02-15 00:00:09</td>\n    </tr>\n  </tbody>\n</table>\n<p>109325 rows × 9 columns</p>\n</div>"
     },
     "metadata": {},
     "execution_count": 5
    }
   ],
   "source": [
    "df2 = df.dropna()\n",
    "df2"
   ]
  },
  {
   "cell_type": "code",
   "execution_count": 6,
   "metadata": {},
   "outputs": [
    {
     "output_type": "execute_result",
     "data": {
      "text/plain": [
       "user_location       object\n",
       "user_followers     float64\n",
       "user_friends        object\n",
       "user_favourites     object\n",
       "user_verified       object\n",
       "date                object\n",
       "text                object\n",
       "source              object\n",
       "dtype: object"
      ]
     },
     "metadata": {},
     "execution_count": 6
    }
   ],
   "source": [
    "load_vaccine_csv().dtypes\n"
   ]
  },
  {
   "cell_type": "code",
   "execution_count": 7,
   "metadata": {},
   "outputs": [],
   "source": [
    "# function to display data of each tweet \n",
    "def printtweetdata(n, ith_tweet): \n",
    "    print() \n",
    "    print(f\"Tweet {n}:\") \n",
    "    print(f\"Username:{ith_tweet[0]}\") \n",
    "    print(f\"Description:{ith_tweet[1]}\") \n",
    "    print(f\"Location:{ith_tweet[2]}\") \n",
    "    print(f\"Following Count:{ith_tweet[3]}\") \n",
    "    print(f\"Follower Count:{ith_tweet[4]}\") \n",
    "    print(f\"Total Tweets:{ith_tweet[5]}\") \n",
    "    print(f\"Retweet Count:{ith_tweet[6]}\") \n",
    "    print(f\"Tweet Text:{ith_tweet[7]}\") \n",
    "    print(f\"Hashtags Used:{ith_tweet[8]}\") \n"
   ]
  },
  {
   "cell_type": "code",
   "execution_count": 9,
   "metadata": {
    "tags": [
     "outputPrepend"
    ]
   },
   "outputs": [
    {
     "output_type": "stream",
     "name": "stdout",
     "text": [
      " 28, 13, 6, 12), favourites_count=15208, utc_offset=None, time_zone=None, geo_enabled=False, verified=False, statuses_count=29726, lang=None, contributors_enabled=False, is_translator=False, is_translation_enabled=False, profile_background_color='C0DEED', profile_background_image_url='http://abs.twimg.com/images/themes/theme1/bg.png', profile_background_image_url_https='https://abs.twimg.com/images/themes/theme1/bg.png', profile_background_tile=False, profile_image_url='http://pbs.twimg.com/profile_images/1349186278017753092/nXhXk_DG_normal.jpg', profile_image_url_https='https://pbs.twimg.com/profile_images/1349186278017753092/nXhXk_DG_normal.jpg', profile_banner_url='https://pbs.twimg.com/profile_banners/19650288/1587368302', profile_link_color='1DA1F2', profile_sidebar_border_color='C0DEED', profile_sidebar_fill_color='DDEEF6', profile_text_color='333333', profile_use_background_image=True, has_extended_profile=False, default_profile=True, default_profile_image=False, following=False, follow_request_sent=False, notifications=False, translator_type='regular'), user=User(_api=<tweepy.api.API object at 0x7fd898434190>, _json={'id': 19650288, 'id_str': '19650288', 'name': 'Ruvan W', 'screen_name': 'ruvanw', 'location': '', 'description': 'Academic who believes one of our responsibilities is to protect people from politicians. \\nViews are personal, RTs & links are not always endorsements', 'url': None, 'entities': {'description': {'urls': []}}, 'protected': False, 'followers_count': 538, 'friends_count': 48, 'listed_count': 7, 'created_at': 'Wed Jan 28 13:06:12 +0000 2009', 'favourites_count': 15208, 'utc_offset': None, 'time_zone': None, 'geo_enabled': False, 'verified': False, 'statuses_count': 29726, 'lang': None, 'contributors_enabled': False, 'is_translator': False, 'is_translation_enabled': False, 'profile_background_color': 'C0DEED', 'profile_background_image_url': 'http://abs.twimg.com/images/themes/theme1/bg.png', 'profile_background_image_url_https': 'https://abs.twimg.com/images/themes/theme1/bg.png', 'profile_background_tile': False, 'profile_image_url': 'http://pbs.twimg.com/profile_images/1349186278017753092/nXhXk_DG_normal.jpg', 'profile_image_url_https': 'https://pbs.twimg.com/profile_images/1349186278017753092/nXhXk_DG_normal.jpg', 'profile_banner_url': 'https://pbs.twimg.com/profile_banners/19650288/1587368302', 'profile_link_color': '1DA1F2', 'profile_sidebar_border_color': 'C0DEED', 'profile_sidebar_fill_color': 'DDEEF6', 'profile_text_color': '333333', 'profile_use_background_image': True, 'has_extended_profile': False, 'default_profile': True, 'default_profile_image': False, 'following': False, 'follow_request_sent': False, 'notifications': False, 'translator_type': 'regular'}, id=19650288, id_str='19650288', name='Ruvan W', screen_name='ruvanw', location='', description='Academic who believes one of our responsibilities is to protect people from politicians. \\nViews are personal, RTs & links are not always endorsements', url=None, entities={'description': {'urls': []}}, protected=False, followers_count=538, friends_count=48, listed_count=7, created_at=datetime.datetime(2009, 1, 28, 13, 6, 12), favourites_count=15208, utc_offset=None, time_zone=None, geo_enabled=False, verified=False, statuses_count=29726, lang=None, contributors_enabled=False, is_translator=False, is_translation_enabled=False, profile_background_color='C0DEED', profile_background_image_url='http://abs.twimg.com/images/themes/theme1/bg.png', profile_background_image_url_https='https://abs.twimg.com/images/themes/theme1/bg.png', profile_background_tile=False, profile_image_url='http://pbs.twimg.com/profile_images/1349186278017753092/nXhXk_DG_normal.jpg', profile_image_url_https='https://pbs.twimg.com/profile_images/1349186278017753092/nXhXk_DG_normal.jpg', profile_banner_url='https://pbs.twimg.com/profile_banners/19650288/1587368302', profile_link_color='1DA1F2', profile_sidebar_border_color='C0DEED', profile_sidebar_fill_color='DDEEF6', profile_text_color='333333', profile_use_background_image=True, has_extended_profile=False, default_profile=True, default_profile_image=False, following=False, follow_request_sent=False, notifications=False, translator_type='regular'), geo=None, coordinates=None, place=None, contributors=None, is_quote_status=False, retweet_count=0, favorite_count=4, favorited=False, retweeted=False, lang='en')\n",
      "Status(_api=<tweepy.api.API object at 0x7fd898434190>, _json={'created_at': 'Fri Feb 26 16:59:48 +0000 2021', 'id': 1365345833667944460, 'id_str': '1365345833667944460', 'full_text': '@WHCOVIDResponse .... #COVID19Vaccine  i’ve lost some taste bud but I’m still going to eat..... since I did the video ... #covid https://t.co/JYf5LD4c2u', 'truncated': False, 'display_text_range': [17, 128], 'entities': {'hashtags': [{'text': 'COVID19Vaccine', 'indices': [22, 37]}, {'text': 'covid', 'indices': [122, 128]}], 'symbols': [], 'user_mentions': [{'screen_name': 'WHCOVIDResponse', 'name': 'White House COVID-19 Response Team', 'id': 1352064843432472578, 'id_str': '1352064843432472578', 'indices': [0, 16]}], 'urls': [], 'media': [{'id': 1365345524531011584, 'id_str': '1365345524531011584', 'indices': [129, 152], 'media_url': 'http://pbs.twimg.com/ext_tw_video_thumb/1365345524531011584/pu/img/DIJIWLpxYA4KyiOk.jpg', 'media_url_https': 'https://pbs.twimg.com/ext_tw_video_thumb/1365345524531011584/pu/img/DIJIWLpxYA4KyiOk.jpg', 'url': 'https://t.co/JYf5LD4c2u', 'display_url': 'pic.twitter.com/JYf5LD4c2u', 'expanded_url': 'https://twitter.com/FaceTheCuban/status/1365345833667944460/video/1', 'type': 'photo', 'sizes': {'thumb': {'w': 150, 'h': 150, 'resize': 'crop'}, 'small': {'w': 383, 'h': 680, 'resize': 'fit'}, 'large': {'w': 720, 'h': 1280, 'resize': 'fit'}, 'medium': {'w': 675, 'h': 1200, 'resize': 'fit'}}}]}, 'extended_entities': {'media': [{'id': 1365345524531011584, 'id_str': '1365345524531011584', 'indices': [129, 152], 'media_url': 'http://pbs.twimg.com/ext_tw_video_thumb/1365345524531011584/pu/img/DIJIWLpxYA4KyiOk.jpg', 'media_url_https': 'https://pbs.twimg.com/ext_tw_video_thumb/1365345524531011584/pu/img/DIJIWLpxYA4KyiOk.jpg', 'url': 'https://t.co/JYf5LD4c2u', 'display_url': 'pic.twitter.com/JYf5LD4c2u', 'expanded_url': 'https://twitter.com/FaceTheCuban/status/1365345833667944460/video/1', 'type': 'video', 'sizes': {'thumb': {'w': 150, 'h': 150, 'resize': 'crop'}, 'small': {'w': 383, 'h': 680, 'resize': 'fit'}, 'large': {'w': 720, 'h': 1280, 'resize': 'fit'}, 'medium': {'w': 675, 'h': 1200, 'resize': 'fit'}}, 'video_info': {'aspect_ratio': [9, 16], 'duration_millis': 36735, 'variants': [{'bitrate': 832000, 'content_type': 'video/mp4', 'url': 'https://video.twimg.com/ext_tw_video/1365345524531011584/pu/vid/360x640/mhwz_yFixpeJ5NsC.mp4?tag=10'}, {'bitrate': 632000, 'content_type': 'video/mp4', 'url': 'https://video.twimg.com/ext_tw_video/1365345524531011584/pu/vid/320x568/1IN76abgM9D3YpLR.mp4?tag=10'}, {'bitrate': 2176000, 'content_type': 'video/mp4', 'url': 'https://video.twimg.com/ext_tw_video/1365345524531011584/pu/vid/720x1280/audJE5U1RdouUn9J.mp4?tag=10'}, {'content_type': 'application/x-mpegURL', 'url': 'https://video.twimg.com/ext_tw_video/1365345524531011584/pu/pl/II4uepJyVKxy06Qz.m3u8?tag=10'}]}, 'additional_media_info': {'monetizable': False}}]}, 'metadata': {'iso_language_code': 'en', 'result_type': 'recent'}, 'source': '<a href=\"http://twitter.com/download/iphone\" rel=\"nofollow\">Twitter for iPhone</a>', 'in_reply_to_status_id': 1365345267160121349, 'in_reply_to_status_id_str': '1365345267160121349', 'in_reply_to_user_id': 1352064843432472578, 'in_reply_to_user_id_str': '1352064843432472578', 'in_reply_to_screen_name': 'WHCOVIDResponse', 'user': {'id': 830024261507088385, 'id_str': '830024261507088385', 'name': 'FaceTheCuban© 🎈', 'screen_name': 'FaceTheCuban', 'location': 'TJM POBox 102 Ft Laud Fl 33302', 'description': '💜#HUMANITY ☕️ pics&words© #Art #Entertainment 🐶#Awareness ℹ️ #TWEET🐝 *Interactive* 👈🏼#SirLRO⚜️ 🏳️\\u200d🌈🇨🇺🇺🇸 #JustSaying 💜👽', 'url': 'https://t.co/oHBWtShxBb', 'entities': {'url': {'urls': [{'url': 'https://t.co/oHBWtShxBb', 'expanded_url': 'https://linktr.ee/FaceTheCuban', 'display_url': 'linktr.ee/FaceTheCuban', 'indices': [0, 23]}]}, 'description': {'urls': []}}, 'protected': False, 'followers_count': 746, 'friends_count': 46, 'listed_count': 0, 'created_at': 'Fri Feb 10 12:02:59 +0000 2017', 'favourites_count': 124353, 'utc_offset': None, 'time_zone': None, 'geo_enabled': False, 'verified': False, 'statuses_count': 25313, 'lang': None, 'contributors_enabled': False, 'is_translator': False, 'is_translation_enabled': False, 'profile_background_color': 'F5F8FA', 'profile_background_image_url': None, 'profile_background_image_url_https': None, 'profile_background_tile': False, 'profile_image_url': 'http://pbs.twimg.com/profile_images/1356154096064077824/MXxwoXm7_normal.jpg', 'profile_image_url_https': 'https://pbs.twimg.com/profile_images/1356154096064077824/MXxwoXm7_normal.jpg', 'profile_banner_url': 'https://pbs.twimg.com/profile_banners/830024261507088385/1614267417', 'profile_link_color': '1DA1F2', 'profile_sidebar_border_color': 'C0DEED', 'profile_sidebar_fill_color': 'DDEEF6', 'profile_text_color': '333333', 'profile_use_background_image': True, 'has_extended_profile': True, 'default_profile': True, 'default_profile_image': False, 'following': False, 'follow_request_sent': False, 'notifications': False, 'translator_type': 'none'}, 'geo': None, 'coordinates': None, 'place': None, 'contributors': None, 'is_quote_status': False, 'retweet_count': 0, 'favorite_count': 2, 'favorited': False, 'retweeted': False, 'possibly_sensitive': False, 'lang': 'en'}, created_at=datetime.datetime(2021, 2, 26, 16, 59, 48), id=1365345833667944460, id_str='1365345833667944460', full_text='@WHCOVIDResponse .... #COVID19Vaccine  i’ve lost some taste bud but I’m still going to eat..... since I did the video ... #covid https://t.co/JYf5LD4c2u', truncated=False, display_text_range=[17, 128], entities={'hashtags': [{'text': 'COVID19Vaccine', 'indices': [22, 37]}, {'text': 'covid', 'indices': [122, 128]}], 'symbols': [], 'user_mentions': [{'screen_name': 'WHCOVIDResponse', 'name': 'White House COVID-19 Response Team', 'id': 1352064843432472578, 'id_str': '1352064843432472578', 'indices': [0, 16]}], 'urls': [], 'media': [{'id': 1365345524531011584, 'id_str': '1365345524531011584', 'indices': [129, 152], 'media_url': 'http://pbs.twimg.com/ext_tw_video_thumb/1365345524531011584/pu/img/DIJIWLpxYA4KyiOk.jpg', 'media_url_https': 'https://pbs.twimg.com/ext_tw_video_thumb/1365345524531011584/pu/img/DIJIWLpxYA4KyiOk.jpg', 'url': 'https://t.co/JYf5LD4c2u', 'display_url': 'pic.twitter.com/JYf5LD4c2u', 'expanded_url': 'https://twitter.com/FaceTheCuban/status/1365345833667944460/video/1', 'type': 'photo', 'sizes': {'thumb': {'w': 150, 'h': 150, 'resize': 'crop'}, 'small': {'w': 383, 'h': 680, 'resize': 'fit'}, 'large': {'w': 720, 'h': 1280, 'resize': 'fit'}, 'medium': {'w': 675, 'h': 1200, 'resize': 'fit'}}}]}, extended_entities={'media': [{'id': 1365345524531011584, 'id_str': '1365345524531011584', 'indices': [129, 152], 'media_url': 'http://pbs.twimg.com/ext_tw_video_thumb/1365345524531011584/pu/img/DIJIWLpxYA4KyiOk.jpg', 'media_url_https': 'https://pbs.twimg.com/ext_tw_video_thumb/1365345524531011584/pu/img/DIJIWLpxYA4KyiOk.jpg', 'url': 'https://t.co/JYf5LD4c2u', 'display_url': 'pic.twitter.com/JYf5LD4c2u', 'expanded_url': 'https://twitter.com/FaceTheCuban/status/1365345833667944460/video/1', 'type': 'video', 'sizes': {'thumb': {'w': 150, 'h': 150, 'resize': 'crop'}, 'small': {'w': 383, 'h': 680, 'resize': 'fit'}, 'large': {'w': 720, 'h': 1280, 'resize': 'fit'}, 'medium': {'w': 675, 'h': 1200, 'resize': 'fit'}}, 'video_info': {'aspect_ratio': [9, 16], 'duration_millis': 36735, 'variants': [{'bitrate': 832000, 'content_type': 'video/mp4', 'url': 'https://video.twimg.com/ext_tw_video/1365345524531011584/pu/vid/360x640/mhwz_yFixpeJ5NsC.mp4?tag=10'}, {'bitrate': 632000, 'content_type': 'video/mp4', 'url': 'https://video.twimg.com/ext_tw_video/1365345524531011584/pu/vid/320x568/1IN76abgM9D3YpLR.mp4?tag=10'}, {'bitrate': 2176000, 'content_type': 'video/mp4', 'url': 'https://video.twimg.com/ext_tw_video/1365345524531011584/pu/vid/720x1280/audJE5U1RdouUn9J.mp4?tag=10'}, {'content_type': 'application/x-mpegURL', 'url': 'https://video.twimg.com/ext_tw_video/1365345524531011584/pu/pl/II4uepJyVKxy06Qz.m3u8?tag=10'}]}, 'additional_media_info': {'monetizable': False}}]}, metadata={'iso_language_code': 'en', 'result_type': 'recent'}, source='Twitter for iPhone', source_url='http://twitter.com/download/iphone', in_reply_to_status_id=1365345267160121349, in_reply_to_status_id_str='1365345267160121349', in_reply_to_user_id=1352064843432472578, in_reply_to_user_id_str='1352064843432472578', in_reply_to_screen_name='WHCOVIDResponse', author=User(_api=<tweepy.api.API object at 0x7fd898434190>, _json={'id': 830024261507088385, 'id_str': '830024261507088385', 'name': 'FaceTheCuban© 🎈', 'screen_name': 'FaceTheCuban', 'location': 'TJM POBox 102 Ft Laud Fl 33302', 'description': '💜#HUMANITY ☕️ pics&words© #Art #Entertainment 🐶#Awareness ℹ️ #TWEET🐝 *Interactive* 👈🏼#SirLRO⚜️ 🏳️\\u200d🌈🇨🇺🇺🇸 #JustSaying 💜👽', 'url': 'https://t.co/oHBWtShxBb', 'entities': {'url': {'urls': [{'url': 'https://t.co/oHBWtShxBb', 'expanded_url': 'https://linktr.ee/FaceTheCuban', 'display_url': 'linktr.ee/FaceTheCuban', 'indices': [0, 23]}]}, 'description': {'urls': []}}, 'protected': False, 'followers_count': 746, 'friends_count': 46, 'listed_count': 0, 'created_at': 'Fri Feb 10 12:02:59 +0000 2017', 'favourites_count': 124353, 'utc_offset': None, 'time_zone': None, 'geo_enabled': False, 'verified': False, 'statuses_count': 25313, 'lang': None, 'contributors_enabled': False, 'is_translator': False, 'is_translation_enabled': False, 'profile_background_color': 'F5F8FA', 'profile_background_image_url': None, 'profile_background_image_url_https': None, 'profile_background_tile': False, 'profile_image_url': 'http://pbs.twimg.com/profile_images/1356154096064077824/MXxwoXm7_normal.jpg', 'profile_image_url_https': 'https://pbs.twimg.com/profile_images/1356154096064077824/MXxwoXm7_normal.jpg', 'profile_banner_url': 'https://pbs.twimg.com/profile_banners/830024261507088385/1614267417', 'profile_link_color': '1DA1F2', 'profile_sidebar_border_color': 'C0DEED', 'profile_sidebar_fill_color': 'DDEEF6', 'profile_text_color': '333333', 'profile_use_background_image': True, 'has_extended_profile': True, 'default_profile': True, 'default_profile_image': False, 'following': False, 'follow_request_sent': False, 'notifications': False, 'translator_type': 'none'}, id=830024261507088385, id_str='830024261507088385', name='FaceTheCuban© 🎈', screen_name='FaceTheCuban', location='TJM POBox 102 Ft Laud Fl 33302', description='💜#HUMANITY ☕️ pics&words© #Art #Entertainment 🐶#Awareness ℹ️ #TWEET🐝 *Interactive* 👈🏼#SirLRO⚜️ 🏳️\\u200d🌈🇨🇺🇺🇸 #JustSaying 💜👽', url='https://t.co/oHBWtShxBb', entities={'url': {'urls': [{'url': 'https://t.co/oHBWtShxBb', 'expanded_url': 'https://linktr.ee/FaceTheCuban', 'display_url': 'linktr.ee/FaceTheCuban', 'indices': [0, 23]}]}, 'description': {'urls': []}}, protected=False, followers_count=746, friends_count=46, listed_count=0, created_at=datetime.datetime(2017, 2, 10, 12, 2, 59), favourites_count=124353, utc_offset=None, time_zone=None, geo_enabled=False, verified=False, statuses_count=25313, lang=None, contributors_enabled=False, is_translator=False, is_translation_enabled=False, profile_background_color='F5F8FA', profile_background_image_url=None, profile_background_image_url_https=None, profile_background_tile=False, profile_image_url='http://pbs.twimg.com/profile_images/1356154096064077824/MXxwoXm7_normal.jpg', profile_image_url_https='https://pbs.twimg.com/profile_images/1356154096064077824/MXxwoXm7_normal.jpg', profile_banner_url='https://pbs.twimg.com/profile_banners/830024261507088385/1614267417', profile_link_color='1DA1F2', profile_sidebar_border_color='C0DEED', profile_sidebar_fill_color='DDEEF6', profile_text_color='333333', profile_use_background_image=True, has_extended_profile=True, default_profile=True, default_profile_image=False, following=False, follow_request_sent=False, notifications=False, translator_type='none'), user=User(_api=<tweepy.api.API object at 0x7fd898434190>, _json={'id': 830024261507088385, 'id_str': '830024261507088385', 'name': 'FaceTheCuban© 🎈', 'screen_name': 'FaceTheCuban', 'location': 'TJM POBox 102 Ft Laud Fl 33302', 'description': '💜#HUMANITY ☕️ pics&words© #Art #Entertainment 🐶#Awareness ℹ️ #TWEET🐝 *Interactive* 👈🏼#SirLRO⚜️ 🏳️\\u200d🌈🇨🇺🇺🇸 #JustSaying 💜👽', 'url': 'https://t.co/oHBWtShxBb', 'entities': {'url': {'urls': [{'url': 'https://t.co/oHBWtShxBb', 'expanded_url': 'https://linktr.ee/FaceTheCuban', 'display_url': 'linktr.ee/FaceTheCuban', 'indices': [0, 23]}]}, 'description': {'urls': []}}, 'protected': False, 'followers_count': 746, 'friends_count': 46, 'listed_count': 0, 'created_at': 'Fri Feb 10 12:02:59 +0000 2017', 'favourites_count': 124353, 'utc_offset': None, 'time_zone': None, 'geo_enabled': False, 'verified': False, 'statuses_count': 25313, 'lang': None, 'contributors_enabled': False, 'is_translator': False, 'is_translation_enabled': False, 'profile_background_color': 'F5F8FA', 'profile_background_image_url': None, 'profile_background_image_url_https': None, 'profile_background_tile': False, 'profile_image_url': 'http://pbs.twimg.com/profile_images/1356154096064077824/MXxwoXm7_normal.jpg', 'profile_image_url_https': 'https://pbs.twimg.com/profile_images/1356154096064077824/MXxwoXm7_normal.jpg', 'profile_banner_url': 'https://pbs.twimg.com/profile_banners/830024261507088385/1614267417', 'profile_link_color': '1DA1F2', 'profile_sidebar_border_color': 'C0DEED', 'profile_sidebar_fill_color': 'DDEEF6', 'profile_text_color': '333333', 'profile_use_background_image': True, 'has_extended_profile': True, 'default_profile': True, 'default_profile_image': False, 'following': False, 'follow_request_sent': False, 'notifications': False, 'translator_type': 'none'}, id=830024261507088385, id_str='830024261507088385', name='FaceTheCuban© 🎈', screen_name='FaceTheCuban', location='TJM POBox 102 Ft Laud Fl 33302', description='💜#HUMANITY ☕️ pics&words© #Art #Entertainment 🐶#Awareness ℹ️ #TWEET🐝 *Interactive* 👈🏼#SirLRO⚜️ 🏳️\\u200d🌈🇨🇺🇺🇸 #JustSaying 💜👽', url='https://t.co/oHBWtShxBb', entities={'url': {'urls': [{'url': 'https://t.co/oHBWtShxBb', 'expanded_url': 'https://linktr.ee/FaceTheCuban', 'display_url': 'linktr.ee/FaceTheCuban', 'indices': [0, 23]}]}, 'description': {'urls': []}}, protected=False, followers_count=746, friends_count=46, listed_count=0, created_at=datetime.datetime(2017, 2, 10, 12, 2, 59), favourites_count=124353, utc_offset=None, time_zone=None, geo_enabled=False, verified=False, statuses_count=25313, lang=None, contributors_enabled=False, is_translator=False, is_translation_enabled=False, profile_background_color='F5F8FA', profile_background_image_url=None, profile_background_image_url_https=None, profile_background_tile=False, profile_image_url='http://pbs.twimg.com/profile_images/1356154096064077824/MXxwoXm7_normal.jpg', profile_image_url_https='https://pbs.twimg.com/profile_images/1356154096064077824/MXxwoXm7_normal.jpg', profile_banner_url='https://pbs.twimg.com/profile_banners/830024261507088385/1614267417', profile_link_color='1DA1F2', profile_sidebar_border_color='C0DEED', profile_sidebar_fill_color='DDEEF6', profile_text_color='333333', profile_use_background_image=True, has_extended_profile=True, default_profile=True, default_profile_image=False, following=False, follow_request_sent=False, notifications=False, translator_type='none'), geo=None, coordinates=None, place=None, contributors=None, is_quote_status=False, retweet_count=0, favorite_count=2, favorited=False, retweeted=False, possibly_sensitive=False, lang='en')\n",
      "Scraping has completed!\n"
     ]
    }
   ],
   "source": [
    " # Enter your own credentials obtained  \n",
    "    # from your developer account \n",
    "consumer_key = \"SCOPBRKeG4nRCEa7XkMoqQ\"\n",
    "consumer_secret = \"RYInMkLiNyg0iKC3g89Y0f8g8kbNFSsNjZXNYBYILQ\"\n",
    "access_key = \"107275871-PtAa9t7OJX82IEbGjdOzaFMgeCWQyU8haNPhN4mD\"\n",
    "access_secret = \"Q691rTrztjXeYAP5FEA5kZWRhuFRtH8sq6msPgUeD1TzI\"\n",
    "auth = tweepy.OAuthHandler(consumer_key, consumer_secret) \n",
    "auth.set_access_token(access_key, access_secret) \n",
    "api = tweepy.API(auth) \n",
    "    \n",
    "# Enter Hashtag and initial date \n",
    "# print(\"Enter Twitter HashTag to search for\") \n",
    "words = 'covid19vaccine' \n",
    "# print(\"Enter Date since The Tweets are required in yyyy-mm--dd\") \n",
    "date_since = '2016-01-01' \n",
    "    \n",
    "# number of tweets you want to extract in one run \n",
    "numtweet = 1000  \n",
    "df = scrape(words, date_since, numtweet) \n",
    "print('Scraping has completed!') "
   ]
  },
  {
   "cell_type": "code",
   "execution_count": 8,
   "metadata": {},
   "outputs": [],
   "source": [
    "# function to perform data extraction \n",
    "def scrape(words, date_since, numtweet): \n",
    "      \n",
    "    # Creating DataFrame using pandas \n",
    "    db = pd.DataFrame(columns=['username', 'description', 'location', 'following', \n",
    "                               'followers', 'totaltweets', 'retweetcount', 'text', 'hashtags', 'created_at']) \n",
    "      \n",
    "    # We are using .Cursor() to search through twitter for the required tweets. \n",
    "    # The number of tweets can be restricted using .items(number of tweets) \n",
    "    tweets = tweepy.Cursor(api.search, q=words + \" -filter:retweets\", lang=\"en\", \n",
    "                           since=date_since, tweet_mode='extended').items(numtweet) \n",
    "     \n",
    "    list_tweets = []\n",
    "    while True:\n",
    "        try:\n",
    "            tweet = tweets.next()\n",
    "            print(tweet)\n",
    "            list_tweets.append(tweet)\n",
    "            # Insert into db\n",
    "        except tweepy.TweepError:\n",
    "            time.sleep(60 * 15)\n",
    "            continue\n",
    "        except StopIteration:\n",
    "            break\n",
    "    # .Cursor() returns an iterable object. Each item in  \n",
    "    # the iterator has various attributes that you can access to  \n",
    "    # get information about each tweet \n",
    "    # list_tweets = [tweet for tweet in tweets] \n",
    "      \n",
    "    # Counter to maintain Tweet Count \n",
    "    i = 1  \n",
    "      \n",
    "    # we will iterate over each tweet in the list for extracting information about each tweet \n",
    "    for tweet in list_tweets: \n",
    "        print(tweet)\n",
    "        username = tweet.user.screen_name \n",
    "        description = tweet.user.description \n",
    "        location = tweet.user.location \n",
    "        following = tweet.user.friends_count \n",
    "        followers = tweet.user.followers_count \n",
    "        totaltweets = tweet.user.statuses_count \n",
    "        retweetcount = tweet.retweet_count \n",
    "        created_at = tweet.created_at\n",
    "        hashtags = tweet.entities['hashtags'] \n",
    "          \n",
    "        # Retweets can be distinguished by a retweeted_status attribute, \n",
    "        # in case it is an invalid reference, except block will be executed \n",
    "        try: \n",
    "            text = tweet.retweeted_status.full_text \n",
    "            all_tweets.append(text)\n",
    "            # print(text)\n",
    "        except AttributeError: \n",
    "            text = tweet.full_text \n",
    "        hashtext = list() \n",
    "        for j in range(0, len(hashtags)): \n",
    "            hashtext.append(hashtags[j]['text']) \n",
    "          \n",
    "        # Here we are appending all the extracted information in the DataFrame \n",
    "        ith_tweet = [username, description, location, following, \n",
    "                     followers, totaltweets, retweetcount, text, hashtext, created_at] \n",
    "        db.loc[len(db)] = ith_tweet \n",
    "          \n",
    "        # Function call to print tweet data on screen \n",
    "        # printtweetdata(i, ith_tweet) \n",
    "        i = i+1\n",
    "    filename = 'scraped_tweets.csv'\n",
    "      \n",
    "    # we will save our database as a CSV file. \n",
    "    db.to_csv(filename) \n",
    "    return db"
   ]
  },
  {
   "cell_type": "code",
   "execution_count": 15,
   "metadata": {
    "tags": []
   },
   "outputs": [
    {
     "output_type": "execute_result",
     "data": {
      "text/plain": [
       "         username description location  following  followers  totaltweets  \\\n",
       "count        1000        1000     1000     1000.0     1000.0       1000.0   \n",
       "unique        934         884      567      749.0      739.0        888.0   \n",
       "top     JudoWalby                          2173.0     2484.0       2690.0   \n",
       "freq            7          53      183        7.0        7.0          7.0   \n",
       "first         NaN         NaN      NaN        NaN        NaN          NaN   \n",
       "last          NaN         NaN      NaN        NaN        NaN          NaN   \n",
       "\n",
       "        retweetcount                                               text  \\\n",
       "count         1000.0                                               1000   \n",
       "unique          22.0                                               1000   \n",
       "top              0.0  in the US An estimated 81m adults have circums...   \n",
       "freq           782.0                                                  1   \n",
       "first            NaN                                                NaN   \n",
       "last             NaN                                                NaN   \n",
       "\n",
       "                hashtags           created_at  \n",
       "count               1000                 1000  \n",
       "unique               574                  972  \n",
       "top     [COVID19Vaccine]  2021-02-26 19:57:03  \n",
       "freq                 305                    2  \n",
       "first                NaN  2021-02-26 16:59:48  \n",
       "last                 NaN  2021-02-26 21:52:47  "
      ],
      "text/html": "<div>\n<style scoped>\n    .dataframe tbody tr th:only-of-type {\n        vertical-align: middle;\n    }\n\n    .dataframe tbody tr th {\n        vertical-align: top;\n    }\n\n    .dataframe thead th {\n        text-align: right;\n    }\n</style>\n<table border=\"1\" class=\"dataframe\">\n  <thead>\n    <tr style=\"text-align: right;\">\n      <th></th>\n      <th>username</th>\n      <th>description</th>\n      <th>location</th>\n      <th>following</th>\n      <th>followers</th>\n      <th>totaltweets</th>\n      <th>retweetcount</th>\n      <th>text</th>\n      <th>hashtags</th>\n      <th>created_at</th>\n    </tr>\n  </thead>\n  <tbody>\n    <tr>\n      <th>count</th>\n      <td>1000</td>\n      <td>1000</td>\n      <td>1000</td>\n      <td>1000.0</td>\n      <td>1000.0</td>\n      <td>1000.0</td>\n      <td>1000.0</td>\n      <td>1000</td>\n      <td>1000</td>\n      <td>1000</td>\n    </tr>\n    <tr>\n      <th>unique</th>\n      <td>934</td>\n      <td>884</td>\n      <td>567</td>\n      <td>749.0</td>\n      <td>739.0</td>\n      <td>888.0</td>\n      <td>22.0</td>\n      <td>1000</td>\n      <td>574</td>\n      <td>972</td>\n    </tr>\n    <tr>\n      <th>top</th>\n      <td>JudoWalby</td>\n      <td></td>\n      <td></td>\n      <td>2173.0</td>\n      <td>2484.0</td>\n      <td>2690.0</td>\n      <td>0.0</td>\n      <td>in the US An estimated 81m adults have circums...</td>\n      <td>[COVID19Vaccine]</td>\n      <td>2021-02-26 19:57:03</td>\n    </tr>\n    <tr>\n      <th>freq</th>\n      <td>7</td>\n      <td>53</td>\n      <td>183</td>\n      <td>7.0</td>\n      <td>7.0</td>\n      <td>7.0</td>\n      <td>782.0</td>\n      <td>1</td>\n      <td>305</td>\n      <td>2</td>\n    </tr>\n    <tr>\n      <th>first</th>\n      <td>NaN</td>\n      <td>NaN</td>\n      <td>NaN</td>\n      <td>NaN</td>\n      <td>NaN</td>\n      <td>NaN</td>\n      <td>NaN</td>\n      <td>NaN</td>\n      <td>NaN</td>\n      <td>2021-02-26 16:59:48</td>\n    </tr>\n    <tr>\n      <th>last</th>\n      <td>NaN</td>\n      <td>NaN</td>\n      <td>NaN</td>\n      <td>NaN</td>\n      <td>NaN</td>\n      <td>NaN</td>\n      <td>NaN</td>\n      <td>NaN</td>\n      <td>NaN</td>\n      <td>2021-02-26 21:52:47</td>\n    </tr>\n  </tbody>\n</table>\n</div>"
     },
     "metadata": {},
     "execution_count": 15
    }
   ],
   "source": [
    "\n",
    "df.describe()\n",
    "# ####input your credentials here\n",
    "# consumer_key = 'SCOPBRKeG4nRCEa7XkMoqQ'\n",
    "# consumer_secret = 'RYInMkLiNyg0iKC3g89Y0f8g8kbNFSsNjZXNYBYILQ'\n",
    "# access_token = '107275871-PtAa9t7OJX82IEbGjdOzaFMgeCWQyU8haNPhN4mD'\n",
    "# access_token_secret = 'Q691rTrztjXeYAP5FEA5kZWRhuFRtH8sq6msPgUeD1TzI'\n",
    "\n",
    "# auth = tweepy.OAuthHandler(consumer_key, consumer_secret)\n",
    "# auth.set_access_token(access_token, access_token_secret)\n",
    "# api = tweepy.API(auth,wait_on_rate_limit=True)\n",
    "# #####United Airlines\n",
    "# # Open/Create a file to append data\n",
    "# csvFile = open('ua.csv', 'a')\n",
    "# #Use csv Writer\n",
    "# csvWriter = csv.writer(csvFile)\n",
    "\n",
    "# all_tweets = []\n",
    "\n",
    "# for tweet in tweepy.Cursor(api.search,q=\"#dulux\",count=100,\n",
    "#                            lang=\"en\",\n",
    "#                            since=\"2015-11-03\").items():\n",
    "#     print (tweet.created_at, tweet.text)\n",
    "#     all_tweets.append(tweet.text)\n",
    "#     csvWriter.writerow([tweet.created_at, tweet.text.encode('utf-8')])"
   ]
  },
  {
   "cell_type": "code",
   "execution_count": 16,
   "metadata": {},
   "outputs": [
    {
     "output_type": "stream",
     "name": "stderr",
     "text": [
      "[nltk_data] Downloading package wordnet to\n[nltk_data]     /Users/nimendrapethiyagoda/nltk_data...\n[nltk_data]   Package wordnet is already up-to-date!\n"
     ]
    }
   ],
   "source": [
    "import nltk\n",
    "nltk.download('wordnet')\n",
    "\n",
    "lemmatizer = WordNetLemmatizer()"
   ]
  },
  {
   "cell_type": "code",
   "execution_count": 17,
   "metadata": {},
   "outputs": [],
   "source": [
    "def process_text(doc):\n",
    "    sw = set(stopwords.words('english'))\n",
    "    regex = re.compile(\"[^a-zA-Z ]\")\n",
    "    re_clean = regex.sub('', doc)\n",
    "    words = word_tokenize(re_clean)\n",
    "    lem = [lemmatizer.lemmatize(word) for word in words]\n",
    "    output = [word.lower() for word in lem if word.lower() not in sw]\n",
    "    return ' '.join(output)"
   ]
  },
  {
   "cell_type": "code",
   "execution_count": 21,
   "metadata": {},
   "outputs": [
    {
     "output_type": "execute_result",
     "data": {
      "text/plain": [
       "[]"
      ]
     },
     "metadata": {},
     "execution_count": 21
    }
   ],
   "source": [
    "big_string = ' '.join(all_tweets)\n",
    "input_text = process_text(big_string)\n",
    "all_tweets"
   ]
  },
  {
   "cell_type": "code",
   "execution_count": 14,
   "metadata": {},
   "outputs": [
    {
     "output_type": "error",
     "ename": "ValueError",
     "evalue": "We need at least 1 word to plot a word cloud, got 0.",
     "traceback": [
      "\u001b[0;31m---------------------------------------------------------------------------\u001b[0m",
      "\u001b[0;31mValueError\u001b[0m                                Traceback (most recent call last)",
      "\u001b[0;32m<ipython-input-14-65f0be8ac7c9>\u001b[0m in \u001b[0;36m<module>\u001b[0;34m\u001b[0m\n\u001b[0;32m----> 1\u001b[0;31m \u001b[0mwc\u001b[0m \u001b[0;34m=\u001b[0m \u001b[0mWordCloud\u001b[0m\u001b[0;34m(\u001b[0m\u001b[0mmax_font_size\u001b[0m\u001b[0;34m=\u001b[0m\u001b[0;36m50\u001b[0m\u001b[0;34m,\u001b[0m \u001b[0mmax_words\u001b[0m\u001b[0;34m=\u001b[0m\u001b[0;36m100\u001b[0m\u001b[0;34m,\u001b[0m \u001b[0mbackground_color\u001b[0m\u001b[0;34m=\u001b[0m\u001b[0;34m\"white\"\u001b[0m\u001b[0;34m)\u001b[0m\u001b[0;34m.\u001b[0m\u001b[0mgenerate\u001b[0m\u001b[0;34m(\u001b[0m\u001b[0minput_text\u001b[0m\u001b[0;34m)\u001b[0m\u001b[0;34m\u001b[0m\u001b[0;34m\u001b[0m\u001b[0m\n\u001b[0m\u001b[1;32m      2\u001b[0m \u001b[0;31m# plt.imshow(wc)\u001b[0m\u001b[0;34m\u001b[0m\u001b[0;34m\u001b[0m\u001b[0;34m\u001b[0m\u001b[0m\n\u001b[1;32m      3\u001b[0m \u001b[0mplt\u001b[0m\u001b[0;34m.\u001b[0m\u001b[0mfigure\u001b[0m\u001b[0;34m(\u001b[0m\u001b[0mfigsize\u001b[0m\u001b[0;34m=\u001b[0m\u001b[0;34m(\u001b[0m\u001b[0;36m100\u001b[0m\u001b[0;34m,\u001b[0m\u001b[0;36m20\u001b[0m\u001b[0;34m)\u001b[0m\u001b[0;34m)\u001b[0m\u001b[0;34m\u001b[0m\u001b[0;34m\u001b[0m\u001b[0m\n\u001b[1;32m      4\u001b[0m \u001b[0mplt\u001b[0m\u001b[0;34m.\u001b[0m\u001b[0mimshow\u001b[0m\u001b[0;34m(\u001b[0m\u001b[0mwc\u001b[0m\u001b[0;34m,\u001b[0m \u001b[0minterpolation\u001b[0m\u001b[0;34m=\u001b[0m\u001b[0;34m\"bilinear\"\u001b[0m\u001b[0;34m)\u001b[0m\u001b[0;34m\u001b[0m\u001b[0;34m\u001b[0m\u001b[0m\n\u001b[1;32m      5\u001b[0m \u001b[0mplt\u001b[0m\u001b[0;34m.\u001b[0m\u001b[0maxis\u001b[0m\u001b[0;34m(\u001b[0m\u001b[0;34m\"off\"\u001b[0m\u001b[0;34m)\u001b[0m\u001b[0;34m\u001b[0m\u001b[0;34m\u001b[0m\u001b[0m\n",
      "\u001b[0;32m~/opt/anaconda3/envs/p37env/lib/python3.7/site-packages/wordcloud/wordcloud.py\u001b[0m in \u001b[0;36mgenerate\u001b[0;34m(self, text)\u001b[0m\n\u001b[1;32m    630\u001b[0m         \u001b[0mself\u001b[0m\u001b[0;34m\u001b[0m\u001b[0;34m\u001b[0m\u001b[0m\n\u001b[1;32m    631\u001b[0m         \"\"\"\n\u001b[0;32m--> 632\u001b[0;31m         \u001b[0;32mreturn\u001b[0m \u001b[0mself\u001b[0m\u001b[0;34m.\u001b[0m\u001b[0mgenerate_from_text\u001b[0m\u001b[0;34m(\u001b[0m\u001b[0mtext\u001b[0m\u001b[0;34m)\u001b[0m\u001b[0;34m\u001b[0m\u001b[0;34m\u001b[0m\u001b[0m\n\u001b[0m\u001b[1;32m    633\u001b[0m \u001b[0;34m\u001b[0m\u001b[0m\n\u001b[1;32m    634\u001b[0m     \u001b[0;32mdef\u001b[0m \u001b[0m_check_generated\u001b[0m\u001b[0;34m(\u001b[0m\u001b[0mself\u001b[0m\u001b[0;34m)\u001b[0m\u001b[0;34m:\u001b[0m\u001b[0;34m\u001b[0m\u001b[0;34m\u001b[0m\u001b[0m\n",
      "\u001b[0;32m~/opt/anaconda3/envs/p37env/lib/python3.7/site-packages/wordcloud/wordcloud.py\u001b[0m in \u001b[0;36mgenerate_from_text\u001b[0;34m(self, text)\u001b[0m\n\u001b[1;32m    612\u001b[0m         \"\"\"\n\u001b[1;32m    613\u001b[0m         \u001b[0mwords\u001b[0m \u001b[0;34m=\u001b[0m \u001b[0mself\u001b[0m\u001b[0;34m.\u001b[0m\u001b[0mprocess_text\u001b[0m\u001b[0;34m(\u001b[0m\u001b[0mtext\u001b[0m\u001b[0;34m)\u001b[0m\u001b[0;34m\u001b[0m\u001b[0;34m\u001b[0m\u001b[0m\n\u001b[0;32m--> 614\u001b[0;31m         \u001b[0mself\u001b[0m\u001b[0;34m.\u001b[0m\u001b[0mgenerate_from_frequencies\u001b[0m\u001b[0;34m(\u001b[0m\u001b[0mwords\u001b[0m\u001b[0;34m)\u001b[0m\u001b[0;34m\u001b[0m\u001b[0;34m\u001b[0m\u001b[0m\n\u001b[0m\u001b[1;32m    615\u001b[0m         \u001b[0;32mreturn\u001b[0m \u001b[0mself\u001b[0m\u001b[0;34m\u001b[0m\u001b[0;34m\u001b[0m\u001b[0m\n\u001b[1;32m    616\u001b[0m \u001b[0;34m\u001b[0m\u001b[0m\n",
      "\u001b[0;32m~/opt/anaconda3/envs/p37env/lib/python3.7/site-packages/wordcloud/wordcloud.py\u001b[0m in \u001b[0;36mgenerate_from_frequencies\u001b[0;34m(self, frequencies, max_font_size)\u001b[0m\n\u001b[1;32m    402\u001b[0m         \u001b[0;32mif\u001b[0m \u001b[0mlen\u001b[0m\u001b[0;34m(\u001b[0m\u001b[0mfrequencies\u001b[0m\u001b[0;34m)\u001b[0m \u001b[0;34m<=\u001b[0m \u001b[0;36m0\u001b[0m\u001b[0;34m:\u001b[0m\u001b[0;34m\u001b[0m\u001b[0;34m\u001b[0m\u001b[0m\n\u001b[1;32m    403\u001b[0m             raise ValueError(\"We need at least 1 word to plot a word cloud, \"\n\u001b[0;32m--> 404\u001b[0;31m                              \"got %d.\" % len(frequencies))\n\u001b[0m\u001b[1;32m    405\u001b[0m         \u001b[0mfrequencies\u001b[0m \u001b[0;34m=\u001b[0m \u001b[0mfrequencies\u001b[0m\u001b[0;34m[\u001b[0m\u001b[0;34m:\u001b[0m\u001b[0mself\u001b[0m\u001b[0;34m.\u001b[0m\u001b[0mmax_words\u001b[0m\u001b[0;34m]\u001b[0m\u001b[0;34m\u001b[0m\u001b[0;34m\u001b[0m\u001b[0m\n\u001b[1;32m    406\u001b[0m \u001b[0;34m\u001b[0m\u001b[0m\n",
      "\u001b[0;31mValueError\u001b[0m: We need at least 1 word to plot a word cloud, got 0."
     ]
    }
   ],
   "source": [
    "wc = WordCloud(max_font_size=50, max_words=100, background_color=\"white\").generate(input_text)\n",
    "# plt.imshow(wc)\n",
    "plt.figure(figsize=(100,20))\n",
    "plt.imshow(wc, interpolation=\"bilinear\")\n",
    "plt.axis(\"off\")\n",
    "plt.show()"
   ]
  },
  {
   "cell_type": "code",
   "execution_count": null,
   "metadata": {},
   "outputs": [],
   "source": [
    "def process_text_bg(doc):\n",
    "    sw = set(stopwords.words('english'))\n",
    "    regex = re.compile(\"[^a-zA-Z ]\")\n",
    "    re_clean = regex.sub('', doc)\n",
    "    words = word_tokenize(re_clean)\n",
    "    lem = [lemmatizer.lemmatize(word) for word in words]\n",
    "    sw_words = [word.lower() for word in lem if word.lower() not in sw]\n",
    "    bigrams = ngrams(sw_words, 2)\n",
    "    output = ['_'.join(i) for i in bigrams]\n",
    "    return ' '.join(output)"
   ]
  },
  {
   "cell_type": "code",
   "execution_count": null,
   "metadata": {},
   "outputs": [],
   "source": [
    "from nltk.util import ngrams\n",
    "input_bigrams = process_text_bg(big_string)\n",
    "wc = WordCloud().generate(input_bigrams)\n",
    "plt.figure(figsize=(15,24))\n",
    "plt.imshow(wc)\n",
    "plt.axis(\"off\")\n",
    "plt.show()"
   ]
  },
  {
   "cell_type": "code",
   "execution_count": null,
   "metadata": {},
   "outputs": [],
   "source": [
    "# all_tweets"
   ]
  },
  {
   "cell_type": "code",
   "execution_count": null,
   "metadata": {},
   "outputs": [],
   "source": [
    "db"
   ]
  }
 ]
}